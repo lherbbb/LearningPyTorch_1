{
 "cells": [
  {
   "metadata": {},
   "cell_type": "raw",
   "source": "",
   "id": "cd200978c6ee3c41"
  },
  {
   "metadata": {
    "ExecuteTime": {
     "end_time": "2025-07-08T02:56:37.143166Z",
     "start_time": "2025-07-08T02:56:37.136466Z"
    }
   },
   "cell_type": "code",
   "source": [
    "import torch\n",
    "import matplotlib.pyplot as plt\n",
    "import numpy as np\n",
    "from torch import nn"
   ],
   "id": "781c629f03d3e2ed",
   "outputs": [],
   "execution_count": 74
  },
  {
   "metadata": {},
   "cell_type": "markdown",
   "source": [
    "### PyTorch Workflow\n",
    "Lets explore an example of PyTorch end-to-end workflow\n",
    "<br>"
   ],
   "id": "9f8ca08c14f9ca1c"
  },
  {
   "metadata": {
    "ExecuteTime": {
     "end_time": "2025-07-08T02:56:37.165629Z",
     "start_time": "2025-07-08T02:56:37.162951Z"
    }
   },
   "cell_type": "code",
   "source": [
    "what_were_covering = {1: \"data (prepare and load)\",\n",
    "                      2: \"build model\",\n",
    "                      3: \"fitting the model to data (training)\",\n",
    "                      4: \"making predictions and evaluating a model (inference)\",\n",
    "                      5: \"saving and loading a model\",\n",
    "                      6: \"putting it all together\"}"
   ],
   "id": "dc3df3a5ecb673f9",
   "outputs": [],
   "execution_count": 75
  },
  {
   "metadata": {
    "ExecuteTime": {
     "end_time": "2025-07-08T02:56:37.184269Z",
     "start_time": "2025-07-08T02:56:37.181404Z"
    }
   },
   "cell_type": "code",
   "source": [
    "from torch import nn # nn contains building all of PyTorchs building blocks for neural networks\n",
    "# check PyTorch Version\n",
    "\n"
   ],
   "id": "952fb3bd82245a23",
   "outputs": [],
   "execution_count": 76
  },
  {
   "metadata": {},
   "cell_type": "markdown",
   "source": [
    "## Data (Preparing and Loading)\n",
    "Data can be almost anything... in machine learning/\n",
    "* Excel spreadsheet\n",
    "* Images of any kind\n",
    "* Videos\n",
    "* Audio\n",
    "* DNA\n",
    "<br>\n",
    "Machine Learning is a game of two parts\"\n",
    "1. Get data into numerical representation.\n",
    "2. Build a model to learn patters in that numerical representations\n",
    "<br>"
   ],
   "id": "2d525706486fc4eb"
  },
  {
   "metadata": {
    "ExecuteTime": {
     "end_time": "2025-07-08T02:56:37.218636Z",
     "start_time": "2025-07-08T02:56:37.202453Z"
    }
   },
   "cell_type": "code",
   "source": [
    "# Create *know* parameters\n",
    "weight = 0.7\n",
    "bias = 0.3\n",
    "\n",
    "\n",
    "# Create\n",
    "start = 0\n",
    "end = 1\n",
    "step = 0.02\n",
    "X = torch.arange(start, end, step).unsqueeze(1)\n",
    "y = weight * X + bias\n",
    "X[:10], y[:10]\n"
   ],
   "id": "d28cb0aba3dbfe0c",
   "outputs": [
    {
     "data": {
      "text/plain": [
       "(tensor([[0.0000],\n",
       "         [0.0200],\n",
       "         [0.0400],\n",
       "         [0.0600],\n",
       "         [0.0800],\n",
       "         [0.1000],\n",
       "         [0.1200],\n",
       "         [0.1400],\n",
       "         [0.1600],\n",
       "         [0.1800]]),\n",
       " tensor([[0.3000],\n",
       "         [0.3140],\n",
       "         [0.3280],\n",
       "         [0.3420],\n",
       "         [0.3560],\n",
       "         [0.3700],\n",
       "         [0.3840],\n",
       "         [0.3980],\n",
       "         [0.4120],\n",
       "         [0.4260]]))"
      ]
     },
     "execution_count": 77,
     "metadata": {},
     "output_type": "execute_result"
    }
   ],
   "execution_count": 77
  },
  {
   "metadata": {},
   "cell_type": "markdown",
   "source": "### Splitting data into training and test sets",
   "id": "c1246204a6c1575b"
  },
  {
   "metadata": {
    "ExecuteTime": {
     "end_time": "2025-07-08T02:56:37.257790Z",
     "start_time": "2025-07-08T02:56:37.253912Z"
    }
   },
   "cell_type": "code",
   "source": [
    "# Create a train/test split\n",
    "train_split = int(0.8 * len(X))\n",
    "X_train, X_test = X[:train_split], X[train_split:]\n",
    "y_train, y_test = y[:train_split], y[train_split:]\n",
    "len(X_train), len(X_test), len(y_train), len(y_test)"
   ],
   "id": "931f10705168758e",
   "outputs": [
    {
     "data": {
      "text/plain": [
       "(40, 10, 40, 10)"
      ]
     },
     "execution_count": 78,
     "metadata": {},
     "output_type": "execute_result"
    }
   ],
   "execution_count": 78
  },
  {
   "metadata": {},
   "cell_type": "markdown",
   "source": "### How to better visualize data:",
   "id": "36c46920a1e6a345"
  },
  {
   "metadata": {
    "ExecuteTime": {
     "end_time": "2025-07-08T02:56:37.291562Z",
     "start_time": "2025-07-08T02:56:37.287068Z"
    }
   },
   "cell_type": "code",
   "source": [
    "def plot_predictions(train_data=X_train,\n",
    "                     train_labels=y_train,\n",
    "                     test_data=X_test,\n",
    "                     test_labels=y_test,\n",
    "                     predictions=None):\n",
    "    plt.figure(figsize=(10,6))\n",
    "    # Plot training data in blue\n",
    "    plt.scatter(train_data, train_labels, c=\"b\", s=4, label=\"Training data\")\n",
    "\n",
    "    # Plot test data in green\n",
    "    plt.scatter(test_data, test_labels, c=\"g\", s=4, label=\"Testing data\")\n",
    "\n",
    "    # Are there predictions?\n",
    "    if predictions is not None:\n",
    "        # Plot them if they exist\n",
    "        plt.scatter(test_data, predictions, c=\"r\", s=4, label=\"Predictions\")\n",
    "\n",
    "    plt.legend(prop={'size': 14})"
   ],
   "id": "ea3ce747ab8b3456",
   "outputs": [],
   "execution_count": 79
  },
  {
   "metadata": {
    "ExecuteTime": {
     "end_time": "2025-07-08T02:56:37.506145Z",
     "start_time": "2025-07-08T02:56:37.335301Z"
    }
   },
   "cell_type": "code",
   "source": "plot_predictions()",
   "id": "72be1e708c9bc22c",
   "outputs": [
    {
     "data": {
      "text/plain": [
       "<Figure size 1000x600 with 1 Axes>"
      ],
      "image/png": "[encoded data removed]"
     },
     "metadata": {},
     "output_type": "display_data"
    }
   ],
   "execution_count": 80
  },
  {
   "metadata": {},
   "cell_type": "markdown",
   "source": "## 2. Build Model",
   "id": "2c3c60d1e95cdc24"
  },
  {
   "metadata": {
    "ExecuteTime": {
     "end_time": "2025-07-08T02:56:37.533115Z",
     "start_time": "2025-07-08T02:56:37.528343Z"
    }
   },
   "cell_type": "code",
   "source": [
    "class LinearRegressionModel(nn.Module): # <- almost everything in Pytorch inherits from nn.Module\n",
    "    def __init__(self):\n",
    "        super().__init__() #\n",
    "        self.weights = nn.Parameter(torch.randn(1,\n",
    "                                                requires_grad=True,\n",
    "                                                dtype=torch.float))\n",
    "        self.bias = nn.Parameter(torch.randn(1,\n",
    "                                             requires_grad=True,\n",
    "                                             dtype=torch.float))\n",
    "    # Forward method to define the computation in the model\n",
    "    def forward(self, x: torch.Tensor) -> torch.Tensor: # \"x\" is the input data\n",
    "        return self.weights * x + self.bias # linear regression formula\n",
    "\n"
   ],
   "id": "2ae24d99acc026c",
   "outputs": [],
   "execution_count": 81
  },
  {
   "metadata": {},
   "cell_type": "markdown",
   "source": [
    "### PyTorch model building essentials\n",
    "* torch.nn - contains all of the building blocks for computational graphs\n",
    "* torch.nn.parameters - what parameters should our model try and learn, often a Pytorch layer from torch.nn will set these for us\n",
    "* torch.nn.Module -  THe base class for all neural network modules, if you subclass it, you should overwrite forward\n",
    "* torch.optim - this is where the optimizers live, they will help with gradient descent\n",
    "* torch.util.data.dataset - Represents a map between key (label) and sample (features) pairs of the data. Such as images and their associated labels\n",
    "* torch.util.data.dataloader - Creates a python iterable over a torch dataset\n",
    "*  def forward()- ALl nnn.module subclasses require you to overwrite forward(),"
   ],
   "id": "93f31bad49900e54"
  },
  {
   "metadata": {
    "ExecuteTime": {
     "end_time": "2025-07-08T02:56:37.572790Z",
     "start_time": "2025-07-08T02:56:37.553569Z"
    }
   },
   "cell_type": "code",
   "source": [
    "# Checking the contents of our PyTorch model\n",
    "\n",
    "# Create a random seed\n",
    "torch.manual_seed(42)\n",
    "\n",
    "# Create an instance of the model\n",
    "model_0 = LinearRegressionModel()\n",
    "\n",
    "# Check out the parameters\n",
    "list(model_0.parameters())"
   ],
   "id": "a7d5ed9798b81375",
   "outputs": [
    {
     "data": {
      "text/plain": [
       "[Parameter containing:\n",
       " tensor([0.3367], requires_grad=True),\n",
       " Parameter containing:\n",
       " tensor([0.1288], requires_grad=True)]"
      ]
     },
     "execution_count": 82,
     "metadata": {},
     "output_type": "execute_result"
    }
   ],
   "execution_count": 82
  },
  {
   "metadata": {
    "ExecuteTime": {
     "end_time": "2025-07-08T02:56:37.598839Z",
     "start_time": "2025-07-08T02:56:37.591849Z"
    }
   },
   "cell_type": "code",
   "source": [
    "# List named parameters\n",
    "model_0.state_dict()"
   ],
   "id": "2d5ef334af76eb92",
   "outputs": [
    {
     "data": {
      "text/plain": [
       "OrderedDict([('weights', tensor([0.3367])), ('bias', tensor([0.1288]))])"
      ]
     },
     "execution_count": 83,
     "metadata": {},
     "output_type": "execute_result"
    }
   ],
   "execution_count": 83
  },
  {
   "metadata": {
    "ExecuteTime": {
     "end_time": "2025-07-08T02:56:37.640993Z",
     "start_time": "2025-07-08T02:56:37.636711Z"
    }
   },
   "cell_type": "code",
   "source": "weight, bias",
   "id": "95796109fbe4c20",
   "outputs": [
    {
     "data": {
      "text/plain": [
       "(0.7, 0.3)"
      ]
     },
     "execution_count": 84,
     "metadata": {},
     "output_type": "execute_result"
    }
   ],
   "execution_count": 84
  },
  {
   "metadata": {},
   "cell_type": "markdown",
   "source": [
    "### Making predictions using 'torch.inference_mode()'\n",
    "To check our model's predictive power, let's see how well it predicts 'y_test' base on 'x_test'\n",
    "<br> When we pass data through our model, it's going to run through the 'forward()' method"
   ],
   "id": "cbc85fba4cc9c5b4"
  },
  {
   "metadata": {
    "ExecuteTime": {
     "end_time": "2025-07-08T02:56:37.687901Z",
     "start_time": "2025-07-08T02:56:37.681504Z"
    }
   },
   "cell_type": "code",
   "source": [
    "# Make predictions with model\n",
    "# Inference mode makes code faster, by not tracking grad.\n",
    "# Same as .no_grad(), but with extra features.\n",
    "with torch.inference_mode():\n",
    "    y_preds = model_0(X_test)\n",
    "\n",
    "y_preds\n"
   ],
   "id": "5dee7f78c407152c",
   "outputs": [
    {
     "data": {
      "text/plain": [
       "tensor([[0.3982],\n",
       "        [0.4049],\n",
       "        [0.4116],\n",
       "        [0.4184],\n",
       "        [0.4251],\n",
       "        [0.4318],\n",
       "        [0.4386],\n",
       "        [0.4453],\n",
       "        [0.4520],\n",
       "        [0.4588]])"
      ]
     },
     "execution_count": 85,
     "metadata": {},
     "output_type": "execute_result"
    }
   ],
   "execution_count": 85
  },
  {
   "metadata": {
    "ExecuteTime": {
     "end_time": "2025-07-08T02:56:37.919816Z",
     "start_time": "2025-07-08T02:56:37.796505Z"
    }
   },
   "cell_type": "code",
   "source": "plot_predictions(predictions=y_preds)",
   "id": "8f461c14fd7e00da",
   "outputs": [
    {
     "data": {
      "text/plain": [
       "<Figure size 1000x600 with 1 Axes>"
      ],
      "image/png": "[encoded data removed]"
     },
     "metadata": {},
     "output_type": "display_data"
    }
   ],
   "execution_count": 86
  },
  {
   "metadata": {},
   "cell_type": "markdown",
   "source": [
    "## 3. Train model\n",
    "<br> The whole idea of training is for a model to move from *unkown* parameters (these may be random) to soem *known* parameters\n",
    "<br> Or in other words from a poor representation of the data to a better representation of the data\n",
    "<br> One way to measure how poor or how wrong your models predictions are is to use a loss function\n",
    "<br><br> Note: Loss Function may be also called cost function or criterion in different areas.\n",
    "<br><br> Things we need to train: <br>\n",
    " <br>**Loss function:** A function to measure how wrong your model's predictions are to the ideas outputs, lower is better.\n",
    " <br> **Optimizer:** Takes into account the loss of  amodel and ajusts the model's parameters (e.g. weight and bias)\n",
    " <br> inside optimizers you'll often set two parameters:\n",
    " <br> * params- the model paraeters you'd like to optimize, for example \"parmas=model_0.parameters()'\n",
    " <br> * lr (learning rate) - the learning rate is a hyperparameter that defines how big/small the optimizer chjanges the parameters with each step ( small lr results in small change, big lr big changes)\n",
    " <br><br> And specifically for PyTorch we need:\n",
    " <br> A training loop\n",
    " <br> A testing loop"
   ],
   "id": "abc55fb24257f3ad"
  },
  {
   "metadata": {
    "ExecuteTime": {
     "end_time": "2025-07-08T02:56:37.982623Z",
     "start_time": "2025-07-08T02:56:37.977614Z"
    }
   },
   "cell_type": "code",
   "source": [
    "# Check out parameters\n",
    "model_0.state_dict()"
   ],
   "id": "6e35f737d417f797",
   "outputs": [
    {
     "data": {
      "text/plain": [
       "OrderedDict([('weights', tensor([0.3367])), ('bias', tensor([0.1288]))])"
      ]
     },
     "execution_count": 87,
     "metadata": {},
     "output_type": "execute_result"
    }
   ],
   "execution_count": 87
  },
  {
   "metadata": {
    "ExecuteTime": {
     "end_time": "2025-07-08T02:56:38.048702Z",
     "start_time": "2025-07-08T02:56:38.036400Z"
    }
   },
   "cell_type": "code",
   "source": [
    "# Setup a loss function\n",
    "loss_fn = nn.MSELoss()\n",
    "\n",
    "# Setup an optimizer\n",
    "optimizer = torch.optim.SGD(params=model_0.parameters(),\n",
    "                            lr=0.01)\n"
   ],
   "id": "8e2565c3ab8c36cd",
   "outputs": [],
   "execution_count": 88
  },
  {
   "metadata": {},
   "cell_type": "markdown",
   "source": [
    "### Building a training loop (and testing loop) in PyTorch\n",
    "<br> A couple of things we need in a training loop:\n",
    "<br> 0. Loop through the data\n",
    "<br> 1. Forward pass (this involves data through the models \"forward()' functions) also called forward propagation\n",
    "<br> 2. Calculate the loss (compare forward pass predictions to ground truth labels)\n",
    "<br> 3. Optimize zero grad\n",
    "<br> 4. Loss backwards - Move backward through network to calculate the gradients of each parameter s of our model with respect to the loss (**backpropagation**)\n",
    "<br> 5. Optimizer step - use the optimizer to adjust the modes's parameters to try and improve the loss (**gradient descent**)\n"
   ],
   "id": "832403a01bf292e9"
  },
  {
   "metadata": {
    "ExecuteTime": {
     "end_time": "2025-07-08T02:56:38.086791Z",
     "start_time": "2025-07-08T02:56:38.081247Z"
    }
   },
   "cell_type": "code",
   "source": [
    "with torch.inference_mode():\n",
    "    y_preds_new = model_0(X_test)\n",
    "y_preds_new"
   ],
   "id": "5cc3eb234efb7dd0",
   "outputs": [
    {
     "data": {
      "text/plain": [
       "tensor([[0.3982],\n",
       "        [0.4049],\n",
       "        [0.4116],\n",
       "        [0.4184],\n",
       "        [0.4251],\n",
       "        [0.4318],\n",
       "        [0.4386],\n",
       "        [0.4453],\n",
       "        [0.4520],\n",
       "        [0.4588]])"
      ]
     },
     "execution_count": 89,
     "metadata": {},
     "output_type": "execute_result"
    }
   ],
   "execution_count": 89
  },
  {
   "metadata": {
    "ExecuteTime": {
     "end_time": "2025-07-08T02:56:38.281943Z",
     "start_time": "2025-07-08T02:56:38.141316Z"
    }
   },
   "cell_type": "code",
   "source": [
    "# an epoch is one loop through the data... ( This is called a hyperparameters because we set them ourselvves)\n",
    "epochs = 200\n",
    "\n",
    "epoch_count = []\n",
    "loss_values = []\n",
    "train_loss_values = []\n",
    "\n",
    "# 0. Loop through the data\n",
    "for epoch in range(epochs):\n",
    "    # Set the model to training mode\n",
    "    model_0.train() # train mode in PyTorch set\\s all parameters that require gradients to require gradients\n",
    "\n",
    "    # 1. Forward pass\n",
    "    y_pred = model_0(X_train)\n",
    "\n",
    "    # 2. Calculate the loss\n",
    "    loss = loss_fn(y_pred, y_train)\n",
    "\n",
    "    # 3. Optimize zero grad\n",
    "    optimizer.zero_grad()\n",
    "\n",
    "    # 4. perform backpropagation on the loss with respect to the parameters of the model\n",
    "    loss.backward()\n",
    "\n",
    "    # 5. Step the optimizer\n",
    "    optimizer.step() # by default how the optimizer will accumulate through the loop\n",
    "\n",
    "    model_0.eval # turns off different settings in the model not needed for evaluation/testing (dropout, batchNorm layers\n",
    "\n",
    "    ### Testing\n",
    "    model_0.eval() # turns off settings in the model not needed for evaluating/testing (dropout/bratch norm layers)\n",
    "    with torch.inference_mode(): # turns off gradient tracking and a couple more things behind the scenes\n",
    "        # 1. Do the forward pass\n",
    "        test_pred = model_0(X_test)\n",
    "\n",
    "        # 2. Calculate the loss\n",
    "        test_loss = loss_fn(test_pred, y_test)\n",
    "\n",
    "    # Print out what's happening\n",
    "    if epoch % 10 == 0:\n",
    "        epoch_count.append(epoch)\n",
    "        loss_values.append(loss)\n",
    "        test_loss_values.append(test_loss)\n",
    "        print(f\"Epoch: {epoch} | Loss: {loss} | Test Loss: {test_loss}\")\n",
    "\n",
    "    # Print out model state_dict()\n",
    "    print(model_0.state_dict())\n",
    "\n"
   ],
   "id": "4a5b6df64bb75e92",
   "outputs": [
    {
     "name": "stdout",
     "output_type": "stream",
     "text": [
      "Epoch: 0 | Loss: 0.10493002086877823 | Test Loss: 0.23639340698719025\n",
      "OrderedDict({'weights': tensor([0.3395]), 'bias': tensor([0.1351])})\n",
      "OrderedDict({'weights': tensor([0.3423]), 'bias': tensor([0.1412])})\n",
      "OrderedDict({'weights': tensor([0.3450]), 'bias': tensor([0.1471])})\n",
      "OrderedDict({'weights': tensor([0.3476]), 'bias': tensor([0.1530])})\n",
      "OrderedDict({'weights': tensor([0.3502]), 'bias': tensor([0.1587])})\n",
      "OrderedDict({'weights': tensor([0.3528]), 'bias': tensor([0.1642])})\n",
      "OrderedDict({'weights': tensor([0.3553]), 'bias': tensor([0.1696])})\n",
      "OrderedDict({'weights': tensor([0.3577]), 'bias': tensor([0.1749])})\n",
      "OrderedDict({'weights': tensor([0.3601]), 'bias': tensor([0.1801])})\n",
      "OrderedDict({'weights': tensor([0.3624]), 'bias': tensor([0.1852])})\n",
      "Epoch: 10 | Loss: 0.06683927774429321 | Test Loss: 0.16711151599884033\n",
      "OrderedDict({'weights': tensor([0.3647]), 'bias': tensor([0.1901])})\n",
      "OrderedDict({'weights': tensor([0.3669]), 'bias': tensor([0.1949])})\n",
      "OrderedDict({'weights': tensor([0.3691]), 'bias': tensor([0.1996])})\n",
      "OrderedDict({'weights': tensor([0.3713]), 'bias': tensor([0.2042])})\n",
      "OrderedDict({'weights': tensor([0.3734]), 'bias': tensor([0.2087])})\n",
      "OrderedDict({'weights': tensor([0.3754]), 'bias': tensor([0.2130])})\n",
      "OrderedDict({'weights': tensor([0.3774]), 'bias': tensor([0.2173])})\n",
      "OrderedDict({'weights': tensor([0.3794]), 'bias': tensor([0.2215])})\n",
      "OrderedDict({'weights': tensor([0.3813]), 'bias': tensor([0.2256])})\n",
      "OrderedDict({'weights': tensor([0.3832]), 'bias': tensor([0.2295])})\n",
      "Epoch: 20 | Loss: 0.04299221560359001 | Test Loss: 0.12065690755844116\n",
      "OrderedDict({'weights': tensor([0.3851]), 'bias': tensor([0.2334])})\n",
      "OrderedDict({'weights': tensor([0.3869]), 'bias': tensor([0.2372])})\n",
      "OrderedDict({'weights': tensor([0.3887]), 'bias': tensor([0.2409])})\n",
      "OrderedDict({'weights': tensor([0.3904]), 'bias': tensor([0.2445])})\n",
      "OrderedDict({'weights': tensor([0.3921]), 'bias': tensor([0.2480])})\n",
      "OrderedDict({'weights': tensor([0.3938]), 'bias': tensor([0.2515])})\n",
      "OrderedDict({'weights': tensor([0.3954]), 'bias': tensor([0.2548])})\n",
      "OrderedDict({'weights': tensor([0.3970]), 'bias': tensor([0.2581])})\n",
      "OrderedDict({'weights': tensor([0.3986]), 'bias': tensor([0.2613])})\n",
      "OrderedDict({'weights': tensor([0.4001]), 'bias': tensor([0.2644])})\n",
      "Epoch: 30 | Loss: 0.028054703027009964 | Test Loss: 0.0891362875699997\n",
      "OrderedDict({'weights': tensor([0.4016]), 'bias': tensor([0.2675])})\n",
      "OrderedDict({'weights': tensor([0.4031]), 'bias': tensor([0.2705])})\n",
      "OrderedDict({'weights': tensor([0.4046]), 'bias': tensor([0.2734])})\n",
      "OrderedDict({'weights': tensor([0.4060]), 'bias': tensor([0.2762])})\n",
      "OrderedDict({'weights': tensor([0.4074]), 'bias': tensor([0.2790])})\n",
      "OrderedDict({'weights': tensor([0.4087]), 'bias': tensor([0.2817])})\n",
      "OrderedDict({'weights': tensor([0.4101]), 'bias': tensor([0.2843])})\n",
      "OrderedDict({'weights': tensor([0.4114]), 'bias': tensor([0.2869])})\n",
      "OrderedDict({'weights': tensor([0.4127]), 'bias': tensor([0.2894])})\n",
      "OrderedDict({'weights': tensor([0.4139]), 'bias': tensor([0.2919])})\n",
      "Epoch: 40 | Loss: 0.01869034394621849 | Test Loss: 0.06747110188007355\n",
      "OrderedDict({'weights': tensor([0.4152]), 'bias': tensor([0.2943])})\n",
      "OrderedDict({'weights': tensor([0.4164]), 'bias': tensor([0.2966])})\n",
      "OrderedDict({'weights': tensor([0.4176]), 'bias': tensor([0.2989])})\n",
      "OrderedDict({'weights': tensor([0.4188]), 'bias': tensor([0.3011])})\n",
      "OrderedDict({'weights': tensor([0.4199]), 'bias': tensor([0.3033])})\n",
      "OrderedDict({'weights': tensor([0.4210]), 'bias': tensor([0.3054])})\n",
      "OrderedDict({'weights': tensor([0.4221]), 'bias': tensor([0.3075])})\n",
      "OrderedDict({'weights': tensor([0.4232]), 'bias': tensor([0.3095])})\n",
      "OrderedDict({'weights': tensor([0.4243]), 'bias': tensor([0.3114])})\n",
      "OrderedDict({'weights': tensor([0.4253]), 'bias': tensor([0.3134])})\n",
      "Epoch: 50 | Loss: 0.012812281958758831 | Test Loss: 0.05237375572323799\n",
      "OrderedDict({'weights': tensor([0.4263]), 'bias': tensor([0.3152])})\n",
      "OrderedDict({'weights': tensor([0.4274]), 'bias': tensor([0.3171])})\n",
      "OrderedDict({'weights': tensor([0.4283]), 'bias': tensor([0.3189])})\n",
      "OrderedDict({'weights': tensor([0.4293]), 'bias': tensor([0.3206])})\n",
      "OrderedDict({'weights': tensor([0.4303]), 'bias': tensor([0.3223])})\n",
      "OrderedDict({'weights': tensor([0.4312]), 'bias': tensor([0.3240])})\n",
      "OrderedDict({'weights': tensor([0.4321]), 'bias': tensor([0.3256])})\n",
      "OrderedDict({'weights': tensor([0.4330]), 'bias': tensor([0.3272])})\n",
      "OrderedDict({'weights': tensor([0.4339]), 'bias': tensor([0.3287])})\n",
      "OrderedDict({'weights': tensor([0.4348]), 'bias': tensor([0.3302])})\n",
      "Epoch: 60 | Loss: 0.009115215390920639 | Test Loss: 0.041701000183820724\n",
      "OrderedDict({'weights': tensor([0.4356]), 'bias': tensor([0.3317])})\n",
      "OrderedDict({'weights': tensor([0.4365]), 'bias': tensor([0.3331])})\n",
      "OrderedDict({'weights': tensor([0.4373]), 'bias': tensor([0.3345])})\n",
      "OrderedDict({'weights': tensor([0.4381]), 'bias': tensor([0.3358])})\n",
      "OrderedDict({'weights': tensor([0.4389]), 'bias': tensor([0.3372])})\n",
      "OrderedDict({'weights': tensor([0.4397]), 'bias': tensor([0.3385])})\n",
      "OrderedDict({'weights': tensor([0.4404]), 'bias': tensor([0.3397])})\n",
      "OrderedDict({'weights': tensor([0.4412]), 'bias': tensor([0.3410])})\n",
      "OrderedDict({'weights': tensor([0.4419]), 'bias': tensor([0.3422])})\n",
      "OrderedDict({'weights': tensor([0.4427]), 'bias': tensor([0.3433])})\n",
      "Epoch: 70 | Loss: 0.006782689597457647 | Test Loss: 0.03404407948255539\n",
      "OrderedDict({'weights': tensor([0.4434]), 'bias': tensor([0.3445])})\n",
      "OrderedDict({'weights': tensor([0.4441]), 'bias': tensor([0.3456])})\n",
      "OrderedDict({'weights': tensor([0.4448]), 'bias': tensor([0.3467])})\n",
      "OrderedDict({'weights': tensor([0.4455]), 'bias': tensor([0.3477])})\n",
      "OrderedDict({'weights': tensor([0.4462]), 'bias': tensor([0.3487])})\n",
      "OrderedDict({'weights': tensor([0.4468]), 'bias': tensor([0.3498])})\n",
      "OrderedDict({'weights': tensor([0.4475]), 'bias': tensor([0.3507])})\n",
      "OrderedDict({'weights': tensor([0.4481]), 'bias': tensor([0.3517])})\n",
      "OrderedDict({'weights': tensor([0.4487]), 'bias': tensor([0.3526])})\n",
      "OrderedDict({'weights': tensor([0.4494]), 'bias': tensor([0.3535])})\n",
      "Epoch: 80 | Loss: 0.0053040324710309505 | Test Loss: 0.02846846543252468\n",
      "OrderedDict({'weights': tensor([0.4500]), 'bias': tensor([0.3544])})\n",
      "OrderedDict({'weights': tensor([0.4506]), 'bias': tensor([0.3553])})\n",
      "OrderedDict({'weights': tensor([0.4512]), 'bias': tensor([0.3561])})\n",
      "OrderedDict({'weights': tensor([0.4518]), 'bias': tensor([0.3569])})\n",
      "OrderedDict({'weights': tensor([0.4523]), 'bias': tensor([0.3577])})\n",
      "OrderedDict({'weights': tensor([0.4529]), 'bias': tensor([0.3585])})\n",
      "OrderedDict({'weights': tensor([0.4535]), 'bias': tensor([0.3593])})\n",
      "OrderedDict({'weights': tensor([0.4540]), 'bias': tensor([0.3600])})\n",
      "OrderedDict({'weights': tensor([0.4546]), 'bias': tensor([0.3607])})\n",
      "OrderedDict({'weights': tensor([0.4551]), 'bias': tensor([0.3614])})\n",
      "Epoch: 90 | Loss: 0.004359802696853876 | Test Loss: 0.024347718805074692\n",
      "OrderedDict({'weights': tensor([0.4556]), 'bias': tensor([0.3621])})\n",
      "OrderedDict({'weights': tensor([0.4561]), 'bias': tensor([0.3628])})\n",
      "OrderedDict({'weights': tensor([0.4566]), 'bias': tensor([0.3634])})\n",
      "OrderedDict({'weights': tensor([0.4571]), 'bias': tensor([0.3640])})\n",
      "OrderedDict({'weights': tensor([0.4576]), 'bias': tensor([0.3647])})\n",
      "OrderedDict({'weights': tensor([0.4581]), 'bias': tensor([0.3653])})\n",
      "OrderedDict({'weights': tensor([0.4586]), 'bias': tensor([0.3658])})\n",
      "OrderedDict({'weights': tensor([0.4591]), 'bias': tensor([0.3664])})\n",
      "OrderedDict({'weights': tensor([0.4596]), 'bias': tensor([0.3670])})\n",
      "OrderedDict({'weights': tensor([0.4600]), 'bias': tensor([0.3675])})\n",
      "Epoch: 100 | Loss: 0.003750210627913475 | Test Loss: 0.021257279440760612\n",
      "OrderedDict({'weights': tensor([0.4605]), 'bias': tensor([0.3680])})\n",
      "OrderedDict({'weights': tensor([0.4610]), 'bias': tensor([0.3685])})\n",
      "OrderedDict({'weights': tensor([0.4614]), 'bias': tensor([0.3690])})\n",
      "OrderedDict({'weights': tensor([0.4618]), 'bias': tensor([0.3695])})\n",
      "OrderedDict({'weights': tensor([0.4623]), 'bias': tensor([0.3700])})\n",
      "OrderedDict({'weights': tensor([0.4627]), 'bias': tensor([0.3704])})\n",
      "OrderedDict({'weights': tensor([0.4631]), 'bias': tensor([0.3709])})\n",
      "OrderedDict({'weights': tensor([0.4636]), 'bias': tensor([0.3713])})\n",
      "OrderedDict({'weights': tensor([0.4640]), 'bias': tensor([0.3717])})\n",
      "OrderedDict({'weights': tensor([0.4644]), 'bias': tensor([0.3721])})\n",
      "Epoch: 110 | Loss: 0.0033502671867609024 | Test Loss: 0.018905790522694588\n",
      "OrderedDict({'weights': tensor([0.4648]), 'bias': tensor([0.3725])})\n",
      "OrderedDict({'weights': tensor([0.4652]), 'bias': tensor([0.3729])})\n",
      "OrderedDict({'weights': tensor([0.4656]), 'bias': tensor([0.3733])})\n",
      "OrderedDict({'weights': tensor([0.4660]), 'bias': tensor([0.3736])})\n",
      "OrderedDict({'weights': tensor([0.4664]), 'bias': tensor([0.3740])})\n",
      "OrderedDict({'weights': tensor([0.4667]), 'bias': tensor([0.3743])})\n",
      "OrderedDict({'weights': tensor([0.4671]), 'bias': tensor([0.3747])})\n",
      "OrderedDict({'weights': tensor([0.4675]), 'bias': tensor([0.3750])})\n",
      "OrderedDict({'weights': tensor([0.4679]), 'bias': tensor([0.3753])})\n",
      "OrderedDict({'weights': tensor([0.4682]), 'bias': tensor([0.3756])})\n",
      "Epoch: 120 | Loss: 0.0030817987862974405 | Test Loss: 0.01709091104567051\n",
      "OrderedDict({'weights': tensor([0.4686]), 'bias': tensor([0.3759])})\n",
      "OrderedDict({'weights': tensor([0.4690]), 'bias': tensor([0.3762])})\n",
      "OrderedDict({'weights': tensor([0.4693]), 'bias': tensor([0.3765])})\n",
      "OrderedDict({'weights': tensor([0.4697]), 'bias': tensor([0.3767])})\n",
      "OrderedDict({'weights': tensor([0.4700]), 'bias': tensor([0.3770])})\n",
      "OrderedDict({'weights': tensor([0.4704]), 'bias': tensor([0.3772])})\n",
      "OrderedDict({'weights': tensor([0.4707]), 'bias': tensor([0.3775])})\n",
      "OrderedDict({'weights': tensor([0.4710]), 'bias': tensor([0.3777])})\n",
      "OrderedDict({'weights': tensor([0.4714]), 'bias': tensor([0.3780])})\n",
      "OrderedDict({'weights': tensor([0.4717]), 'bias': tensor([0.3782])})\n",
      "Epoch: 130 | Loss: 0.0028958991169929504 | Test Loss: 0.01567026600241661\n",
      "OrderedDict({'weights': tensor([0.4720]), 'bias': tensor([0.3784])})\n",
      "OrderedDict({'weights': tensor([0.4723]), 'bias': tensor([0.3786])})\n",
      "OrderedDict({'weights': tensor([0.4727]), 'bias': tensor([0.3788])})\n",
      "OrderedDict({'weights': tensor([0.4730]), 'bias': tensor([0.3790])})\n",
      "OrderedDict({'weights': tensor([0.4733]), 'bias': tensor([0.3792])})\n",
      "OrderedDict({'weights': tensor([0.4736]), 'bias': tensor([0.3794])})\n",
      "OrderedDict({'weights': tensor([0.4739]), 'bias': tensor([0.3796])})\n",
      "OrderedDict({'weights': tensor([0.4742]), 'bias': tensor([0.3797])})\n",
      "OrderedDict({'weights': tensor([0.4745]), 'bias': tensor([0.3799])})\n",
      "OrderedDict({'weights': tensor([0.4748]), 'bias': tensor([0.3801])})\n",
      "Epoch: 140 | Loss: 0.0027619716711342335 | Test Loss: 0.014542413875460625\n",
      "OrderedDict({'weights': tensor([0.4751]), 'bias': tensor([0.3802])})\n",
      "OrderedDict({'weights': tensor([0.4754]), 'bias': tensor([0.3804])})\n",
      "OrderedDict({'weights': tensor([0.4757]), 'bias': tensor([0.3805])})\n",
      "OrderedDict({'weights': tensor([0.4760]), 'bias': tensor([0.3807])})\n",
      "OrderedDict({'weights': tensor([0.4763]), 'bias': tensor([0.3808])})\n",
      "OrderedDict({'weights': tensor([0.4766]), 'bias': tensor([0.3809])})\n",
      "OrderedDict({'weights': tensor([0.4769]), 'bias': tensor([0.3810])})\n",
      "OrderedDict({'weights': tensor([0.4772]), 'bias': tensor([0.3812])})\n",
      "OrderedDict({'weights': tensor([0.4775]), 'bias': tensor([0.3813])})\n",
      "OrderedDict({'weights': tensor([0.4777]), 'bias': tensor([0.3814])})\n",
      "Epoch: 150 | Loss: 0.002660872880369425 | Test Loss: 0.013634162954986095\n",
      "OrderedDict({'weights': tensor([0.4780]), 'bias': tensor([0.3815])})\n",
      "OrderedDict({'weights': tensor([0.4783]), 'bias': tensor([0.3816])})\n",
      "OrderedDict({'weights': tensor([0.4786]), 'bias': tensor([0.3817])})\n",
      "OrderedDict({'weights': tensor([0.4788]), 'bias': tensor([0.3818])})\n",
      "OrderedDict({'weights': tensor([0.4791]), 'bias': tensor([0.3819])})\n",
      "OrderedDict({'weights': tensor([0.4794]), 'bias': tensor([0.3820])})\n",
      "OrderedDict({'weights': tensor([0.4797]), 'bias': tensor([0.3820])})\n",
      "OrderedDict({'weights': tensor([0.4799]), 'bias': tensor([0.3821])})\n",
      "OrderedDict({'weights': tensor([0.4802]), 'bias': tensor([0.3822])})\n",
      "OrderedDict({'weights': tensor([0.4804]), 'bias': tensor([0.3823])})\n",
      "Epoch: 160 | Loss: 0.002580625470727682 | Test Loss: 0.01289217360317707\n",
      "OrderedDict({'weights': tensor([0.4807]), 'bias': tensor([0.3823])})\n",
      "OrderedDict({'weights': tensor([0.4810]), 'bias': tensor([0.3824])})\n",
      "OrderedDict({'weights': tensor([0.4812]), 'bias': tensor([0.3825])})\n",
      "OrderedDict({'weights': tensor([0.4815]), 'bias': tensor([0.3825])})\n",
      "OrderedDict({'weights': tensor([0.4817]), 'bias': tensor([0.3826])})\n",
      "OrderedDict({'weights': tensor([0.4820]), 'bias': tensor([0.3826])})\n",
      "OrderedDict({'weights': tensor([0.4822]), 'bias': tensor([0.3827])})\n",
      "OrderedDict({'weights': tensor([0.4825]), 'bias': tensor([0.3827])})\n",
      "OrderedDict({'weights': tensor([0.4827]), 'bias': tensor([0.3828])})\n",
      "OrderedDict({'weights': tensor([0.4830]), 'bias': tensor([0.3828])})\n",
      "Epoch: 170 | Loss: 0.0025137278717011213 | Test Loss: 0.012277049943804741\n",
      "OrderedDict({'weights': tensor([0.4832]), 'bias': tensor([0.3828])})\n",
      "OrderedDict({'weights': tensor([0.4835]), 'bias': tensor([0.3829])})\n",
      "OrderedDict({'weights': tensor([0.4837]), 'bias': tensor([0.3829])})\n",
      "OrderedDict({'weights': tensor([0.4840]), 'bias': tensor([0.3829])})\n",
      "OrderedDict({'weights': tensor([0.4842]), 'bias': tensor([0.3830])})\n",
      "OrderedDict({'weights': tensor([0.4844]), 'bias': tensor([0.3830])})\n",
      "OrderedDict({'weights': tensor([0.4847]), 'bias': tensor([0.3830])})\n",
      "OrderedDict({'weights': tensor([0.4849]), 'bias': tensor([0.3830])})\n",
      "OrderedDict({'weights': tensor([0.4851]), 'bias': tensor([0.3830])})\n",
      "OrderedDict({'weights': tensor([0.4854]), 'bias': tensor([0.3830])})\n",
      "Epoch: 180 | Loss: 0.0024554866831749678 | Test Loss: 0.01175951212644577\n",
      "OrderedDict({'weights': tensor([0.4856]), 'bias': tensor([0.3831])})\n",
      "OrderedDict({'weights': tensor([0.4858]), 'bias': tensor([0.3831])})\n",
      "OrderedDict({'weights': tensor([0.4861]), 'bias': tensor([0.3831])})\n",
      "OrderedDict({'weights': tensor([0.4863]), 'bias': tensor([0.3831])})\n",
      "OrderedDict({'weights': tensor([0.4865]), 'bias': tensor([0.3831])})\n",
      "OrderedDict({'weights': tensor([0.4868]), 'bias': tensor([0.3831])})\n",
      "OrderedDict({'weights': tensor([0.4870]), 'bias': tensor([0.3831])})\n",
      "OrderedDict({'weights': tensor([0.4872]), 'bias': tensor([0.3831])})\n",
      "OrderedDict({'weights': tensor([0.4874]), 'bias': tensor([0.3831])})\n",
      "OrderedDict({'weights': tensor([0.4877]), 'bias': tensor([0.3831])})\n",
      "Epoch: 190 | Loss: 0.002402957994490862 | Test Loss: 0.011317539028823376\n",
      "OrderedDict({'weights': tensor([0.4879]), 'bias': tensor([0.3831])})\n",
      "OrderedDict({'weights': tensor([0.4881]), 'bias': tensor([0.3831])})\n",
      "OrderedDict({'weights': tensor([0.4883]), 'bias': tensor([0.3831])})\n",
      "OrderedDict({'weights': tensor([0.4886]), 'bias': tensor([0.3831])})\n",
      "OrderedDict({'weights': tensor([0.4888]), 'bias': tensor([0.3830])})\n",
      "OrderedDict({'weights': tensor([0.4890]), 'bias': tensor([0.3830])})\n",
      "OrderedDict({'weights': tensor([0.4892]), 'bias': tensor([0.3830])})\n",
      "OrderedDict({'weights': tensor([0.4894]), 'bias': tensor([0.3830])})\n",
      "OrderedDict({'weights': tensor([0.4897]), 'bias': tensor([0.3830])})\n",
      "OrderedDict({'weights': tensor([0.4899]), 'bias': tensor([0.3830])})\n"
     ]
    }
   ],
   "execution_count": 90
  },
  {
   "metadata": {
    "ExecuteTime": {
     "end_time": "2025-07-08T02:56:38.528372Z",
     "start_time": "2025-07-08T02:56:38.336023Z"
    }
   },
   "cell_type": "code",
   "source": [
    "# Plot the loss curves\n",
    "plt.plot(epoch_count, torch.tensor(loss_values).numpy(), label=\"Train loss\")\n",
    "plt.plot(epoch_count, test_loss_values, label=\"Test loss\")\n",
    "plt.title(\"training and test loss curves\")\n",
    "plt.ylabel(\"Loss\")\n",
    "plt.xlabel(\"Epoch\")\n",
    "plt.legend()"
   ],
   "id": "6bdb300cf859cd77",
   "outputs": [
    {
     "ename": "ValueError",
     "evalue": "x and y must have same first dimension, but have shapes (20,) and (40,)",
     "output_type": "error",
     "traceback": [
      "\u001B[31m---------------------------------------------------------------------------\u001B[39m",
      "\u001B[31mValueError\u001B[39m                                Traceback (most recent call last)",
      "\u001B[36mCell\u001B[39m\u001B[36m \u001B[39m\u001B[32mIn[91]\u001B[39m\u001B[32m, line 3\u001B[39m\n\u001B[32m      1\u001B[39m \u001B[38;5;66;03m# Plot the loss curves\u001B[39;00m\n\u001B[32m      2\u001B[39m plt.plot(epoch_count, torch.tensor(loss_values).numpy(), label=\u001B[33m\"\u001B[39m\u001B[33mTrain loss\u001B[39m\u001B[33m\"\u001B[39m)\n\u001B[32m----> \u001B[39m\u001B[32m3\u001B[39m plt.plot(epoch_count, test_loss_values, label=\u001B[33m\"\u001B[39m\u001B[33mTest loss\u001B[39m\u001B[33m\"\u001B[39m)\n\u001B[32m      4\u001B[39m plt.title(\u001B[33m\"\u001B[39m\u001B[33mtraining and test loss curves\u001B[39m\u001B[33m\"\u001B[39m)\n\u001B[32m      5\u001B[39m plt.ylabel(\u001B[33m\"\u001B[39m\u001B[33mLoss\u001B[39m\u001B[33m\"\u001B[39m)\n",
      "\u001B[36mFile \u001B[39m\u001B[32m~/miniconda3/lib/python3.12/site-packages/matplotlib/pyplot.py:3829\u001B[39m, in \u001B[36mplot\u001B[39m\u001B[34m(scalex, scaley, data, *args, **kwargs)\u001B[39m\n\u001B[32m   3821\u001B[39m \u001B[38;5;129m@_copy_docstring_and_deprecators\u001B[39m(Axes.plot)\n\u001B[32m   3822\u001B[39m \u001B[38;5;28;01mdef\u001B[39;00m\u001B[38;5;250m \u001B[39m\u001B[34mplot\u001B[39m(\n\u001B[32m   3823\u001B[39m     *args: \u001B[38;5;28mfloat\u001B[39m | ArrayLike | \u001B[38;5;28mstr\u001B[39m,\n\u001B[32m   (...)\u001B[39m\u001B[32m   3827\u001B[39m     **kwargs,\n\u001B[32m   3828\u001B[39m ) -> \u001B[38;5;28mlist\u001B[39m[Line2D]:\n\u001B[32m-> \u001B[39m\u001B[32m3829\u001B[39m     \u001B[38;5;28;01mreturn\u001B[39;00m gca().plot(\n\u001B[32m   3830\u001B[39m         *args,\n\u001B[32m   3831\u001B[39m         scalex=scalex,\n\u001B[32m   3832\u001B[39m         scaley=scaley,\n\u001B[32m   3833\u001B[39m         **({\u001B[33m\"\u001B[39m\u001B[33mdata\u001B[39m\u001B[33m\"\u001B[39m: data} \u001B[38;5;28;01mif\u001B[39;00m data \u001B[38;5;129;01mis\u001B[39;00m \u001B[38;5;129;01mnot\u001B[39;00m \u001B[38;5;28;01mNone\u001B[39;00m \u001B[38;5;28;01melse\u001B[39;00m {}),\n\u001B[32m   3834\u001B[39m         **kwargs,\n\u001B[32m   3835\u001B[39m     )\n",
      "\u001B[36mFile \u001B[39m\u001B[32m~/miniconda3/lib/python3.12/site-packages/matplotlib/axes/_axes.py:1777\u001B[39m, in \u001B[36mAxes.plot\u001B[39m\u001B[34m(self, scalex, scaley, data, *args, **kwargs)\u001B[39m\n\u001B[32m   1534\u001B[39m \u001B[38;5;250m\u001B[39m\u001B[33;03m\"\"\"\u001B[39;00m\n\u001B[32m   1535\u001B[39m \u001B[33;03mPlot y versus x as lines and/or markers.\u001B[39;00m\n\u001B[32m   1536\u001B[39m \n\u001B[32m   (...)\u001B[39m\u001B[32m   1774\u001B[39m \u001B[33;03m(``'green'``) or hex strings (``'#008000'``).\u001B[39;00m\n\u001B[32m   1775\u001B[39m \u001B[33;03m\"\"\"\u001B[39;00m\n\u001B[32m   1776\u001B[39m kwargs = cbook.normalize_kwargs(kwargs, mlines.Line2D)\n\u001B[32m-> \u001B[39m\u001B[32m1777\u001B[39m lines = [*\u001B[38;5;28mself\u001B[39m._get_lines(\u001B[38;5;28mself\u001B[39m, *args, data=data, **kwargs)]\n\u001B[32m   1778\u001B[39m \u001B[38;5;28;01mfor\u001B[39;00m line \u001B[38;5;129;01min\u001B[39;00m lines:\n\u001B[32m   1779\u001B[39m     \u001B[38;5;28mself\u001B[39m.add_line(line)\n",
      "\u001B[36mFile \u001B[39m\u001B[32m~/miniconda3/lib/python3.12/site-packages/matplotlib/axes/_base.py:297\u001B[39m, in \u001B[36m_process_plot_var_args.__call__\u001B[39m\u001B[34m(self, axes, data, return_kwargs, *args, **kwargs)\u001B[39m\n\u001B[32m    295\u001B[39m     this += args[\u001B[32m0\u001B[39m],\n\u001B[32m    296\u001B[39m     args = args[\u001B[32m1\u001B[39m:]\n\u001B[32m--> \u001B[39m\u001B[32m297\u001B[39m \u001B[38;5;28;01myield from\u001B[39;00m \u001B[38;5;28mself\u001B[39m._plot_args(\n\u001B[32m    298\u001B[39m     axes, this, kwargs, ambiguous_fmt_datakey=ambiguous_fmt_datakey,\n\u001B[32m    299\u001B[39m     return_kwargs=return_kwargs\n\u001B[32m    300\u001B[39m )\n",
      "\u001B[36mFile \u001B[39m\u001B[32m~/miniconda3/lib/python3.12/site-packages/matplotlib/axes/_base.py:494\u001B[39m, in \u001B[36m_process_plot_var_args._plot_args\u001B[39m\u001B[34m(self, axes, tup, kwargs, return_kwargs, ambiguous_fmt_datakey)\u001B[39m\n\u001B[32m    491\u001B[39m     axes.yaxis.update_units(y)\n\u001B[32m    493\u001B[39m \u001B[38;5;28;01mif\u001B[39;00m x.shape[\u001B[32m0\u001B[39m] != y.shape[\u001B[32m0\u001B[39m]:\n\u001B[32m--> \u001B[39m\u001B[32m494\u001B[39m     \u001B[38;5;28;01mraise\u001B[39;00m \u001B[38;5;167;01mValueError\u001B[39;00m(\u001B[33mf\u001B[39m\u001B[33m\"\u001B[39m\u001B[33mx and y must have same first dimension, but \u001B[39m\u001B[33m\"\u001B[39m\n\u001B[32m    495\u001B[39m                      \u001B[33mf\u001B[39m\u001B[33m\"\u001B[39m\u001B[33mhave shapes \u001B[39m\u001B[38;5;132;01m{\u001B[39;00mx.shape\u001B[38;5;132;01m}\u001B[39;00m\u001B[33m and \u001B[39m\u001B[38;5;132;01m{\u001B[39;00my.shape\u001B[38;5;132;01m}\u001B[39;00m\u001B[33m\"\u001B[39m)\n\u001B[32m    496\u001B[39m \u001B[38;5;28;01mif\u001B[39;00m x.ndim > \u001B[32m2\u001B[39m \u001B[38;5;129;01mor\u001B[39;00m y.ndim > \u001B[32m2\u001B[39m:\n\u001B[32m    497\u001B[39m     \u001B[38;5;28;01mraise\u001B[39;00m \u001B[38;5;167;01mValueError\u001B[39;00m(\u001B[33mf\u001B[39m\u001B[33m\"\u001B[39m\u001B[33mx and y can be no greater than 2D, but have \u001B[39m\u001B[33m\"\u001B[39m\n\u001B[32m    498\u001B[39m                      \u001B[33mf\u001B[39m\u001B[33m\"\u001B[39m\u001B[33mshapes \u001B[39m\u001B[38;5;132;01m{\u001B[39;00mx.shape\u001B[38;5;132;01m}\u001B[39;00m\u001B[33m and \u001B[39m\u001B[38;5;132;01m{\u001B[39;00my.shape\u001B[38;5;132;01m}\u001B[39;00m\u001B[33m\"\u001B[39m)\n",
      "\u001B[31mValueError\u001B[39m: x and y must have same first dimension, but have shapes (20,) and (40,)"
     ]
    },
    {
     "data": {
      "text/plain": [
       "<Figure size 640x480 with 1 Axes>"
      ],
      "image/png": "[encoded data removed]"
     },
     "metadata": {},
     "output_type": "display_data"
    }
   ],
   "execution_count": 91
  },
  {
   "metadata": {
    "ExecuteTime": {
     "end_time": "2025-07-08T02:58:13.069394Z",
     "start_time": "2025-07-08T02:58:13.065816Z"
    }
   },
   "cell_type": "code",
   "source": "model_0.state_dict()\n",
   "id": "4d6bd29387d0fa01",
   "outputs": [
    {
     "data": {
      "text/plain": [
       "OrderedDict([('weights', tensor([0.4899])), ('bias', tensor([0.3830]))])"
      ]
     },
     "execution_count": 93,
     "metadata": {},
     "output_type": "execute_result"
    }
   ],
   "execution_count": 93
  },
  {
   "metadata": {
    "ExecuteTime": {
     "end_time": "2025-07-08T02:58:13.394963Z",
     "start_time": "2025-07-08T02:58:13.389745Z"
    }
   },
   "cell_type": "code",
   "source": "weight, bias",
   "id": "5d3f84b226a993da",
   "outputs": [
    {
     "data": {
      "text/plain": [
       "(0.7, 0.3)"
      ]
     },
     "execution_count": 94,
     "metadata": {},
     "output_type": "execute_result"
    }
   ],
   "execution_count": 94
  },
  {
   "metadata": {
    "ExecuteTime": {
     "end_time": "2025-07-08T02:58:13.697502Z",
     "start_time": "2025-07-08T02:58:13.580831Z"
    }
   },
   "cell_type": "code",
   "source": "plot_predictions(predictions=y_preds_new)",
   "id": "529513cdda28cb39",
   "outputs": [
    {
     "data": {
      "text/plain": [
       "<Figure size 1000x600 with 1 Axes>"
      ],
      "image/png": "[encoded data removed]"
     },
     "metadata": {},
     "output_type": "display_data"
    }
   ],
   "execution_count": 95
  },
  {
   "metadata": {},
   "cell_type": "markdown",
   "source": [
    "## Saving a model in PyTorch\n",
    "There are three main methods you should know about for saving and loading models in PyTorch.\n",
    "1. 'torch.save()' - allows you to save a PyTorch object in Python's pickle format\n",
    "2. 'torch.load()' - allows you to load a saved PyTorch object\n",
    "3. 'torch.nn.Module.load_state_dict()' - this allows to load a model's saved state dictionary\n",
    "<br> Extra work: find difference between saving state dict. vs loading whole model"
   ],
   "id": "cb155d832bf7f1a7"
  },
  {
   "metadata": {
    "ExecuteTime": {
     "end_time": "2025-07-08T02:58:13.957100Z",
     "start_time": "2025-07-08T02:58:13.944159Z"
    }
   },
   "cell_type": "code",
   "source": [
    "# Saving our PyTorch model\n",
    "from pathlib import Path\n",
    "\n",
    "# 1. Create models directory\n",
    "MODEL_PATH = Path(\"models\")\n",
    "MODEL_PATH.mkdir(parents=True, exist_ok=True)\n",
    "\n",
    "# 2. Create model save path\n",
    "MODEL_NAME = \"01_pytorch_workflow_model_0.pth\"\n",
    "MODEL_SAVE_PATH = MODEL_PATH / MODEL_NAME\n",
    "\n",
    "# 3. Save the model state dict\n",
    "print(f\"Saving model to {MODEL_SAVE_PATH}\")\n",
    "torch.save(obj=model_0.state_dict(), f=MODEL_SAVE_PATH)"
   ],
   "id": "8296da09578005fc",
   "outputs": [
    {
     "name": "stdout",
     "output_type": "stream",
     "text": [
      "Saving model to models/01_pytorch_workflow_model_0.pth\n"
     ]
    }
   ],
   "execution_count": 96
  },
  {
   "metadata": {},
   "cell_type": "markdown",
   "source": [
    "### Loading PyTorch model\n",
    "Since we saved our model's 'state_dict()' rather thant the entire model, we''' create a new instancw of our model class and load the saved 'state_dict()' into that"
   ],
   "id": "a447911de2612634"
  },
  {
   "metadata": {
    "ExecuteTime": {
     "end_time": "2025-07-08T02:58:14.293691Z",
     "start_time": "2025-07-08T02:58:14.283165Z"
    }
   },
   "cell_type": "code",
   "source": [
    "# To load in a saved state_dict we have to instantiate a new instance of our model class\n",
    "loaded_model_0 = LinearRegressionModel()\n",
    "\n",
    "# Load the saved state_dict of model_0 (this will update the new instance with updated parameters\n",
    "loaded_model_0.load_state_dict(torch.load(MODEL_SAVE_PATH))"
   ],
   "id": "fa5287a2733f3d08",
   "outputs": [
    {
     "data": {
      "text/plain": [
       "<All keys matched successfully>"
      ]
     },
     "execution_count": 97,
     "metadata": {},
     "output_type": "execute_result"
    }
   ],
   "execution_count": 97
  },
  {
   "metadata": {
    "ExecuteTime": {
     "end_time": "2025-07-08T02:58:14.496849Z",
     "start_time": "2025-07-08T02:58:14.486310Z"
    }
   },
   "cell_type": "code",
   "source": "loaded_model_0.state_dict()",
   "id": "222a20eb9b069c54",
   "outputs": [
    {
     "data": {
      "text/plain": [
       "OrderedDict([('weights', tensor([0.4899])), ('bias', tensor([0.3830]))])"
      ]
     },
     "execution_count": 98,
     "metadata": {},
     "output_type": "execute_result"
    }
   ],
   "execution_count": 98
  },
  {
   "metadata": {
    "ExecuteTime": {
     "end_time": "2025-07-08T02:59:26.459619Z",
     "start_time": "2025-07-08T02:59:26.438461Z"
    }
   },
   "cell_type": "code",
   "source": [
    "loaded_model_0.eval()\n",
    "with torch.inference_mode():\n",
    "    loaded_model_preds = loaded_model_0(X_test)\n",
    "loaded_model_preds\n"
   ],
   "id": "358465c1a042e6b9",
   "outputs": [
    {
     "data": {
      "text/plain": [
       "tensor([[0.7749],\n",
       "        [0.7847],\n",
       "        [0.7945],\n",
       "        [0.8043],\n",
       "        [0.8141],\n",
       "        [0.8239],\n",
       "        [0.8337],\n",
       "        [0.8435],\n",
       "        [0.8532],\n",
       "        [0.8630]])"
      ]
     },
     "execution_count": 100,
     "metadata": {},
     "output_type": "execute_result"
    }
   ],
   "execution_count": 100
  },
  {
   "metadata": {
    "ExecuteTime": {
     "end_time": "2025-07-08T03:03:35.696588Z",
     "start_time": "2025-07-08T03:03:35.676790Z"
    }
   },
   "cell_type": "code",
   "source": [
    "# Compare loaded model preds with original model preds\n",
    "y_preds == loaded_model_preds"
   ],
   "id": "d919765c43b8cb04",
   "outputs": [
    {
     "data": {
      "text/plain": [
       "tensor([[False],\n",
       "        [False],\n",
       "        [False],\n",
       "        [False],\n",
       "        [False],\n",
       "        [False],\n",
       "        [False],\n",
       "        [False],\n",
       "        [False],\n",
       "        [False]])"
      ]
     },
     "execution_count": 101,
     "metadata": {},
     "output_type": "execute_result"
    }
   ],
   "execution_count": 101
  },
  {
   "metadata": {
    "ExecuteTime": {
     "end_time": "2025-07-08T03:05:28.848552Z",
     "start_time": "2025-07-08T03:05:28.841745Z"
    }
   },
   "cell_type": "code",
   "source": [
    "# Make some model preds\n",
    "model_0.eval()\n",
    "with torch.inference_mode():\n",
    "    y_preds = model_0(X_test)"
   ],
   "id": "22e7590617972fbc",
   "outputs": [],
   "execution_count": 104
  },
  {
   "metadata": {
    "ExecuteTime": {
     "end_time": "2025-07-08T03:05:31.123910Z",
     "start_time": "2025-07-08T03:05:31.120275Z"
    }
   },
   "cell_type": "code",
   "source": [
    "# Compare loaded model preds with original model preds\n",
    "y_preds == loaded_model_preds"
   ],
   "id": "a10f1394ff070d1",
   "outputs": [
    {
     "data": {
      "text/plain": [
       "tensor([[True],\n",
       "        [True],\n",
       "        [True],\n",
       "        [True],\n",
       "        [True],\n",
       "        [True],\n",
       "        [True],\n",
       "        [True],\n",
       "        [True],\n",
       "        [True]])"
      ]
     },
     "execution_count": 105,
     "metadata": {},
     "output_type": "execute_result"
    }
   ],
   "execution_count": 105
  },
  {
   "metadata": {},
   "cell_type": "markdown",
   "source": [
    "## 6. Putting it all together\n",
    "Let's go back through the steps above and see it all in one place."
   ],
   "id": "201bd88f6c47009a"
  },
  {
   "metadata": {
    "ExecuteTime": {
     "end_time": "2025-07-08T03:14:43.509326Z",
     "start_time": "2025-07-08T03:14:43.493579Z"
    }
   },
   "cell_type": "code",
   "source": [
    "import torch\n",
    "from torch import nn\n",
    "import matplotlib.pyplot as plt\n",
    "\n",
    "# Check Pytorch version\n",
    "torch.__version__"
   ],
   "id": "52901e93c1022290",
   "outputs": [
    {
     "data": {
      "text/plain": [
       "'2.7.1'"
      ]
     },
     "execution_count": 106,
     "metadata": {},
     "output_type": "execute_result"
    }
   ],
   "execution_count": 106
  },
  {
   "metadata": {},
   "cell_type": "markdown",
   "source": [
    "Create device-agnostic code.\n",
    "<br><br> This means if we've got access to GPU, our code will use it (for potentially faster computing).\n",
    "<br><br> If no GPU is available, the code will default to using CPU.\n"
   ],
   "id": "9b1d70f07b8bb2a9"
  },
  {
   "metadata": {
    "ExecuteTime": {
     "end_time": "2025-07-08T03:17:11.610391Z",
     "start_time": "2025-07-08T03:17:11.594630Z"
    }
   },
   "cell_type": "code",
   "source": [
    "# Setup device agnostic code\n",
    "device = \"cuda\" if torch.cuda.is_available() else \"cpu\"\n",
    "print(device)"
   ],
   "id": "28ea0daf67b2fd1d",
   "outputs": [
    {
     "name": "stdout",
     "output_type": "stream",
     "text": [
      "cpu\n"
     ]
    }
   ],
   "execution_count": 107
  },
  {
   "metadata": {},
   "cell_type": "markdown",
   "source": "### 6.1 Data",
   "id": "d925ea8722405f02"
  },
  {
   "metadata": {
    "ExecuteTime": {
     "end_time": "2025-07-08T03:25:38.449472Z",
     "start_time": "2025-07-08T03:25:38.333184Z"
    }
   },
   "cell_type": "code",
   "source": [
    "# Create some data using the linear regression formula of y = weight * X + bias\n",
    "weight = 0.2\n",
    "bias = 0.1\n",
    "\n",
    "# Create range values\n",
    "start = 0\n",
    "end = 1\n",
    "step = 0.02\n",
    "\n",
    "# Create X and y (features and labels)\n",
    "X = torch.arange(start, end, step).unsqueeze(1)\n",
    "y = weight * X + bias\n",
    "X[:10], y[:10]"
   ],
   "id": "ce7145041808f421",
   "outputs": [
    {
     "data": {
      "text/plain": [
       "(tensor([[0.0000],\n",
       "         [0.0200],\n",
       "         [0.0400],\n",
       "         [0.0600],\n",
       "         [0.0800],\n",
       "         [0.1000],\n",
       "         [0.1200],\n",
       "         [0.1400],\n",
       "         [0.1600],\n",
       "         [0.1800]]),\n",
       " tensor([[0.1000],\n",
       "         [0.1040],\n",
       "         [0.1080],\n",
       "         [0.1120],\n",
       "         [0.1160],\n",
       "         [0.1200],\n",
       "         [0.1240],\n",
       "         [0.1280],\n",
       "         [0.1320],\n",
       "         [0.1360]]))"
      ]
     },
     "execution_count": 108,
     "metadata": {},
     "output_type": "execute_result"
    }
   ],
   "execution_count": 108
  },
  {
   "metadata": {
    "ExecuteTime": {
     "end_time": "2025-07-08T03:26:47.016265Z",
     "start_time": "2025-07-08T03:26:47.003017Z"
    }
   },
   "cell_type": "code",
   "source": [
    "# Split data\n",
    "train_split = int(0.8 * len(X))\n",
    "X_train, y_train = X[:train_split], y[:train_split]\n",
    "X_test, y_test = X[train_split:], y[train_split:]\n",
    "len(X_train), len(X_test), len(y_train), len(y_test)"
   ],
   "id": "c192e9f742060383",
   "outputs": [
    {
     "data": {
      "text/plain": [
       "(40, 10, 40, 10)"
      ]
     },
     "execution_count": 109,
     "metadata": {},
     "output_type": "execute_result"
    }
   ],
   "execution_count": 109
  },
  {
   "metadata": {
    "ExecuteTime": {
     "end_time": "2025-07-08T03:28:38.281251Z",
     "start_time": "2025-07-08T03:28:38.022658Z"
    }
   },
   "cell_type": "code",
   "source": [
    "# Plot the data\n",
    "# Note: if you don't have the plot predictions() function loaded, this will error\n",
    "plot_predictions(X_train, y_train, X_test, y_test)"
   ],
   "id": "70397201afb1e74",
   "outputs": [
    {
     "data": {
      "text/plain": [
       "<Figure size 1000x600 with 1 Axes>"
      ],
      "image/png": "[encoded data removed]"
     },
     "metadata": {},
     "output_type": "display_data"
    }
   ],
   "execution_count": 110
  },
  {
   "metadata": {},
   "cell_type": "markdown",
   "source": "### 6.2 Building a PyTorch linear model\n",
   "id": "574258fee1ab62a1"
  },
  {
   "metadata": {
    "ExecuteTime": {
     "end_time": "2025-07-08T04:13:57.355337Z",
     "start_time": "2025-07-08T04:13:57.272631Z"
    }
   },
   "cell_type": "code",
   "source": [
    "# Create a linear model by subclassing nn.Module\n",
    "class LinearRegressionModelV2(nn.Module):\n",
    "    def __init__(self):\n",
    "        super().__init__()\n",
    "        # Use nn.Linear() for creating the model parameters\n",
    "        self.linear_layer = nn.Linear(in_features=1, out_features=1)\n",
    "\n",
    "    def forward(self, x: torch.Tensor) -> torch.Tensor:\n",
    "        return self.linear_layer(x)\n",
    "\n",
    "torch.manual_seed(42)\n",
    "model_1 = LinearRegressionModelV2()\n",
    "model_1, model_1.state_dict()"
   ],
   "id": "25b47d3bcba3eb2e",
   "outputs": [
    {
     "data": {
      "text/plain": [
       "(LinearRegressionModelV2(\n",
       "   (linear_layer): Linear(in_features=1, out_features=1, bias=True)\n",
       " ),\n",
       " OrderedDict([('linear_layer.weight', tensor([[0.7645]])),\n",
       "              ('linear_layer.bias', tensor([0.8300]))]))"
      ]
     },
     "execution_count": 113,
     "metadata": {},
     "output_type": "execute_result"
    }
   ],
   "execution_count": 113
  },
  {
   "metadata": {
    "ExecuteTime": {
     "end_time": "2025-07-08T04:22:24.024749Z",
     "start_time": "2025-07-08T04:22:23.994379Z"
    }
   },
   "cell_type": "code",
   "source": "X_train[:5], y_train[:5]\n",
   "id": "bb63897ebeef8c1",
   "outputs": [
    {
     "data": {
      "text/plain": [
       "(tensor([[0.0000],\n",
       "         [0.0200],\n",
       "         [0.0400],\n",
       "         [0.0600],\n",
       "         [0.0800]]),\n",
       " tensor([[0.1000],\n",
       "         [0.1040],\n",
       "         [0.1080],\n",
       "         [0.1120],\n",
       "         [0.1160]]))"
      ]
     },
     "execution_count": 114,
     "metadata": {},
     "output_type": "execute_result"
    }
   ],
   "execution_count": 114
  },
  {
   "metadata": {
    "ExecuteTime": {
     "end_time": "2025-07-08T04:23:51.451161Z",
     "start_time": "2025-07-08T04:23:51.431358Z"
    }
   },
   "cell_type": "code",
   "source": [
    "# Set the model to use the target device\n",
    "model_1.to(device)\n",
    "next(model_1.parameters()).device"
   ],
   "id": "be30bc75ab1b6bf9",
   "outputs": [
    {
     "data": {
      "text/plain": [
       "device(type='cpu')"
      ]
     },
     "execution_count": 116,
     "metadata": {},
     "output_type": "execute_result"
    }
   ],
   "execution_count": 116
  },
  {
   "metadata": {},
   "cell_type": "markdown",
   "source": [
    "### 6.3 Training\n",
    "For training we need:\n",
    "* Loss function\n",
    "* Optimizer\n",
    "* Training loop\n",
    "* Testing loop"
   ],
   "id": "74b6f047fb4bb6a3"
  }
 ],
 "metadata": {
  "kernelspec": {
   "display_name": "Python 3",
   "language": "python",
   "name": "python3"
  },
  "language_info": {
   "codemirror_mode": {
    "name": "ipython",
    "version": 2
   },
   "file_extension": ".py",
   "mimetype": "text/x-python",
   "name": "python",
   "nbconvert_exporter": "python",
   "pygments_lexer": "ipython2",
   "version": "2.7.6"
  }
 },
 "nbformat": 4,
 "nbformat_minor": 5
}
