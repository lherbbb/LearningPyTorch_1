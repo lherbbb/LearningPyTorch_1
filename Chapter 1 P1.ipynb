{
 "cells": [
  {
   "metadata": {},
   "cell_type": "raw",
   "source": [
    "import torch\n",
    "import numpy as np\n",
    "import matplotlib.pyplot as plt\n",
    "import pandas\n"
   ],
   "id": "cd200978c6ee3c41"
  },
  {
   "metadata": {},
   "cell_type": "markdown",
   "source": [
    "### PyTorch Workflow\n",
    "Lets explore an example of PyTorch end-to-end workflow\n",
    "<br>"
   ],
   "id": "9f8ca08c14f9ca1c"
  },
  {
   "metadata": {
    "ExecuteTime": {
     "end_time": "2025-07-04T21:16:39.274536Z",
     "start_time": "2025-07-04T21:16:39.264817Z"
    }
   },
   "cell_type": "code",
   "source": [
    "what_were_covering = {1: \"data (prepare and load)\",\n",
    "                      2: \"build model\",\n",
    "                      3: \"fitting the model to data (training)\",\n",
    "                      4: \"making predictions and evaluating a model (inference)\",\n",
    "                      5: \"saving and loading a model\",\n",
    "                      6: \"putting it all together\"}\n",
    "\n"
   ],
   "id": "dc3df3a5ecb673f9",
   "outputs": [],
   "execution_count": 2
  },
  {
   "metadata": {
    "ExecuteTime": {
     "end_time": "2025-07-04T21:19:47.726186Z",
     "start_time": "2025-07-04T21:19:47.719325Z"
    }
   },
   "cell_type": "code",
   "source": [
    "from torch import nn # nn contains building all of PyTorchs building blocks for neural networks\n",
    "# check PyTorch Version\n",
    "torch.__version__\n"
   ],
   "id": "952fb3bd82245a23",
   "outputs": [
    {
     "data": {
      "text/plain": [
       "'2.7.1'"
      ]
     },
     "execution_count": 4,
     "metadata": {},
     "output_type": "execute_result"
    }
   ],
   "execution_count": 4
  },
  {
   "metadata": {},
   "cell_type": "markdown",
   "source": [
    "## Data (Preparing and Loading)\n",
    "Data can be almost anything... in machine learning/\n",
    "* Excel spreadsheet\n",
    "* Images of any kind\n",
    "* Videos\n",
    "* Audio\n",
    "* DNA"
   ],
   "id": "2d525706486fc4eb"
  },
  {
   "metadata": {},
   "cell_type": "code",
   "outputs": [],
   "execution_count": null,
   "source": "",
   "id": "71bec5258f589031"
  }
 ],
 "metadata": {
  "kernelspec": {
   "display_name": "Python 3",
   "language": "python",
   "name": "python3"
  },
  "language_info": {
   "codemirror_mode": {
    "name": "ipython",
    "version": 2
   },
   "file_extension": ".py",
   "mimetype": "text/x-python",
   "name": "python",
   "nbconvert_exporter": "python",
   "pygments_lexer": "ipython2",
   "version": "2.7.6"
  }
 },
 "nbformat": 4,
 "nbformat_minor": 5
}
