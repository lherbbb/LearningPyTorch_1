{
 "cells": [
  {
   "metadata": {},
   "cell_type": "raw",
   "source": "",
   "id": "cd200978c6ee3c41"
  },
  {
   "metadata": {
    "ExecuteTime": {
     "end_time": "2025-07-06T00:38:43.272458Z",
     "start_time": "2025-07-06T00:38:41.958248Z"
    }
   },
   "cell_type": "code",
   "source": [
    "import torch\n",
    "import matplotlib.pyplot as plt\n",
    "import numpy as np\n",
    "from torch import nn"
   ],
   "id": "781c629f03d3e2ed",
   "outputs": [],
   "execution_count": 1
  },
  {
   "metadata": {},
   "cell_type": "markdown",
   "source": [
    "### PyTorch Workflow\n",
    "Lets explore an example of PyTorch end-to-end workflow\n",
    "<br>"
   ],
   "id": "9f8ca08c14f9ca1c"
  },
  {
   "metadata": {
    "ExecuteTime": {
     "end_time": "2025-07-06T00:38:43.289740Z",
     "start_time": "2025-07-06T00:38:43.287711Z"
    }
   },
   "cell_type": "code",
   "source": [
    "what_were_covering = {1: \"data (prepare and load)\",\n",
    "                      2: \"build model\",\n",
    "                      3: \"fitting the model to data (training)\",\n",
    "                      4: \"making predictions and evaluating a model (inference)\",\n",
    "                      5: \"saving and loading a model\",\n",
    "                      6: \"putting it all together\"}"
   ],
   "id": "dc3df3a5ecb673f9",
   "outputs": [],
   "execution_count": 2
  },
  {
   "metadata": {
    "ExecuteTime": {
     "end_time": "2025-07-06T00:38:43.302645Z",
     "start_time": "2025-07-06T00:38:43.299277Z"
    }
   },
   "cell_type": "code",
   "source": [
    "from torch import nn # nn contains building all of PyTorchs building blocks for neural networks\n",
    "# check PyTorch Version\n",
    "torch.__version__\n"
   ],
   "id": "952fb3bd82245a23",
   "outputs": [
    {
     "data": {
      "text/plain": [
       "'2.7.1'"
      ]
     },
     "execution_count": 3,
     "metadata": {},
     "output_type": "execute_result"
    }
   ],
   "execution_count": 3
  },
  {
   "metadata": {},
   "cell_type": "markdown",
   "source": [
    "## Data (Preparing and Loading)\n",
    "Data can be almost anything... in machine learning/\n",
    "* Excel spreadsheet\n",
    "* Images of any kind\n",
    "* Videos\n",
    "* Audio\n",
    "* DNA\n",
    "<br>\n",
    "Machine Learning is a game of two parts\"\n",
    "1. Get data into numerical representation.\n",
    "2. Build a model to learn patters in that numerical representations\n",
    "<br>"
   ],
   "id": "2d525706486fc4eb"
  },
  {
   "metadata": {
    "ExecuteTime": {
     "end_time": "2025-07-06T00:38:43.432651Z",
     "start_time": "2025-07-06T00:38:43.406057Z"
    }
   },
   "cell_type": "code",
   "source": [
    "# Create *know* parameters\n",
    "weight = 0.7\n",
    "bias = 0.3\n",
    "\n",
    "\n",
    "# Create\n",
    "start = 0\n",
    "end = 1\n",
    "step = 0.02\n",
    "X = torch.arange(start, end, step).unsqueeze(1)\n",
    "y = weight * X + bias\n",
    "X[:10], y[:10]\n"
   ],
   "id": "d28cb0aba3dbfe0c",
   "outputs": [
    {
     "data": {
      "text/plain": [
       "(tensor([[0.0000],\n",
       "         [0.0200],\n",
       "         [0.0400],\n",
       "         [0.0600],\n",
       "         [0.0800],\n",
       "         [0.1000],\n",
       "         [0.1200],\n",
       "         [0.1400],\n",
       "         [0.1600],\n",
       "         [0.1800]]),\n",
       " tensor([[0.3000],\n",
       "         [0.3140],\n",
       "         [0.3280],\n",
       "         [0.3420],\n",
       "         [0.3560],\n",
       "         [0.3700],\n",
       "         [0.3840],\n",
       "         [0.3980],\n",
       "         [0.4120],\n",
       "         [0.4260]]))"
      ]
     },
     "execution_count": 4,
     "metadata": {},
     "output_type": "execute_result"
    }
   ],
   "execution_count": 4
  },
  {
   "metadata": {},
   "cell_type": "markdown",
   "source": "### Splitting data into training and test sets",
   "id": "c1246204a6c1575b"
  },
  {
   "metadata": {
    "ExecuteTime": {
     "end_time": "2025-07-06T00:53:49.912341Z",
     "start_time": "2025-07-06T00:53:49.908054Z"
    }
   },
   "cell_type": "code",
   "source": [
    "# Create a train/test split\n",
    "train_split = int(0.8 * len(X))\n",
    "X_train, X_test = X[:train_split], X[train_split:]\n",
    "y_train, y_test = y[:train_split], y[train_split:]\n",
    "len(X_train), len(X_test), len(y_train), len(y_test)"
   ],
   "id": "931f10705168758e",
   "outputs": [
    {
     "data": {
      "text/plain": [
       "(40, 10, 40, 10)"
      ]
     },
     "execution_count": 11,
     "metadata": {},
     "output_type": "execute_result"
    }
   ],
   "execution_count": 11
  },
  {
   "metadata": {},
   "cell_type": "markdown",
   "source": "### How to better visualize data:",
   "id": "36c46920a1e6a345"
  },
  {
   "metadata": {
    "ExecuteTime": {
     "end_time": "2025-07-06T01:09:51.208869Z",
     "start_time": "2025-07-06T01:09:51.204574Z"
    }
   },
   "cell_type": "code",
   "source": [
    "def plot_predictions(train_data=X_train,\n",
    "                     train_labels=y_train,\n",
    "                     test_data=X_test,\n",
    "                     test_labels=y_test,\n",
    "                     predictions=None):\n",
    "    plt.figure(figsize=(10,6))\n",
    "    # Plot training data in blue\n",
    "    plt.scatter(train_data, train_labels, c=\"b\", s=4, label=\"Training data\")\n",
    "\n",
    "    # Plot test data in green\n",
    "    plt.scatter(test_data, test_labels, c=\"g\", s=4, label=\"Testing data\")\n",
    "\n",
    "    # Are there predictions?\n",
    "    if predictions is not None:\n",
    "        # Plot them if they exist\n",
    "        plt.scatter(test_data, predictions, c=\"r\", s=4, label=\"Predictions\")\n",
    "\n",
    "    plt.legend(prop={'size': 14})"
   ],
   "id": "ea3ce747ab8b3456",
   "outputs": [],
   "execution_count": 17
  },
  {
   "metadata": {
    "ExecuteTime": {
     "end_time": "2025-07-06T01:09:53.022191Z",
     "start_time": "2025-07-06T01:09:52.936789Z"
    }
   },
   "cell_type": "code",
   "source": "plot_predictions()",
   "id": "72be1e708c9bc22c",
   "outputs": [
    {
     "data": {
      "text/plain": [
       "<Figure size 1000x600 with 1 Axes>"
      ],
      "image/png": "[encoded data removed]"
     },
     "metadata": {},
     "output_type": "display_data"
    }
   ],
   "execution_count": 18
  },
  {
   "metadata": {},
   "cell_type": "markdown",
   "source": "## 2. Build Model",
   "id": "2c3c60d1e95cdc24"
  },
  {
   "metadata": {},
   "cell_type": "code",
   "outputs": [],
   "execution_count": null,
   "source": [
    "class LinearRegressionModel(nn.Module): # <- almost everything in Pytorch inherits from nn.Module\n",
    "    def __init__(self):\n",
    "        super().__init__() #\n",
    "        self.weights = nn.Parameter(torch.randn(1,\n",
    "                                                requires_grad=True,\n",
    "                                                dtype=torch.float))\n",
    "        self.bias = nn.Parameter(torch.randn(1,\n",
    "                                             requires_grad=True,\n",
    "                                             dtype=torch.float))\n",
    "        # Forward method to define the computation in the model\n",
    "        def forward(self, x: torch.Tensor) -> torch.Tensor: # \"x\" is the input data\n",
    "            return self.weights * x + self.bias # linear regression formula d\n",
    "\n"
   ],
   "id": "2ae24d99acc026c"
  },
  {
   "metadata": {},
   "cell_type": "markdown",
   "source": [
    "### PyTorch model building essentials\n",
    "* torch.nn - contains all of the building blocks for computational graphs\n",
    "* torch.nn.parameters - what parameters should our model try and learn, often a Pytorch layer from torch.nn will set these for us\n",
    "* torch.nn.Module -  THe base class for all neural network modules, if you subclass it, you should overwrite forward\n",
    "* torch.optim - this is where the optimizers live, they will help with gradient descent\n",
    "* torch.util.data.dataset - Represents a map between key (label) and sample (features) pairs of the data. Such as images and their associated labels\n",
    "* torch.util.data.dataloader - Creates a python iterable over a torch dataset"
   ],
   "id": "93f31bad49900e54"
  },
  {
   "metadata": {},
   "cell_type": "code",
   "outputs": [],
   "execution_count": null,
   "source": "<br>",
   "id": "a7d5ed9798b81375"
  }
 ],
 "metadata": {
  "kernelspec": {
   "display_name": "Python 3",
   "language": "python",
   "name": "python3"
  },
  "language_info": {
   "codemirror_mode": {
    "name": "ipython",
    "version": 2
   },
   "file_extension": ".py",
   "mimetype": "text/x-python",
   "name": "python",
   "nbconvert_exporter": "python",
   "pygments_lexer": "ipython2",
   "version": "2.7.6"
  }
 },
 "nbformat": 4,
 "nbformat_minor": 5
}
