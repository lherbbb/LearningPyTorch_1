{
 "cells": [
  {
   "metadata": {},
   "cell_type": "raw",
   "source": "",
   "id": "cd200978c6ee3c41"
  },
  {
   "metadata": {
    "ExecuteTime": {
     "end_time": "2025-07-07T17:27:51.552068Z",
     "start_time": "2025-07-07T17:27:51.548516Z"
    }
   },
   "cell_type": "code",
   "source": [
    "import torch\n",
    "import matplotlib.pyplot as plt\n",
    "import numpy as np\n",
    "from torch import nn"
   ],
   "id": "781c629f03d3e2ed",
   "outputs": [],
   "execution_count": 26
  },
  {
   "metadata": {},
   "cell_type": "markdown",
   "source": [
    "### PyTorch Workflow\n",
    "Lets explore an example of PyTorch end-to-end workflow\n",
    "<br>"
   ],
   "id": "9f8ca08c14f9ca1c"
  },
  {
   "metadata": {
    "ExecuteTime": {
     "end_time": "2025-07-07T17:27:51.568841Z",
     "start_time": "2025-07-07T17:27:51.565708Z"
    }
   },
   "cell_type": "code",
   "source": [
    "what_were_covering = {1: \"data (prepare and load)\",\n",
    "                      2: \"build model\",\n",
    "                      3: \"fitting the model to data (training)\",\n",
    "                      4: \"making predictions and evaluating a model (inference)\",\n",
    "                      5: \"saving and loading a model\",\n",
    "                      6: \"putting it all together\"}"
   ],
   "id": "dc3df3a5ecb673f9",
   "outputs": [],
   "execution_count": 27
  },
  {
   "metadata": {
    "ExecuteTime": {
     "end_time": "2025-07-07T17:27:51.585538Z",
     "start_time": "2025-07-07T17:27:51.583564Z"
    }
   },
   "cell_type": "code",
   "source": [
    "from torch import nn # nn contains building all of PyTorchs building blocks for neural networks\n",
    "# check PyTorch Version\n",
    "\n"
   ],
   "id": "952fb3bd82245a23",
   "outputs": [],
   "execution_count": 28
  },
  {
   "metadata": {},
   "cell_type": "markdown",
   "source": [
    "## Data (Preparing and Loading)\n",
    "Data can be almost anything... in machine learning/\n",
    "* Excel spreadsheet\n",
    "* Images of any kind\n",
    "* Videos\n",
    "* Audio\n",
    "* DNA\n",
    "<br>\n",
    "Machine Learning is a game of two parts\"\n",
    "1. Get data into numerical representation.\n",
    "2. Build a model to learn patters in that numerical representations\n",
    "<br>"
   ],
   "id": "2d525706486fc4eb"
  },
  {
   "metadata": {
    "ExecuteTime": {
     "end_time": "2025-07-07T17:27:51.602665Z",
     "start_time": "2025-07-07T17:27:51.598393Z"
    }
   },
   "cell_type": "code",
   "source": [
    "# Create *know* parameters\n",
    "weight = 0.7\n",
    "bias = 0.3\n",
    "\n",
    "\n",
    "# Create\n",
    "start = 0\n",
    "end = 1\n",
    "step = 0.02\n",
    "X = torch.arange(start, end, step).unsqueeze(1)\n",
    "y = weight * X + bias\n",
    "X[:10], y[:10]\n"
   ],
   "id": "d28cb0aba3dbfe0c",
   "outputs": [
    {
     "data": {
      "text/plain": [
       "(tensor([[0.0000],\n",
       "         [0.0200],\n",
       "         [0.0400],\n",
       "         [0.0600],\n",
       "         [0.0800],\n",
       "         [0.1000],\n",
       "         [0.1200],\n",
       "         [0.1400],\n",
       "         [0.1600],\n",
       "         [0.1800]]),\n",
       " tensor([[0.3000],\n",
       "         [0.3140],\n",
       "         [0.3280],\n",
       "         [0.3420],\n",
       "         [0.3560],\n",
       "         [0.3700],\n",
       "         [0.3840],\n",
       "         [0.3980],\n",
       "         [0.4120],\n",
       "         [0.4260]]))"
      ]
     },
     "execution_count": 29,
     "metadata": {},
     "output_type": "execute_result"
    }
   ],
   "execution_count": 29
  },
  {
   "metadata": {},
   "cell_type": "markdown",
   "source": "### Splitting data into training and test sets",
   "id": "c1246204a6c1575b"
  },
  {
   "metadata": {
    "ExecuteTime": {
     "end_time": "2025-07-07T17:27:51.630225Z",
     "start_time": "2025-07-07T17:27:51.624495Z"
    }
   },
   "cell_type": "code",
   "source": [
    "# Create a train/test split\n",
    "train_split = int(0.8 * len(X))\n",
    "X_train, X_test = X[:train_split], X[train_split:]\n",
    "y_train, y_test = y[:train_split], y[train_split:]\n",
    "len(X_train), len(X_test), len(y_train), len(y_test)"
   ],
   "id": "931f10705168758e",
   "outputs": [
    {
     "data": {
      "text/plain": [
       "(40, 10, 40, 10)"
      ]
     },
     "execution_count": 30,
     "metadata": {},
     "output_type": "execute_result"
    }
   ],
   "execution_count": 30
  },
  {
   "metadata": {},
   "cell_type": "markdown",
   "source": "### How to better visualize data:",
   "id": "36c46920a1e6a345"
  },
  {
   "metadata": {
    "ExecuteTime": {
     "end_time": "2025-07-07T17:27:51.664465Z",
     "start_time": "2025-07-07T17:27:51.661873Z"
    }
   },
   "cell_type": "code",
   "source": [
    "def plot_predictions(train_data=X_train,\n",
    "                     train_labels=y_train,\n",
    "                     test_data=X_test,\n",
    "                     test_labels=y_test,\n",
    "                     predictions=None):\n",
    "    plt.figure(figsize=(10,6))\n",
    "    # Plot training data in blue\n",
    "    plt.scatter(train_data, train_labels, c=\"b\", s=4, label=\"Training data\")\n",
    "\n",
    "    # Plot test data in green\n",
    "    plt.scatter(test_data, test_labels, c=\"g\", s=4, label=\"Testing data\")\n",
    "\n",
    "    # Are there predictions?\n",
    "    if predictions is not None:\n",
    "        # Plot them if they exist\n",
    "        plt.scatter(test_data, predictions, c=\"r\", s=4, label=\"Predictions\")\n",
    "\n",
    "    plt.legend(prop={'size': 14})"
   ],
   "id": "ea3ce747ab8b3456",
   "outputs": [],
   "execution_count": 31
  },
  {
   "metadata": {
    "ExecuteTime": {
     "end_time": "2025-07-07T17:27:51.760072Z",
     "start_time": "2025-07-07T17:27:51.682830Z"
    }
   },
   "cell_type": "code",
   "source": "plot_predictions()",
   "id": "72be1e708c9bc22c",
   "outputs": [
    {
     "data": {
      "text/plain": [
       "<Figure size 1000x600 with 1 Axes>"
      ],
      "image/png": "[encoded data removed]"
     },
     "metadata": {},
     "output_type": "display_data"
    }
   ],
   "execution_count": 32
  },
  {
   "metadata": {},
   "cell_type": "markdown",
   "source": "## 2. Build Model",
   "id": "2c3c60d1e95cdc24"
  },
  {
   "metadata": {
    "ExecuteTime": {
     "end_time": "2025-07-07T17:39:52.431840Z",
     "start_time": "2025-07-07T17:39:52.418753Z"
    }
   },
   "cell_type": "code",
   "source": [
    "class LinearRegressionModel(nn.Module): # <- almost everything in Pytorch inherits from nn.Module\n",
    "    def __init__(self):\n",
    "        super().__init__() #\n",
    "        self.weights = nn.Parameter(torch.randn(1,\n",
    "                                                requires_grad=True,\n",
    "                                                dtype=torch.float))\n",
    "        self.bias = nn.Parameter(torch.randn(1,\n",
    "                                             requires_grad=True,\n",
    "                                             dtype=torch.float))\n",
    "    # Forward method to define the computation in the model\n",
    "    def forward(self, x: torch.Tensor) -> torch.Tensor: # \"x\" is the input data\n",
    "        return self.weights * x + self.bias # linear regression formula\n",
    "\n"
   ],
   "id": "2ae24d99acc026c",
   "outputs": [],
   "execution_count": 45
  },
  {
   "metadata": {},
   "cell_type": "markdown",
   "source": [
    "### PyTorch model building essentials\n",
    "* torch.nn - contains all of the building blocks for computational graphs\n",
    "* torch.nn.parameters - what parameters should our model try and learn, often a Pytorch layer from torch.nn will set these for us\n",
    "* torch.nn.Module -  THe base class for all neural network modules, if you subclass it, you should overwrite forward\n",
    "* torch.optim - this is where the optimizers live, they will help with gradient descent\n",
    "* torch.util.data.dataset - Represents a map between key (label) and sample (features) pairs of the data. Such as images and their associated labels\n",
    "* torch.util.data.dataloader - Creates a python iterable over a torch dataset\n",
    "*  def forward()- ALl nnn.module subclasses require you to overwrite forward(),"
   ],
   "id": "93f31bad49900e54"
  },
  {
   "metadata": {
    "ExecuteTime": {
     "end_time": "2025-07-07T17:39:52.462124Z",
     "start_time": "2025-07-07T17:39:52.456062Z"
    }
   },
   "cell_type": "code",
   "source": [
    "# Checking the contents of our PyTorch model\n",
    "\n",
    "# Create a random seed\n",
    "torch.manual_seed(42)\n",
    "\n",
    "# Create an instance of the model\n",
    "model_0 = LinearRegressionModel()\n",
    "\n",
    "# Check out the parameters\n",
    "list(model_0.parameters())"
   ],
   "id": "a7d5ed9798b81375",
   "outputs": [
    {
     "data": {
      "text/plain": [
       "[Parameter containing:\n",
       " tensor([0.3367], requires_grad=True),\n",
       " Parameter containing:\n",
       " tensor([0.1288], requires_grad=True)]"
      ]
     },
     "execution_count": 46,
     "metadata": {},
     "output_type": "execute_result"
    }
   ],
   "execution_count": 46
  },
  {
   "metadata": {
    "ExecuteTime": {
     "end_time": "2025-07-07T17:39:52.483604Z",
     "start_time": "2025-07-07T17:39:52.477801Z"
    }
   },
   "cell_type": "code",
   "source": [
    "# List named parameters\n",
    "model_0.state_dict()"
   ],
   "id": "2d5ef334af76eb92",
   "outputs": [
    {
     "data": {
      "text/plain": [
       "OrderedDict([('weights', tensor([0.3367])), ('bias', tensor([0.1288]))])"
      ]
     },
     "execution_count": 47,
     "metadata": {},
     "output_type": "execute_result"
    }
   ],
   "execution_count": 47
  },
  {
   "metadata": {
    "ExecuteTime": {
     "end_time": "2025-07-07T17:39:52.506404Z",
     "start_time": "2025-07-07T17:39:52.502547Z"
    }
   },
   "cell_type": "code",
   "source": "weight, bias",
   "id": "95796109fbe4c20",
   "outputs": [
    {
     "data": {
      "text/plain": [
       "(0.7, 0.3)"
      ]
     },
     "execution_count": 48,
     "metadata": {},
     "output_type": "execute_result"
    }
   ],
   "execution_count": 48
  },
  {
   "metadata": {},
   "cell_type": "markdown",
   "source": [
    "### Making predictions using 'torch.inference_mode()'\n",
    "To check our model's predictive power, let's see how well it predicts 'y_test' base on 'x_test'\n",
    "<br> When we pass data through our model, it's going to run through the 'forward()' method"
   ],
   "id": "cbc85fba4cc9c5b4"
  },
  {
   "metadata": {
    "ExecuteTime": {
     "end_time": "2025-07-07T17:39:52.530343Z",
     "start_time": "2025-07-07T17:39:52.526624Z"
    }
   },
   "cell_type": "code",
   "source": [
    "# Make predictions with model\n",
    "# Inference mode makes code faster, by not tracking grad.\n",
    "# Same as .no_grad(), but with extra features.\n",
    "with torch.inference_mode():\n",
    "    y_preds = model_0(X_test)\n",
    "\n",
    "y_preds\n"
   ],
   "id": "5dee7f78c407152c",
   "outputs": [
    {
     "data": {
      "text/plain": [
       "tensor([[0.3982],\n",
       "        [0.4049],\n",
       "        [0.4116],\n",
       "        [0.4184],\n",
       "        [0.4251],\n",
       "        [0.4318],\n",
       "        [0.4386],\n",
       "        [0.4453],\n",
       "        [0.4520],\n",
       "        [0.4588]])"
      ]
     },
     "execution_count": 49,
     "metadata": {},
     "output_type": "execute_result"
    }
   ],
   "execution_count": 49
  },
  {
   "metadata": {
    "ExecuteTime": {
     "end_time": "2025-07-07T17:39:52.707663Z",
     "start_time": "2025-07-07T17:39:52.599168Z"
    }
   },
   "cell_type": "code",
   "source": "plot_predictions(predictions=y_preds)",
   "id": "8f461c14fd7e00da",
   "outputs": [
    {
     "data": {
      "text/plain": [
       "<Figure size 1000x600 with 1 Axes>"
      ],
      "image/png": "[encoded data removed]"
     },
     "metadata": {},
     "output_type": "display_data"
    }
   ],
   "execution_count": 50
  },
  {
   "metadata": {},
   "cell_type": "markdown",
   "source": [
    "## 3. Train model\n",
    "<br> The whole idea of training is for a model to move from *unkown* parameters (these may be random) to soem *known* parameters\n",
    "<br> Or in other words from a poor representation of the data to a better representation of the data\n",
    "<br> One way to measure how poor or how wrong your models predictions are is to use a loss function\n",
    "<br><br> Note: Loss Function may be also called cost function or criterion in different areas.\n",
    "<br><br> Things we need to train: <br>\n",
    " <br>**Loss function:** A function to measure how wrong your model's predictions are to the ideas outputs, lower is better.\n",
    " <br> **Optimizer:** Takes into account the loss of  amodel and ajusts the model's parameters (e.g. weight and bias)\n",
    " <br> inside optimizers you'll often set two parameters:\n",
    " <br> * params- the model paraeters you'd like to optimize, for example \"parmas=model_0.parameters()'\n",
    " <br> * lr (learning rate) - the learning rate is a hyperparameter that defines how big/small the optimizer chjanges the parameters with each step ( small lr results in small change, big lr big changes)\n",
    " <br><br> And specifically for PyTorch we need:\n",
    " <br> A training loop\n",
    " <br> A testing loop"
   ],
   "id": "abc55fb24257f3ad"
  },
  {
   "metadata": {
    "ExecuteTime": {
     "end_time": "2025-07-07T17:46:23.366098Z",
     "start_time": "2025-07-07T17:46:23.332373Z"
    }
   },
   "cell_type": "code",
   "source": [
    "# Check out parameters\n",
    "model_0.state_dict()"
   ],
   "id": "6e35f737d417f797",
   "outputs": [
    {
     "data": {
      "text/plain": [
       "OrderedDict([('weights', tensor([0.3367])), ('bias', tensor([0.1288]))])"
      ]
     },
     "execution_count": 52,
     "metadata": {},
     "output_type": "execute_result"
    }
   ],
   "execution_count": 52
  },
  {
   "metadata": {
    "ExecuteTime": {
     "end_time": "2025-07-07T18:01:46.653439Z",
     "start_time": "2025-07-07T18:01:46.635999Z"
    }
   },
   "cell_type": "code",
   "source": [
    "# Setup a loss function\n",
    "loss_fn = nn.MSELoss()\n",
    "\n",
    "# Setup an optimizer\n",
    "optimizer = torch.optim.SGD(params=model_0.parameters(),\n",
    "                            lr=0.01)\n"
   ],
   "id": "8e2565c3ab8c36cd",
   "outputs": [],
   "execution_count": 53
  },
  {
   "metadata": {},
   "cell_type": "markdown",
   "source": [
    "### Building a training loop (and testing loop) in PyTorch\n",
    "<br> A couple of things we need in a training loop"
   ],
   "id": "832403a01bf292e9"
  },
  {
   "metadata": {},
   "cell_type": "code",
   "outputs": [],
   "execution_count": null,
   "source": "",
   "id": "4a5b6df64bb75e92"
  }
 ],
 "metadata": {
  "kernelspec": {
   "display_name": "Python 3",
   "language": "python",
   "name": "python3"
  },
  "language_info": {
   "codemirror_mode": {
    "name": "ipython",
    "version": 2
   },
   "file_extension": ".py",
   "mimetype": "text/x-python",
   "name": "python",
   "nbconvert_exporter": "python",
   "pygments_lexer": "ipython2",
   "version": "2.7.6"
  }
 },
 "nbformat": 4,
 "nbformat_minor": 5
}
