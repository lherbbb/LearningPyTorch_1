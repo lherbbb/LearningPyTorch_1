{
 "cells": [
  {
   "metadata": {},
   "cell_type": "markdown",
   "source": [
    "### Examples of computer vision problems:<br>\n",
    "* Binary classification: \"Is this steak or pizza?\"\n",
    "* Multiclass classification: \"Is thisSteak, shushi, or pizza?\"\n",
    "* Object detection: \"Where's the thing we're looking for?\"\n",
    "* Segmentation: \"What are the different sections in this image?\""
   ],
   "id": "29426feff0beba96"
  },
  {
   "metadata": {},
   "cell_type": "markdown",
   "source": "### What is a Convolutional Neural Network?\n",
   "id": "70181e32d391e35e"
  },
  {
   "metadata": {},
   "cell_type": "markdown",
   "source": [
    "## 0. Computer vision libraries in PyTorch\n",
    "* 'torchvision.datasets' - get datasets and data loading functions for computer vision'\n",
    "* 'torchvision.models' - get pretrained computer vision models\n",
    "* torchvision.transforms - function for manipulating your vision data (images) to be suitable for use with an ML model\n",
    "* torch.utils.data.Dataset - Base dataset class for Pytorch\n",
    "* Torch.utils.data.Dataloader - Creates a python iterable over a dataset\n",
    "*\n"
   ],
   "id": "e010ed3212e6fa3f"
  },
  {
   "metadata": {
    "ExecuteTime": {
     "end_time": "2025-07-19T19:10:56.139564Z",
     "start_time": "2025-07-19T19:10:53.099368Z"
    }
   },
   "cell_type": "code",
   "source": [
    "from sympy.printing.pytorch import torch\n",
    "# Import PyTorch\n",
    "import torchvision\n",
    "from torch import nn\n",
    "\n",
    "# Import torchvision\n",
    "import torchvision\n",
    "from torch.nn.modules.module import T\n",
    "from torchvision import datasets, models, transforms\n",
    "from torchvision.transforms import ToTensor\n",
    "\n",
    "# Import matplotlib\n",
    "import matplotlib.pyplot as plt\n",
    "\n",
    "# Check versions\n",
    "print(torch.__version__)\n",
    "print(torchvision.__version__)"
   ],
   "id": "9b9f22b352d4b6c8",
   "outputs": [
    {
     "name": "stdout",
     "output_type": "stream",
     "text": [
      "2.7.1\n",
      "0.22.1\n"
     ]
    }
   ],
   "execution_count": 2
  },
  {
   "metadata": {},
   "cell_type": "markdown",
   "source": [
    "## 1. Getting a dataset\n",
    "The data set being using FashionMNIST from torchvision.datasets\n"
   ],
   "id": "f09c2ad830aa1f37"
  },
  {
   "metadata": {
    "ExecuteTime": {
     "end_time": "2025-07-19T19:10:56.197289Z",
     "start_time": "2025-07-19T19:10:56.158950Z"
    }
   },
   "cell_type": "code",
   "source": [
    "# Setup training data\n",
    "train_data = datasets.FashionMNIST(\n",
    "    root='data', # where to download data to?\n",
    "    train=True, # do we want the training dataset?\n",
    "    download=True, # do we want to download yes/no\n",
    "    transform=torchvision.transforms.ToTensor(), # how do we want to transform the data?\n",
    "    target_transform=None # how do we want to transform the labels/targets?\n",
    ")\n",
    "\n",
    "test_data = datasets.FashionMNIST(\n",
    "    root='data',\n",
    "    train=False, # we want test data not training\n",
    "    download=True,\n",
    "    transform=torchvision.transforms.ToTensor(),\n",
    "    target_transform=None\n",
    ")"
   ],
   "id": "69635c8593c6093e",
   "outputs": [],
   "execution_count": 3
  },
  {
   "metadata": {
    "ExecuteTime": {
     "end_time": "2025-07-19T19:10:56.293303Z",
     "start_time": "2025-07-19T19:10:56.289633Z"
    }
   },
   "cell_type": "code",
   "source": "len(train_data), len(test_data)",
   "id": "1a3f7fa11312da34",
   "outputs": [
    {
     "data": {
      "text/plain": [
       "(60000, 10000)"
      ]
     },
     "execution_count": 4,
     "metadata": {},
     "output_type": "execute_result"
    }
   ],
   "execution_count": 4
  },
  {
   "metadata": {
    "ExecuteTime": {
     "end_time": "2025-07-19T19:10:56.357996Z",
     "start_time": "2025-07-19T19:10:56.345679Z"
    }
   },
   "cell_type": "code",
   "source": [
    "# See the first training example\n",
    "image, label = train_data[0]\n",
    "image"
   ],
   "id": "56e4ce762424052f",
   "outputs": [
    {
     "data": {
      "text/plain": [
       "tensor([[[0.0000, 0.0000, 0.0000, 0.0000, 0.0000, 0.0000, 0.0000, 0.0000,\n",
       "          0.0000, 0.0000, 0.0000, 0.0000, 0.0000, 0.0000, 0.0000, 0.0000,\n",
       "          0.0000, 0.0000, 0.0000, 0.0000, 0.0000, 0.0000, 0.0000, 0.0000,\n",
       "          0.0000, 0.0000, 0.0000, 0.0000],\n",
       "         [0.0000, 0.0000, 0.0000, 0.0000, 0.0000, 0.0000, 0.0000, 0.0000,\n",
       "          0.0000, 0.0000, 0.0000, 0.0000, 0.0000, 0.0000, 0.0000, 0.0000,\n",
       "          0.0000, 0.0000, 0.0000, 0.0000, 0.0000, 0.0000, 0.0000, 0.0000,\n",
       "          0.0000, 0.0000, 0.0000, 0.0000],\n",
       "         [0.0000, 0.0000, 0.0000, 0.0000, 0.0000, 0.0000, 0.0000, 0.0000,\n",
       "          0.0000, 0.0000, 0.0000, 0.0000, 0.0000, 0.0000, 0.0000, 0.0000,\n",
       "          0.0000, 0.0000, 0.0000, 0.0000, 0.0000, 0.0000, 0.0000, 0.0000,\n",
       "          0.0000, 0.0000, 0.0000, 0.0000],\n",
       "         [0.0000, 0.0000, 0.0000, 0.0000, 0.0000, 0.0000, 0.0000, 0.0000,\n",
       "          0.0000, 0.0000, 0.0000, 0.0000, 0.0039, 0.0000, 0.0000, 0.0510,\n",
       "          0.2863, 0.0000, 0.0000, 0.0039, 0.0157, 0.0000, 0.0000, 0.0000,\n",
       "          0.0000, 0.0039, 0.0039, 0.0000],\n",
       "         [0.0000, 0.0000, 0.0000, 0.0000, 0.0000, 0.0000, 0.0000, 0.0000,\n",
       "          0.0000, 0.0000, 0.0000, 0.0000, 0.0118, 0.0000, 0.1412, 0.5333,\n",
       "          0.4980, 0.2431, 0.2118, 0.0000, 0.0000, 0.0000, 0.0039, 0.0118,\n",
       "          0.0157, 0.0000, 0.0000, 0.0118],\n",
       "         [0.0000, 0.0000, 0.0000, 0.0000, 0.0000, 0.0000, 0.0000, 0.0000,\n",
       "          0.0000, 0.0000, 0.0000, 0.0000, 0.0235, 0.0000, 0.4000, 0.8000,\n",
       "          0.6902, 0.5255, 0.5647, 0.4824, 0.0902, 0.0000, 0.0000, 0.0000,\n",
       "          0.0000, 0.0471, 0.0392, 0.0000],\n",
       "         [0.0000, 0.0000, 0.0000, 0.0000, 0.0000, 0.0000, 0.0000, 0.0000,\n",
       "          0.0000, 0.0000, 0.0000, 0.0000, 0.0000, 0.0000, 0.6078, 0.9255,\n",
       "          0.8118, 0.6980, 0.4196, 0.6118, 0.6314, 0.4275, 0.2510, 0.0902,\n",
       "          0.3020, 0.5098, 0.2824, 0.0588],\n",
       "         [0.0000, 0.0000, 0.0000, 0.0000, 0.0000, 0.0000, 0.0000, 0.0000,\n",
       "          0.0000, 0.0000, 0.0000, 0.0039, 0.0000, 0.2706, 0.8118, 0.8745,\n",
       "          0.8549, 0.8471, 0.8471, 0.6392, 0.4980, 0.4745, 0.4784, 0.5725,\n",
       "          0.5529, 0.3451, 0.6745, 0.2588],\n",
       "         [0.0000, 0.0000, 0.0000, 0.0000, 0.0000, 0.0000, 0.0000, 0.0000,\n",
       "          0.0000, 0.0039, 0.0039, 0.0039, 0.0000, 0.7843, 0.9098, 0.9098,\n",
       "          0.9137, 0.8980, 0.8745, 0.8745, 0.8431, 0.8353, 0.6431, 0.4980,\n",
       "          0.4824, 0.7686, 0.8980, 0.0000],\n",
       "         [0.0000, 0.0000, 0.0000, 0.0000, 0.0000, 0.0000, 0.0000, 0.0000,\n",
       "          0.0000, 0.0000, 0.0000, 0.0000, 0.0000, 0.7176, 0.8824, 0.8471,\n",
       "          0.8745, 0.8941, 0.9216, 0.8902, 0.8784, 0.8706, 0.8784, 0.8667,\n",
       "          0.8745, 0.9608, 0.6784, 0.0000],\n",
       "         [0.0000, 0.0000, 0.0000, 0.0000, 0.0000, 0.0000, 0.0000, 0.0000,\n",
       "          0.0000, 0.0000, 0.0000, 0.0000, 0.0000, 0.7569, 0.8941, 0.8549,\n",
       "          0.8353, 0.7765, 0.7059, 0.8314, 0.8235, 0.8275, 0.8353, 0.8745,\n",
       "          0.8627, 0.9529, 0.7922, 0.0000],\n",
       "         [0.0000, 0.0000, 0.0000, 0.0000, 0.0000, 0.0000, 0.0000, 0.0000,\n",
       "          0.0000, 0.0039, 0.0118, 0.0000, 0.0471, 0.8588, 0.8627, 0.8314,\n",
       "          0.8549, 0.7529, 0.6627, 0.8902, 0.8157, 0.8549, 0.8784, 0.8314,\n",
       "          0.8863, 0.7725, 0.8196, 0.2039],\n",
       "         [0.0000, 0.0000, 0.0000, 0.0000, 0.0000, 0.0000, 0.0000, 0.0000,\n",
       "          0.0000, 0.0000, 0.0235, 0.0000, 0.3882, 0.9569, 0.8706, 0.8627,\n",
       "          0.8549, 0.7961, 0.7765, 0.8667, 0.8431, 0.8353, 0.8706, 0.8627,\n",
       "          0.9608, 0.4667, 0.6549, 0.2196],\n",
       "         [0.0000, 0.0000, 0.0000, 0.0000, 0.0000, 0.0000, 0.0000, 0.0000,\n",
       "          0.0000, 0.0157, 0.0000, 0.0000, 0.2157, 0.9255, 0.8941, 0.9020,\n",
       "          0.8941, 0.9412, 0.9098, 0.8353, 0.8549, 0.8745, 0.9176, 0.8510,\n",
       "          0.8510, 0.8196, 0.3608, 0.0000],\n",
       "         [0.0000, 0.0000, 0.0039, 0.0157, 0.0235, 0.0275, 0.0078, 0.0000,\n",
       "          0.0000, 0.0000, 0.0000, 0.0000, 0.9294, 0.8863, 0.8510, 0.8745,\n",
       "          0.8706, 0.8588, 0.8706, 0.8667, 0.8471, 0.8745, 0.8980, 0.8431,\n",
       "          0.8549, 1.0000, 0.3020, 0.0000],\n",
       "         [0.0000, 0.0118, 0.0000, 0.0000, 0.0000, 0.0000, 0.0000, 0.0000,\n",
       "          0.0000, 0.2431, 0.5686, 0.8000, 0.8941, 0.8118, 0.8353, 0.8667,\n",
       "          0.8549, 0.8157, 0.8275, 0.8549, 0.8784, 0.8745, 0.8588, 0.8431,\n",
       "          0.8784, 0.9569, 0.6235, 0.0000],\n",
       "         [0.0000, 0.0000, 0.0000, 0.0000, 0.0706, 0.1725, 0.3216, 0.4196,\n",
       "          0.7412, 0.8941, 0.8627, 0.8706, 0.8510, 0.8863, 0.7843, 0.8039,\n",
       "          0.8275, 0.9020, 0.8784, 0.9176, 0.6902, 0.7373, 0.9804, 0.9725,\n",
       "          0.9137, 0.9333, 0.8431, 0.0000],\n",
       "         [0.0000, 0.2235, 0.7333, 0.8157, 0.8784, 0.8667, 0.8784, 0.8157,\n",
       "          0.8000, 0.8392, 0.8157, 0.8196, 0.7843, 0.6235, 0.9608, 0.7569,\n",
       "          0.8078, 0.8745, 1.0000, 1.0000, 0.8667, 0.9176, 0.8667, 0.8275,\n",
       "          0.8627, 0.9098, 0.9647, 0.0000],\n",
       "         [0.0118, 0.7922, 0.8941, 0.8784, 0.8667, 0.8275, 0.8275, 0.8392,\n",
       "          0.8039, 0.8039, 0.8039, 0.8627, 0.9412, 0.3137, 0.5882, 1.0000,\n",
       "          0.8980, 0.8667, 0.7373, 0.6039, 0.7490, 0.8235, 0.8000, 0.8196,\n",
       "          0.8706, 0.8941, 0.8824, 0.0000],\n",
       "         [0.3843, 0.9137, 0.7765, 0.8235, 0.8706, 0.8980, 0.8980, 0.9176,\n",
       "          0.9765, 0.8627, 0.7608, 0.8431, 0.8510, 0.9451, 0.2549, 0.2863,\n",
       "          0.4157, 0.4588, 0.6588, 0.8588, 0.8667, 0.8431, 0.8510, 0.8745,\n",
       "          0.8745, 0.8784, 0.8980, 0.1137],\n",
       "         [0.2941, 0.8000, 0.8314, 0.8000, 0.7569, 0.8039, 0.8275, 0.8824,\n",
       "          0.8471, 0.7255, 0.7725, 0.8078, 0.7765, 0.8353, 0.9412, 0.7647,\n",
       "          0.8902, 0.9608, 0.9373, 0.8745, 0.8549, 0.8314, 0.8196, 0.8706,\n",
       "          0.8627, 0.8667, 0.9020, 0.2627],\n",
       "         [0.1882, 0.7961, 0.7176, 0.7608, 0.8353, 0.7725, 0.7255, 0.7451,\n",
       "          0.7608, 0.7529, 0.7922, 0.8392, 0.8588, 0.8667, 0.8627, 0.9255,\n",
       "          0.8824, 0.8471, 0.7804, 0.8078, 0.7294, 0.7098, 0.6941, 0.6745,\n",
       "          0.7098, 0.8039, 0.8078, 0.4510],\n",
       "         [0.0000, 0.4784, 0.8588, 0.7569, 0.7020, 0.6706, 0.7176, 0.7686,\n",
       "          0.8000, 0.8235, 0.8353, 0.8118, 0.8275, 0.8235, 0.7843, 0.7686,\n",
       "          0.7608, 0.7490, 0.7647, 0.7490, 0.7765, 0.7529, 0.6902, 0.6118,\n",
       "          0.6549, 0.6941, 0.8235, 0.3608],\n",
       "         [0.0000, 0.0000, 0.2902, 0.7412, 0.8314, 0.7490, 0.6863, 0.6745,\n",
       "          0.6863, 0.7098, 0.7255, 0.7373, 0.7412, 0.7373, 0.7569, 0.7765,\n",
       "          0.8000, 0.8196, 0.8235, 0.8235, 0.8275, 0.7373, 0.7373, 0.7608,\n",
       "          0.7529, 0.8471, 0.6667, 0.0000],\n",
       "         [0.0078, 0.0000, 0.0000, 0.0000, 0.2588, 0.7843, 0.8706, 0.9294,\n",
       "          0.9373, 0.9490, 0.9647, 0.9529, 0.9569, 0.8667, 0.8627, 0.7569,\n",
       "          0.7490, 0.7020, 0.7137, 0.7137, 0.7098, 0.6902, 0.6510, 0.6588,\n",
       "          0.3882, 0.2275, 0.0000, 0.0000],\n",
       "         [0.0000, 0.0000, 0.0000, 0.0000, 0.0000, 0.0000, 0.0000, 0.1569,\n",
       "          0.2392, 0.1725, 0.2824, 0.1608, 0.1373, 0.0000, 0.0000, 0.0000,\n",
       "          0.0000, 0.0000, 0.0000, 0.0000, 0.0000, 0.0000, 0.0000, 0.0000,\n",
       "          0.0000, 0.0000, 0.0000, 0.0000],\n",
       "         [0.0000, 0.0000, 0.0000, 0.0000, 0.0000, 0.0000, 0.0000, 0.0000,\n",
       "          0.0000, 0.0000, 0.0000, 0.0000, 0.0000, 0.0000, 0.0000, 0.0000,\n",
       "          0.0000, 0.0000, 0.0000, 0.0000, 0.0000, 0.0000, 0.0000, 0.0000,\n",
       "          0.0000, 0.0000, 0.0000, 0.0000],\n",
       "         [0.0000, 0.0000, 0.0000, 0.0000, 0.0000, 0.0000, 0.0000, 0.0000,\n",
       "          0.0000, 0.0000, 0.0000, 0.0000, 0.0000, 0.0000, 0.0000, 0.0000,\n",
       "          0.0000, 0.0000, 0.0000, 0.0000, 0.0000, 0.0000, 0.0000, 0.0000,\n",
       "          0.0000, 0.0000, 0.0000, 0.0000]]])"
      ]
     },
     "execution_count": 5,
     "metadata": {},
     "output_type": "execute_result"
    }
   ],
   "execution_count": 5
  },
  {
   "metadata": {
    "ExecuteTime": {
     "end_time": "2025-07-19T19:10:56.405479Z",
     "start_time": "2025-07-19T19:10:56.402974Z"
    }
   },
   "cell_type": "code",
   "source": [
    "class_names = train_data.classes\n",
    "class_names"
   ],
   "id": "a7fb0716bea7d8e8",
   "outputs": [
    {
     "data": {
      "text/plain": [
       "['T-shirt/top',\n",
       " 'Trouser',\n",
       " 'Pullover',\n",
       " 'Dress',\n",
       " 'Coat',\n",
       " 'Sandal',\n",
       " 'Shirt',\n",
       " 'Sneaker',\n",
       " 'Bag',\n",
       " 'Ankle boot']"
      ]
     },
     "execution_count": 6,
     "metadata": {},
     "output_type": "execute_result"
    }
   ],
   "execution_count": 6
  },
  {
   "metadata": {
    "ExecuteTime": {
     "end_time": "2025-07-19T19:10:56.458496Z",
     "start_time": "2025-07-19T19:10:56.455339Z"
    }
   },
   "cell_type": "code",
   "source": [
    "class_to_idx = train_data.class_to_idx\n",
    "class_to_idx"
   ],
   "id": "e301d447f47a1b3c",
   "outputs": [
    {
     "data": {
      "text/plain": [
       "{'T-shirt/top': 0,\n",
       " 'Trouser': 1,\n",
       " 'Pullover': 2,\n",
       " 'Dress': 3,\n",
       " 'Coat': 4,\n",
       " 'Sandal': 5,\n",
       " 'Shirt': 6,\n",
       " 'Sneaker': 7,\n",
       " 'Bag': 8,\n",
       " 'Ankle boot': 9}"
      ]
     },
     "execution_count": 7,
     "metadata": {},
     "output_type": "execute_result"
    }
   ],
   "execution_count": 7
  },
  {
   "metadata": {
    "ExecuteTime": {
     "end_time": "2025-07-19T19:10:56.524934Z",
     "start_time": "2025-07-19T19:10:56.522560Z"
    }
   },
   "cell_type": "code",
   "source": [
    "# Check the shape of the image\n",
    "print(f\"Image shape: {image.shape} -> [color_channels, height, width]\")\n",
    "print(f\"Label shape: {class_names[label]}\")\n"
   ],
   "id": "ba395fdac69ade09",
   "outputs": [
    {
     "name": "stdout",
     "output_type": "stream",
     "text": [
      "Image shape: torch.Size([1, 28, 28]) -> [color_channels, height, width]\n",
      "Label shape: Ankle boot\n"
     ]
    }
   ],
   "execution_count": 8
  },
  {
   "metadata": {},
   "cell_type": "markdown",
   "source": "### 1.2 Visualizing our data",
   "id": "2392c41065ad3d72"
  },
  {
   "metadata": {
    "ExecuteTime": {
     "end_time": "2025-07-19T19:10:56.677927Z",
     "start_time": "2025-07-19T19:10:56.584236Z"
    }
   },
   "cell_type": "code",
   "source": [
    "image, label = train_data[0]\n",
    "print(f\"Image shape: {image.shape}\")\n",
    "plt.imshow(image.squeeze())\n",
    "plt.title(label)"
   ],
   "id": "16770c9f79098d63",
   "outputs": [
    {
     "name": "stdout",
     "output_type": "stream",
     "text": [
      "Image shape: torch.Size([1, 28, 28])\n"
     ]
    },
    {
     "data": {
      "text/plain": [
       "Text(0.5, 1.0, '9')"
      ]
     },
     "execution_count": 9,
     "metadata": {},
     "output_type": "execute_result"
    },
    {
     "data": {
      "text/plain": [
       "<Figure size 640x480 with 1 Axes>"
      ],
      "image/png": "[encoded data removed]"
     },
     "metadata": {},
     "output_type": "display_data"
    }
   ],
   "execution_count": 9
  },
  {
   "metadata": {
    "ExecuteTime": {
     "end_time": "2025-07-19T19:10:56.724609Z",
     "start_time": "2025-07-19T19:10:56.690396Z"
    }
   },
   "cell_type": "code",
   "source": [
    "plt.imshow(image.squeeze(), cmap='gray')\n",
    "plt.title(class_names[label])\n",
    "plt.axis(False)"
   ],
   "id": "806607c97344ac18",
   "outputs": [
    {
     "data": {
      "text/plain": [
       "(np.float64(-0.5), np.float64(27.5), np.float64(27.5), np.float64(-0.5))"
      ]
     },
     "execution_count": 10,
     "metadata": {},
     "output_type": "execute_result"
    },
    {
     "data": {
      "text/plain": [
       "<Figure size 640x480 with 1 Axes>"
      ],
      "image/png": "[encoded data removed]"
     },
     "metadata": {},
     "output_type": "display_data"
    }
   ],
   "execution_count": 10
  },
  {
   "metadata": {
    "ExecuteTime": {
     "end_time": "2025-07-19T19:10:57.029953Z",
     "start_time": "2025-07-19T19:10:56.742470Z"
    }
   },
   "cell_type": "code",
   "source": [
    "# Plot more images\n",
    "torch.manual_seed(42)\n",
    "fig = plt.figure(figsize=(9, 9))\n",
    "rows, cols = 4, 4\n",
    "for i in range(1, rows * cols + 1):\n",
    "    random_idx = torch.randint(0, len(train_data), size=[1]).item()\n",
    "    img, label = train_data[random_idx]\n",
    "    fig.add_subplot(rows, cols, i)\n",
    "    plt.imshow(img.squeeze(),cmap='gray')\n",
    "    plt.title(class_names[label])\n",
    "    plt.axis(False)\n",
    "\n"
   ],
   "id": "43ef1b2623983546",
   "outputs": [
    {
     "data": {
      "text/plain": [
       "<Figure size 900x900 with 16 Axes>"
      ],
      "image/png": "[encoded data removed]"
     },
     "metadata": {},
     "output_type": "display_data"
    }
   ],
   "execution_count": 11
  },
  {
   "metadata": {},
   "cell_type": "markdown",
   "source": "Can this be done the linear lines?",
   "id": "424f37bb2f0deef5"
  },
  {
   "metadata": {},
   "cell_type": "markdown",
   "source": [
    "## 2. Prepare DataLoader\n",
    "Right now, our data is in the form of PyTorch Datasets.\n",
    "<br>DataLoader turns our data into a PyTorch iterable\n",
    "<br>More specifically into batches (or minibatches)\n",
    "<br> Why do so?\n",
    "<br>1. It is more computationally efficient, as in, your computing hardware may not be able to look or store in memory at 6000 images in one hit. So we break it down to 32 images at a time (batch size of 32).\n",
    "<br>2. It gives our neural network more chances to update its gradient per epoch.\n"
   ],
   "id": "e888e905aa5d2dc0"
  },
  {
   "metadata": {
    "ExecuteTime": {
     "end_time": "2025-07-19T19:10:57.047714Z",
     "start_time": "2025-07-19T19:10:57.043459Z"
    }
   },
   "cell_type": "code",
   "source": [
    "from torch.utils.data import DataLoader\n",
    "\n",
    "# Set up the batch size hyperparameter\n",
    "BATCH_SIZE = 32\n",
    "\n",
    "# Turn datasets into iterables (batches)\n",
    "train_dataloader = DataLoader(train_data,\n",
    "                              batch_size=BATCH_SIZE,\n",
    "                              shuffle=True)\n",
    "test_dataloader = DataLoader(test_data,\n",
    "                             batch_size=BATCH_SIZE,\n",
    "                             shuffle=False)\n",
    "\n",
    "train_dataloader, test_dataloader"
   ],
   "id": "42ddc9fc8f7b5a5c",
   "outputs": [
    {
     "data": {
      "text/plain": [
       "(<torch.utils.data.dataloader.DataLoader at 0x1221da300>,\n",
       " <torch.utils.data.dataloader.DataLoader at 0x1228c2840>)"
      ]
     },
     "execution_count": 12,
     "metadata": {},
     "output_type": "execute_result"
    }
   ],
   "execution_count": 12
  },
  {
   "metadata": {
    "ExecuteTime": {
     "end_time": "2025-07-19T19:10:57.092679Z",
     "start_time": "2025-07-19T19:10:57.090408Z"
    }
   },
   "cell_type": "code",
   "source": [
    "# Let's check out what we've created\n",
    "print(f\"length of train_dataloader: {len(train_dataloader)} batches of {BATCH_SIZE}...\")\n",
    "print(f\"Length of test_dataloader: {len(test_dataloader)} batches of {BATCH_SIZE}... \")"
   ],
   "id": "ceda0ab3d4e2da68",
   "outputs": [
    {
     "name": "stdout",
     "output_type": "stream",
     "text": [
      "length of train_dataloader: 1875 batches of 32...\n",
      "Length of test_dataloader: 313 batches of 32... \n"
     ]
    }
   ],
   "execution_count": 13
  },
  {
   "metadata": {
    "ExecuteTime": {
     "end_time": "2025-07-19T19:10:57.146057Z",
     "start_time": "2025-07-19T19:10:57.136773Z"
    }
   },
   "cell_type": "code",
   "source": [
    "train_features_batch,train_labels_batch = next(iter(train_dataloader))\n",
    "train_features_batch.shape, train_labels_batch.shape"
   ],
   "id": "ef8912bf15baec91",
   "outputs": [
    {
     "data": {
      "text/plain": [
       "(torch.Size([32, 1, 28, 28]), torch.Size([32]))"
      ]
     },
     "execution_count": 14,
     "metadata": {},
     "output_type": "execute_result"
    }
   ],
   "execution_count": 14
  },
  {
   "metadata": {
    "ExecuteTime": {
     "end_time": "2025-07-19T19:10:57.220423Z",
     "start_time": "2025-07-19T19:10:57.186537Z"
    }
   },
   "cell_type": "code",
   "source": [
    "# Show a sample\n",
    "torch.manual_seed(42)\n",
    "random_idx = torch.randint(0, len(train_features_batch), size=[1]).item()\n",
    "img, label = train_features_batch[random_idx], train_labels_batch[random_idx]\n",
    "plt.imshow(img.squeeze(), cmap='gray')\n",
    "plt.title(class_names[label])\n",
    "plt.axis(False)\n",
    "print(f\"Image size: {img.shape}\")\n",
    "print(f\"Label: {label}, label size: {label.shape}\")"
   ],
   "id": "1c427291e70e22c1",
   "outputs": [
    {
     "name": "stdout",
     "output_type": "stream",
     "text": [
      "Image size: torch.Size([1, 28, 28])\n",
      "Label: 6, label size: torch.Size([])\n"
     ]
    },
    {
     "data": {
      "text/plain": [
       "<Figure size 640x480 with 1 Axes>"
      ],
      "image/png": "[encoded data removed]"
     },
     "metadata": {},
     "output_type": "display_data"
    }
   ],
   "execution_count": 15
  },
  {
   "metadata": {},
   "cell_type": "markdown",
   "source": [
    "## 3. Model 0: Build a baseline model\n",
    "When starting to build a series of machine learning modeling experiences, its a best practice to start with a baseline model.\n",
    "<br><br>\n",
    "A baseline model is a simple model you will try and improve upon with later models/experiments.\n",
    "<br> In  other words: start simple and add complexity when necessary"
   ],
   "id": "3da49466b9cb7ff6"
  },
  {
   "metadata": {
    "ExecuteTime": {
     "end_time": "2025-07-19T19:10:57.249271Z",
     "start_time": "2025-07-19T19:10:57.245971Z"
    }
   },
   "cell_type": "code",
   "source": [
    "# Create a flatten layer\n",
    "flatten_model = nn.Flatten()\n",
    "\n",
    "# Get a single sample\n",
    "x = train_features_batch[0]\n",
    "\n",
    "# Flatten the sample\n",
    "output = flatten_model(x)\n",
    "\n",
    "# find out what happened\n",
    "print(f\"Shape before flatten_model: {train_features_batch[0].shape}\")\n",
    "print(f\"Shape after flatten_model: {output.shape}\")"
   ],
   "id": "8d2112785946904e",
   "outputs": [
    {
     "name": "stdout",
     "output_type": "stream",
     "text": [
      "Shape before flatten_model: torch.Size([1, 28, 28])\n",
      "Shape after flatten_model: torch.Size([1, 784])\n"
     ]
    }
   ],
   "execution_count": 16
  },
  {
   "metadata": {
    "ExecuteTime": {
     "end_time": "2025-07-19T19:10:57.303061Z",
     "start_time": "2025-07-19T19:10:57.300721Z"
    }
   },
   "cell_type": "code",
   "source": [
    "from torch import nn\n",
    "class FashionMNISTModelV0(nn.Module):\n",
    "    def __init__(self,\n",
    "                 input_shape: int,\n",
    "                 hidden_units: int,\n",
    "                 output_shape: int,):\n",
    "        super().__init__()\n",
    "        self.layer_stack = nn.Sequential(\n",
    "            nn.Flatten(),\n",
    "            nn.Linear(input_shape, hidden_units),\n",
    "            nn.Linear(hidden_units, output_shape),\n",
    "        )\n",
    "    def forward(self, x):\n",
    "        return self.layer_stack(x)\n",
    "\n"
   ],
   "id": "700bfbf25c628510",
   "outputs": [],
   "execution_count": 17
  },
  {
   "metadata": {
    "ExecuteTime": {
     "end_time": "2025-07-19T19:10:57.338045Z",
     "start_time": "2025-07-19T19:10:57.332887Z"
    }
   },
   "cell_type": "code",
   "source": [
    "torch.manual_seed(42)\n",
    "\n",
    "# Setup model with input parameters\n",
    "model_0 = FashionMNISTModelV0(\n",
    "    input_shape=784, # = 28 * 28\n",
    "    hidden_units=10,\n",
    "    output_shape=len(class_names) # One for every class\n",
    ")\n",
    "model_0.to(torch.device('cpu'))"
   ],
   "id": "c792e07f88e6b03a",
   "outputs": [
    {
     "data": {
      "text/plain": [
       "FashionMNISTModelV0(\n",
       "  (layer_stack): Sequential(\n",
       "    (0): Flatten(start_dim=1, end_dim=-1)\n",
       "    (1): Linear(in_features=784, out_features=10, bias=True)\n",
       "    (2): Linear(in_features=10, out_features=10, bias=True)\n",
       "  )\n",
       ")"
      ]
     },
     "execution_count": 18,
     "metadata": {},
     "output_type": "execute_result"
    }
   ],
   "execution_count": 18
  },
  {
   "metadata": {
    "ExecuteTime": {
     "end_time": "2025-07-19T19:10:57.388318Z",
     "start_time": "2025-07-19T19:10:57.381035Z"
    }
   },
   "cell_type": "code",
   "source": [
    "dummy_x = torch.rand([1, 1, 28, 28])\n",
    "model_0(dummy_x)"
   ],
   "id": "9ed337a32931f6b6",
   "outputs": [
    {
     "data": {
      "text/plain": [
       "tensor([[-0.0315,  0.3171,  0.0531, -0.2525,  0.5959,  0.2112,  0.3233,  0.2694,\n",
       "         -0.1004,  0.0157]], grad_fn=<AddmmBackward0>)"
      ]
     },
     "execution_count": 19,
     "metadata": {},
     "output_type": "execute_result"
    }
   ],
   "execution_count": 19
  },
  {
   "metadata": {},
   "cell_type": "markdown",
   "source": [
    "### 3.1 Setup loss, optimizer, and evaluation method\n",
    "* Loss Function - nn.CrossEntrpyLoss()\n",
    "* Optimizer - torch.optim.SGD()\n",
    "*"
   ],
   "id": "f66960d16719d642"
  },
  {
   "metadata": {
    "ExecuteTime": {
     "end_time": "2025-07-19T19:10:58.078546Z",
     "start_time": "2025-07-19T19:10:58.001819Z"
    }
   },
   "cell_type": "code",
   "source": [
    "import requests\n",
    "from pathlib import Path\n",
    "\n",
    "# Download helper functions from Learn PyTorch repo\n",
    "if Path(\"helper_functions.py\").is_file():\n",
    "    print(\"Helper functions already exists\")\n",
    "else:\n",
    "    print(\"Helper functions downloading\")\n",
    "    request = requests.get(\"https://raw.githubusercontent.com/mrbourke/pytorch-deep-learning/main/helper_functions.py\")\n",
    "    with open(\"helper_functions.py\", \"wb\") as f:\n",
    "        f.write(request.content)\n",
    "\n"
   ],
   "id": "b72943e26b12c10c",
   "outputs": [
    {
     "name": "stdout",
     "output_type": "stream",
     "text": [
      "Helper functions already exists\n"
     ]
    }
   ],
   "execution_count": 20
  },
  {
   "metadata": {
    "ExecuteTime": {
     "end_time": "2025-07-19T19:10:58.152077Z",
     "start_time": "2025-07-19T19:10:58.148367Z"
    }
   },
   "cell_type": "code",
   "source": [
    "# Import accuracy metric\n",
    "from helper_functions import accuracy_fn\n",
    "\n",
    "# Setup loss function and optimizer\n",
    "loss_fn = nn.CrossEntropyLoss()\n",
    "optimizer = torch.optim.SGD(params=model_0.parameters(), lr=0.1)"
   ],
   "id": "10e6da8fda2d747f",
   "outputs": [],
   "execution_count": 21
  },
  {
   "metadata": {},
   "cell_type": "markdown",
   "source": [
    "### 3.2 Creating a function to time our experiments\n",
    "Machine learning is very experimental\n",
    "<br>\n",
    "Two of the main things you'll often want to track are:\n",
    "1. Model's performance (loss and accuracy values etc)\n",
    "2. How fast it runs\n"
   ],
   "id": "1f979e17ac75ca18"
  },
  {
   "metadata": {
    "ExecuteTime": {
     "end_time": "2025-07-19T19:10:58.195216Z",
     "start_time": "2025-07-19T19:10:58.192911Z"
    }
   },
   "cell_type": "code",
   "source": [
    "from timeit import default_timer as timer\n",
    "def print_train_time(start: float, end: float, device: torch.device = None):\n",
    "    total = end - start\n",
    "    print(f\"Training took on {device}: {total:.2f} seconds\")\n",
    "    return total\n",
    "\n"
   ],
   "id": "64c7777e0c205d8c",
   "outputs": [],
   "execution_count": 22
  },
  {
   "metadata": {},
   "cell_type": "markdown",
   "source": [
    "### 3.3 Creating a training loop and training a model on batches of data\n",
    "1. Loop through epochs.\n",
    "2. Loop through trining batches, perform training steps, calculate the train loss *per batch*\n",
    "3. Loop through testing batches, perform testing steps, calculate the test loss *per batch*\n",
    "4. Print out whats happening\n",
    "5. Time it all (for fun)"
   ],
   "id": "b4d866c5cce5f572"
  },
  {
   "metadata": {
    "ExecuteTime": {
     "end_time": "2025-07-19T19:11:06.270122Z",
     "start_time": "2025-07-19T19:10:58.224662Z"
    }
   },
   "cell_type": "code",
   "source": [
    "# Import TQDM for progress bar\n",
    "from tqdm.auto import tqdm\n",
    "\n",
    "# Set Seed and start the timer\n",
    "torch.manual_seed(42)\n",
    "train_time_start = timer()\n",
    "\n",
    "# Set the number of epochs (we'll keep this small for faster training time)\n",
    "EPOCHS = 3\n",
    "\n",
    "# Create training and test loop\n",
    "for epoch in tqdm(range(EPOCHS)):\n",
    "    print(f\"Epoch: {epoch}\\n------\")\n",
    "\n",
    "    ### Training\n",
    "    train_loss = 0\n",
    "    # Add a loop to loop through the training batches\n",
    "    for batch, (X, y) in enumerate(train_dataloader):\n",
    "        model_0.train()\n",
    "        # 1. forward pass\n",
    "        y_pred = model_0(X)\n",
    "        # 2. Calculate loss (per batch)\n",
    "        loss = loss_fn(y_pred, y)\n",
    "        train_loss += loss # accumulate the train loss\n",
    "\n",
    "        # Optimize zero grade\n",
    "        optimizer.zero_grad()\n",
    "\n",
    "        # 4. loss backward\n",
    "        loss.backward()\n",
    "\n",
    "        # 5. Optimizer step\n",
    "        optimizer.step()\n",
    "\n",
    "        # Print out whats happening\n",
    "        if batch % 400 == 0:\n",
    "            print(f\"Looked at {batch * len(X)}/{len(train_dataloader.dataset)} samples.\")\n",
    "\n",
    "    # Divide total train loss by length of train dataloader\n",
    "    train_loss /= len(train_dataloader)\n",
    "\n",
    "    ### Testing\n",
    "    test_loss, test_acc = 0, 0\n",
    "    model_0.eval()\n",
    "    with torch.inference_mode():\n",
    "        for X_test, y_test in test_dataloader:\n",
    "            # 1. Forward pass\n",
    "            test_pred = model_0(X_test)\n",
    "\n",
    "            # 2. Calculate loss (accumulatively)\n",
    "            test_loss += loss_fn(test_pred, y_test)\n",
    "\n",
    "            # 3. Calculate accuracy\n",
    "            test_acc += accuracy_fn(y_true=y_test, y_pred=test_pred.argmax(dim=1))\n",
    "\n",
    "        # Calculate the test loss average per batch\n",
    "        test_loss /= len(test_dataloader)\n",
    "\n",
    "        # Calculate the test acc average per back\n",
    "        test_acc = test_acc / len(test_dataloader)\n",
    "\n",
    "    print(f\"\\nTrain loss {train_loss:.4f} | Test loss {test_loss:.4f} | Test accuracy {test_acc:.4f}\")\n",
    "\n",
    "# Calculate training time\n",
    "train_time_end = timer()\n",
    "total_time_model_0 = print_train_time(train_time_start, train_time_end, device=str(next(model_0.parameters()).device))\n"
   ],
   "id": "e3bd70403b0e38fd",
   "outputs": [
    {
     "data": {
      "text/plain": [
       "  0%|          | 0/3 [00:00<?, ?it/s]"
      ],
      "application/vnd.jupyter.widget-view+json": {
       "version_major": 2,
       "version_minor": 0,
       "model_id": "069b0709977d41209ed36c040f2a5242"
      }
     },
     "metadata": {},
     "output_type": "display_data"
    },
    {
     "name": "stdout",
     "output_type": "stream",
     "text": [
      "Epoch: 0\n",
      "------\n",
      "Looked at 0/60000 samples.\n",
      "Looked at 12800/60000 samples.\n",
      "Looked at 25600/60000 samples.\n",
      "Looked at 38400/60000 samples.\n",
      "Looked at 51200/60000 samples.\n",
      "\n",
      "Train loss 0.5904 | Test loss 0.5095 | Test accuracy 82.0387\n",
      "Epoch: 1\n",
      "------\n",
      "Looked at 0/60000 samples.\n",
      "Looked at 12800/60000 samples.\n",
      "Looked at 25600/60000 samples.\n",
      "Looked at 38400/60000 samples.\n",
      "Looked at 51200/60000 samples.\n",
      "\n",
      "Train loss 0.4763 | Test loss 0.4799 | Test accuracy 83.1969\n",
      "Epoch: 2\n",
      "------\n",
      "Looked at 0/60000 samples.\n",
      "Looked at 12800/60000 samples.\n",
      "Looked at 25600/60000 samples.\n",
      "Looked at 38400/60000 samples.\n",
      "Looked at 51200/60000 samples.\n",
      "\n",
      "Train loss 0.4550 | Test loss 0.4766 | Test accuracy 83.4265\n",
      "Training took on cpu: 8.00 seconds\n"
     ]
    }
   ],
   "execution_count": 23
  },
  {
   "metadata": {},
   "cell_type": "markdown",
   "source": "## 4. Make predictions and get Model 0 results",
   "id": "7ed557e75f5fc395"
  },
  {
   "metadata": {
    "ExecuteTime": {
     "end_time": "2025-07-19T19:11:06.690469Z",
     "start_time": "2025-07-19T19:11:06.307279Z"
    }
   },
   "cell_type": "code",
   "source": [
    "torch.manual_seed(42)\n",
    "def eval_model(model: nn.Module,\n",
    "                   data_loader: torch.utils.data.DataLoader,\n",
    "                   loss_fn: nn.Module,\n",
    "                   accuracy_fn):\n",
    "    # Return a dictionary containing the results of model predicting on data_loader\n",
    "    loss, acc = 0,0\n",
    "    model.eval()\n",
    "    with torch.inference_mode():\n",
    "        for X, y in tqdm(data_loader):\n",
    "            # Make predictions\n",
    "            y_pred = model(X)\n",
    "\n",
    "            # Accumulate the loss and acc values per batch\n",
    "            loss += loss_fn(y_pred, y)\n",
    "            acc += accuracy_fn(y_true=y, y_pred=y_pred.argmax(dim=1))\n",
    "\n",
    "        # Scale loss and acc to find the average loss/acc per batch\n",
    "        loss /= len(data_loader)\n",
    "        acc /= len(data_loader)\n",
    "    return {\"model_name\": model.__class__.__name__, # Only works when model was created with a classs\n",
    "            \"loss\": loss.item(),\n",
    "            \"accuracy\": acc}\n",
    "\n",
    "\n",
    "# Calculate model 0 results on test dataset\n",
    "model_0_results = eval_model(model=model_0,\n",
    "                             data_loader=test_dataloader,\n",
    "                             loss_fn=loss_fn, accuracy_fn=accuracy_fn)\n",
    "print(model_0_results)\n"
   ],
   "id": "1936b6ebdbb42611",
   "outputs": [
    {
     "data": {
      "text/plain": [
       "  0%|          | 0/313 [00:00<?, ?it/s]"
      ],
      "application/vnd.jupyter.widget-view+json": {
       "version_major": 2,
       "version_minor": 0,
       "model_id": "7c064289ccd7419487946747da307daf"
      }
     },
     "metadata": {},
     "output_type": "display_data"
    },
    {
     "name": "stdout",
     "output_type": "stream",
     "text": [
      "{'model_name': 'FashionMNISTModelV0', 'loss': 0.47663894295692444, 'accuracy': 83.42651757188499}\n"
     ]
    }
   ],
   "execution_count": 24
  },
  {
   "metadata": {},
   "cell_type": "markdown",
   "source": "## 6. Model 1: Building a better model with non-linearity",
   "id": "e581fb5c34141b8f"
  },
  {
   "metadata": {
    "ExecuteTime": {
     "end_time": "2025-07-19T19:11:06.724985Z",
     "start_time": "2025-07-19T19:11:06.721394Z"
    }
   },
   "cell_type": "code",
   "source": [
    "from torch import nn\n",
    "class FashionMNISTModelV1(nn.Module):\n",
    "    def __init__(self,\n",
    "                 input_shape: int,\n",
    "                 hidden_units: int,\n",
    "                 output_shape: int,):\n",
    "        super().__init__()\n",
    "        self.layer_stack = nn.Sequential(\n",
    "            nn.Flatten(),\n",
    "            nn.Linear(input_shape, hidden_units),\n",
    "            nn.ReLU(),\n",
    "            nn.Linear(hidden_units, output_shape),\n",
    "            nn.ReLU(),\n",
    "\n",
    "        )\n",
    "    def forward(self, x):\n",
    "        return self.layer_stack(x)\n",
    "\n"
   ],
   "id": "cd5ede99c2cd28a2",
   "outputs": [],
   "execution_count": 25
  },
  {
   "metadata": {
    "ExecuteTime": {
     "end_time": "2025-07-19T19:11:06.777204Z",
     "start_time": "2025-07-19T19:11:06.771637Z"
    }
   },
   "cell_type": "code",
   "source": [
    "torch.manual_seed(42)\n",
    "model_1 = FashionMNISTModelV1(\n",
    "    input_shape=784, # = 28 * 28\n",
    "    hidden_units=10,\n",
    "    output_shape=len(class_names) # One for every class\n",
    ")\n",
    "model_1.to(torch.device('cpu'))"
   ],
   "id": "7d704d1de9388d37",
   "outputs": [
    {
     "data": {
      "text/plain": [
       "FashionMNISTModelV1(\n",
       "  (layer_stack): Sequential(\n",
       "    (0): Flatten(start_dim=1, end_dim=-1)\n",
       "    (1): Linear(in_features=784, out_features=10, bias=True)\n",
       "    (2): ReLU()\n",
       "    (3): Linear(in_features=10, out_features=10, bias=True)\n",
       "    (4): ReLU()\n",
       "  )\n",
       ")"
      ]
     },
     "execution_count": 26,
     "metadata": {},
     "output_type": "execute_result"
    }
   ],
   "execution_count": 26
  },
  {
   "metadata": {
    "ExecuteTime": {
     "end_time": "2025-07-19T19:11:06.832882Z",
     "start_time": "2025-07-19T19:11:06.830004Z"
    }
   },
   "cell_type": "code",
   "source": [
    "# Import accuracy metric\n",
    "from helper_functions import accuracy_fn\n",
    "\n",
    "# Setup loss function and optimizer\n",
    "loss_fn = nn.CrossEntropyLoss()\n",
    "optimizer = torch.optim.SGD(params=model_1.parameters(), lr=0.1)"
   ],
   "id": "75f6b5a187ae68a3",
   "outputs": [],
   "execution_count": 27
  },
  {
   "metadata": {
    "ExecuteTime": {
     "end_time": "2025-07-19T19:11:14.742293Z",
     "start_time": "2025-07-19T19:11:06.876174Z"
    }
   },
   "cell_type": "code",
   "source": [
    "# Import TQDM for progress bar\n",
    "from tqdm.auto import tqdm\n",
    "\n",
    "# Set Seed and start the timer\n",
    "torch.manual_seed(42)\n",
    "train_time_start = timer()\n",
    "\n",
    "# Set the number of epochs (we'll keep this small for faster training time)\n",
    "EPOCHS = 3\n",
    "\n",
    "# Create training and test loop\n",
    "for epoch in tqdm(range(EPOCHS)):\n",
    "    print(f\"Epoch: {epoch}\\n------\")\n",
    "\n",
    "    ### Training\n",
    "    train_loss = 0\n",
    "    # Add a loop to loop through the training batches\n",
    "    for batch, (X, y) in enumerate(train_dataloader):\n",
    "        model_1.train()\n",
    "        # 1. forward pass\n",
    "        y_pred = model_1(X)\n",
    "        # 2. Calculate loss (per batch)\n",
    "        loss = loss_fn(y_pred, y)\n",
    "        train_loss += loss # accumulate the train loss\n",
    "\n",
    "        # Optimize zero grade\n",
    "        optimizer.zero_grad()\n",
    "\n",
    "        # 4. loss backward\n",
    "        loss.backward()\n",
    "\n",
    "        # 5. Optimizer step\n",
    "        optimizer.step()\n",
    "\n",
    "        # Print out whats happening\n",
    "        if batch % 400 == 0:\n",
    "            print(f\"Looked at {batch * len(X)}/{len(train_dataloader.dataset)} samples.\")\n",
    "\n",
    "    # Divide total train loss by length of train dataloader\n",
    "    train_loss /= len(train_dataloader)\n",
    "\n",
    "    ### Testing\n",
    "    test_loss, test_acc = 0, 0\n",
    "    model_1.eval()\n",
    "    with torch.inference_mode():\n",
    "        for X_test, y_test in test_dataloader:\n",
    "            # 1. Forward pass\n",
    "            test_pred = model_1(X_test)\n",
    "\n",
    "            # 2. Calculate loss (accumulatively)\n",
    "            test_loss += loss_fn(test_pred, y_test)\n",
    "\n",
    "            # 3. Calculate accuracy\n",
    "            test_acc += accuracy_fn(y_true=y_test, y_pred=test_pred.argmax(dim=1))\n",
    "\n",
    "        # Calculate the test loss average per batch\n",
    "        test_loss /= len(test_dataloader)\n",
    "\n",
    "        # Calculate the test acc average per back\n",
    "        test_acc = test_acc / len(test_dataloader)\n",
    "\n",
    "    print(f\"\\nTrain loss {train_loss:.4f} | Test loss {test_loss:.4f} | Test accuracy {test_acc:.4f}\")\n",
    "\n",
    "# Calculate training time\n",
    "train_time_end = timer()\n",
    "total_time_model_1 = print_train_time(train_time_start, train_time_end, device=str(next(model_1.parameters()).device))\n"
   ],
   "id": "d7fcde69665f4b04",
   "outputs": [
    {
     "data": {
      "text/plain": [
       "  0%|          | 0/3 [00:00<?, ?it/s]"
      ],
      "application/vnd.jupyter.widget-view+json": {
       "version_major": 2,
       "version_minor": 0,
       "model_id": "5a05ef786b0241ecbeeead4feb7491ec"
      }
     },
     "metadata": {},
     "output_type": "display_data"
    },
    {
     "name": "stdout",
     "output_type": "stream",
     "text": [
      "Epoch: 0\n",
      "------\n",
      "Looked at 0/60000 samples.\n",
      "Looked at 12800/60000 samples.\n",
      "Looked at 25600/60000 samples.\n",
      "Looked at 38400/60000 samples.\n",
      "Looked at 51200/60000 samples.\n",
      "\n",
      "Train loss 1.0897 | Test loss 0.9496 | Test accuracy 65.2256\n",
      "Epoch: 1\n",
      "------\n",
      "Looked at 0/60000 samples.\n",
      "Looked at 12800/60000 samples.\n",
      "Looked at 25600/60000 samples.\n",
      "Looked at 38400/60000 samples.\n",
      "Looked at 51200/60000 samples.\n",
      "\n",
      "Train loss 0.9283 | Test loss 0.9483 | Test accuracy 66.7532\n",
      "Epoch: 2\n",
      "------\n",
      "Looked at 0/60000 samples.\n",
      "Looked at 12800/60000 samples.\n",
      "Looked at 25600/60000 samples.\n",
      "Looked at 38400/60000 samples.\n",
      "Looked at 51200/60000 samples.\n",
      "\n",
      "Train loss 0.7328 | Test loss 0.6746 | Test accuracy 75.6390\n",
      "Training took on cpu: 7.86 seconds\n"
     ]
    }
   ],
   "execution_count": 28
  },
  {
   "metadata": {
    "ExecuteTime": {
     "end_time": "2025-07-19T19:11:15.079807Z",
     "start_time": "2025-07-19T19:11:14.761852Z"
    }
   },
   "cell_type": "code",
   "source": [
    "model_1_results = eval_model(model=model_1,\n",
    "                             data_loader=test_dataloader,\n",
    "                             loss_fn=loss_fn, accuracy_fn=accuracy_fn)"
   ],
   "id": "d3009106c5a8e547",
   "outputs": [
    {
     "data": {
      "text/plain": [
       "  0%|          | 0/313 [00:00<?, ?it/s]"
      ],
      "application/vnd.jupyter.widget-view+json": {
       "version_major": 2,
       "version_minor": 0,
       "model_id": "3aa21550e41b41db9f722628f081edc6"
      }
     },
     "metadata": {},
     "output_type": "display_data"
    }
   ],
   "execution_count": 29
  },
  {
   "metadata": {},
   "cell_type": "markdown",
   "source": [
    "## Model 2: Building a Convolutional Neural Network\n",
    "Known for their ability to find patterns in images\n",
    "<br> Basic CNN: Convolutional layer -> ReLU layer (activation) -> Pooling layer | Order can be changed and combined, this is just general"
   ],
   "id": "ccb8f970d7bf43f6"
  },
  {
   "metadata": {
    "ExecuteTime": {
     "end_time": "2025-07-19T19:11:15.109268Z",
     "start_time": "2025-07-19T19:11:15.101644Z"
    }
   },
   "cell_type": "code",
   "source": [
    "# Create a convolutional neural network\n",
    "class FashionMNISTModelV2(nn.Module):\n",
    "    \"\"\"\n",
    "    Model architecture copying TinyVGG from:\n",
    "    https://poloclub.github.io/cnn-explainer/\n",
    "    \"\"\"\n",
    "    def __init__(self, input_shape: int, hidden_units: int, output_shape: int):\n",
    "        super().__init__()\n",
    "        self.block_1 = nn.Sequential(\n",
    "            nn.Conv2d(in_channels=input_shape,\n",
    "                      out_channels=hidden_units,\n",
    "                      kernel_size=3, # how big is the square that's going over the image?\n",
    "                      stride=1, # default\n",
    "                      padding=1),# options = \"valid\" (no padding) or \"same\" (output has same shape as input) or int for specific number\n",
    "            nn.ReLU(),\n",
    "            nn.Conv2d(in_channels=hidden_units,\n",
    "                      out_channels=hidden_units,\n",
    "                      kernel_size=3,\n",
    "                      stride=1,\n",
    "                      padding=1),\n",
    "            nn.ReLU(),\n",
    "            nn.MaxPool2d(kernel_size=2,\n",
    "                         stride=2) # default stride value is same as kernel_size\n",
    "        )\n",
    "        self.block_2 = nn.Sequential(\n",
    "            nn.Conv2d(hidden_units, hidden_units, 3, padding=1),\n",
    "            nn.ReLU(),\n",
    "            nn.Conv2d(hidden_units, hidden_units, 3, padding=1),\n",
    "            nn.ReLU(),\n",
    "            nn.MaxPool2d(2)\n",
    "        )\n",
    "        self.classifier = nn.Sequential(\n",
    "            nn.Flatten(),\n",
    "            # Where did this in_features shape come from?\n",
    "            # It's because each layer of our network compresses and changes the shape of our input data.\n",
    "            nn.Linear(in_features=hidden_units*7*7,\n",
    "                      out_features=output_shape)\n",
    "        )\n",
    "\n",
    "    def forward(self, x: torch.Tensor):\n",
    "        x = self.block_1(x)\n",
    "        # print(x.shape)\n",
    "        x = self.block_2(x)\n",
    "        # print(x.shape)\n",
    "        x = self.classifier(x)\n",
    "        # print(x.shape)\n",
    "        return x\n",
    "\n",
    "torch.manual_seed(42)\n",
    "model_2 = FashionMNISTModelV2(input_shape=1,\n",
    "    hidden_units=10,\n",
    "    output_shape=len(class_names)).to('cpu')\n",
    "model_2"
   ],
   "id": "2fe214309f08658e",
   "outputs": [
    {
     "data": {
      "text/plain": [
       "FashionMNISTModelV2(\n",
       "  (block_1): Sequential(\n",
       "    (0): Conv2d(1, 10, kernel_size=(3, 3), stride=(1, 1), padding=(1, 1))\n",
       "    (1): ReLU()\n",
       "    (2): Conv2d(10, 10, kernel_size=(3, 3), stride=(1, 1), padding=(1, 1))\n",
       "    (3): ReLU()\n",
       "    (4): MaxPool2d(kernel_size=2, stride=2, padding=0, dilation=1, ceil_mode=False)\n",
       "  )\n",
       "  (block_2): Sequential(\n",
       "    (0): Conv2d(10, 10, kernel_size=(3, 3), stride=(1, 1), padding=(1, 1))\n",
       "    (1): ReLU()\n",
       "    (2): Conv2d(10, 10, kernel_size=(3, 3), stride=(1, 1), padding=(1, 1))\n",
       "    (3): ReLU()\n",
       "    (4): MaxPool2d(kernel_size=2, stride=2, padding=0, dilation=1, ceil_mode=False)\n",
       "  )\n",
       "  (classifier): Sequential(\n",
       "    (0): Flatten(start_dim=1, end_dim=-1)\n",
       "    (1): Linear(in_features=490, out_features=10, bias=True)\n",
       "  )\n",
       ")"
      ]
     },
     "execution_count": 30,
     "metadata": {},
     "output_type": "execute_result"
    }
   ],
   "execution_count": 30
  },
  {
   "metadata": {
    "ExecuteTime": {
     "end_time": "2025-07-19T19:11:15.155389Z",
     "start_time": "2025-07-19T19:11:15.151422Z"
    }
   },
   "cell_type": "code",
   "source": [
    "torch.manual_seed(42)\n",
    "\n",
    "model_2 = FashionMNISTModelV2(input_shape=1,\n",
    "                              hidden_units=10,\n",
    "                              output_shape=len(class_names) )"
   ],
   "id": "46dce5d2d66fc98c",
   "outputs": [],
   "execution_count": 31
  },
  {
   "metadata": {},
   "cell_type": "markdown",
   "source": [
    "### 7.1 Stepping through 'nn.Conv2d'\n",
    "\n"
   ],
   "id": "6beb2f2a5eab69d2"
  },
  {
   "metadata": {
    "ExecuteTime": {
     "end_time": "2025-07-19T19:11:15.199369Z",
     "start_time": "2025-07-19T19:11:15.190895Z"
    }
   },
   "cell_type": "code",
   "source": [
    "images = torch.randn(size=(32, 3, 64, 64))\n",
    "test_image = images[0]\n",
    "\n",
    "print(f\"Images batch shape: {images.shape}\")\n",
    "print(f\"Single image shape: {test_image.shape}\")\n",
    "print(f\"Test image:\\n{test_image}\")"
   ],
   "id": "1afb3de8e14e8bed",
   "outputs": [
    {
     "name": "stdout",
     "output_type": "stream",
     "text": [
      "Images batch shape: torch.Size([32, 3, 64, 64])\n",
      "Single image shape: torch.Size([3, 64, 64])\n",
      "Test image:\n",
      "tensor([[[-0.0793,  1.6144, -0.4617,  ..., -0.3390,  0.1549, -0.2794],\n",
      "         [-0.5967,  0.0242,  0.8264,  ...,  0.5394,  0.0590,  0.2875],\n",
      "         [ 0.0881, -0.0106,  2.0317,  ...,  0.6341, -0.5408,  1.3265],\n",
      "         ...,\n",
      "         [ 0.5949,  1.0955,  0.7693,  ..., -0.5738,  0.9187,  0.7561],\n",
      "         [ 0.4068,  0.9570,  0.2887,  ...,  0.1231,  0.7267,  0.3002],\n",
      "         [ 1.9694,  0.9515,  1.3571,  ..., -0.7764, -0.4411, -0.2924]],\n",
      "\n",
      "        [[-0.0115, -0.5974,  2.0710,  ..., -1.6814,  0.9977,  0.6090],\n",
      "         [-1.2258,  1.6480, -1.4137,  ...,  0.7258,  0.8074, -0.7784],\n",
      "         [ 1.4650, -0.3883, -0.5527,  ...,  0.5641,  0.2478, -0.1571],\n",
      "         ...,\n",
      "         [ 1.5853,  1.6764,  0.3468,  ...,  0.6637, -0.8358,  0.3972],\n",
      "         [-1.4526,  0.4073,  0.3668,  ...,  0.8799,  0.6329, -0.3277],\n",
      "         [ 0.6710, -2.3354, -0.2408,  ..., -0.3148, -0.6067, -1.9394]],\n",
      "\n",
      "        [[-0.9010, -0.5509,  0.8681,  ...,  0.6061, -0.5306, -0.7076],\n",
      "         [-1.2771, -0.3144,  0.7196,  ...,  1.4076,  1.9254,  1.4800],\n",
      "         [-0.7532,  0.6214, -0.5246,  ...,  1.3352, -0.2138, -0.2625],\n",
      "         ...,\n",
      "         [ 0.8497, -0.7730,  0.1136,  ...,  0.6172, -1.9147, -0.9924],\n",
      "         [-0.6055, -0.9184, -0.6788,  ...,  1.4098,  0.3674,  1.2207],\n",
      "         [ 1.2078, -0.4061,  1.7300,  ...,  0.9589,  0.8936,  0.8743]]])\n"
     ]
    }
   ],
   "execution_count": 32
  },
  {
   "metadata": {
    "ExecuteTime": {
     "end_time": "2025-07-19T19:11:15.244293Z",
     "start_time": "2025-07-19T19:11:15.234432Z"
    }
   },
   "cell_type": "code",
   "source": [
    "# Create a single conv2d layer\n",
    "conv_layer = nn.Conv2d(in_channels=3,\n",
    "                       out_channels=64,\n",
    "                       kernel_size=(3,3),\n",
    "                       stride=1,\n",
    "                       padding=1)\n",
    "print(conv_layer(test_image))\n",
    "test_image.shape"
   ],
   "id": "5bbd80b28c839cf9",
   "outputs": [
    {
     "name": "stdout",
     "output_type": "stream",
     "text": [
      "tensor([[[-0.0465, -0.4993, -0.2622,  ...,  0.0304, -0.6099, -0.5055],\n",
      "         [-0.3253, -0.9680,  0.0495,  ...,  0.1126,  0.3826,  0.4106],\n",
      "         [-0.4626, -0.6388, -0.1387,  ...,  0.1023,  0.4160, -0.1929],\n",
      "         ...,\n",
      "         [-0.6765, -0.1158, -1.1183,  ...,  0.8745, -0.2349, -1.1649],\n",
      "         [-0.0706, -0.5150,  0.1659,  ..., -1.3315, -0.5851, -0.7545],\n",
      "         [-0.5957, -0.3274, -0.7445,  ...,  0.5816,  0.4967,  0.2967]],\n",
      "\n",
      "        [[-0.4588,  0.4894, -0.0635,  ...,  0.4087, -0.0527,  0.3818],\n",
      "         [ 0.3383,  0.6107,  0.5806,  ...,  0.2164,  0.3114, -0.0986],\n",
      "         [-0.2736,  0.6348, -0.1241,  ...,  0.6806, -0.1946, -0.0207],\n",
      "         ...,\n",
      "         [ 0.4832, -0.9776,  0.9248,  ...,  0.1738, -0.3300,  0.4317],\n",
      "         [ 1.0206, -0.1864, -0.4163,  ...,  0.7392, -0.1040,  0.1107],\n",
      "         [-0.4829,  0.4222, -0.6046,  ...,  0.4698, -0.0690, -0.0446]],\n",
      "\n",
      "        [[ 0.0454, -0.5139,  0.2403,  ...,  0.1484, -0.5921, -0.6214],\n",
      "         [-0.5776, -0.5746,  0.7998,  ..., -0.1093, -0.7194,  0.6174],\n",
      "         [-0.7473, -0.0518,  0.1038,  ...,  0.8289,  0.8290, -0.1960],\n",
      "         ...,\n",
      "         [-0.5436, -0.5785, -0.4237,  ..., -0.6454, -0.0693, -0.2752],\n",
      "         [-0.2391, -0.1777,  0.1769,  ..., -0.2856, -1.0084,  0.1361],\n",
      "         [ 0.1973,  0.1030,  0.6768,  ...,  0.0364,  0.3154,  0.4827]],\n",
      "\n",
      "        ...,\n",
      "\n",
      "        [[-1.1627,  0.7793, -0.1600,  ...,  0.0925,  0.6419, -0.5722],\n",
      "         [ 0.4853, -0.0390, -0.0946,  ...,  0.7478,  0.3279, -0.0856],\n",
      "         [-0.1200, -1.0328,  0.1770,  ..., -0.9578,  0.3054, -0.3879],\n",
      "         ...,\n",
      "         [-0.2269, -0.1689, -1.1381,  ...,  1.0342, -0.2085, -0.3279],\n",
      "         [ 1.0669, -0.5361,  0.2939,  ...,  0.3932,  0.3002, -0.4524],\n",
      "         [-0.1866,  0.3393, -0.4392,  ...,  0.3281,  0.1751,  0.3790]],\n",
      "\n",
      "        [[-0.2731,  0.5298,  0.1587,  ..., -0.0881,  0.2738,  0.3091],\n",
      "         [ 0.1622, -0.7900,  0.5523,  ...,  1.3251, -0.7154,  0.3631],\n",
      "         [ 0.1149, -0.7098,  0.5045,  ..., -0.2285, -0.1176,  0.2889],\n",
      "         ...,\n",
      "         [ 0.2631,  0.4642, -0.0292,  ..., -1.2769,  0.8611, -0.1930],\n",
      "         [-0.1671, -0.1099, -0.0251,  ..., -0.2757,  0.3012, -0.0460],\n",
      "         [-0.3483, -0.3654, -0.8365,  ..., -0.1419, -0.5006, -0.0565]],\n",
      "\n",
      "        [[-0.0505,  0.0688,  0.3466,  ...,  0.1527, -0.3493,  0.0599],\n",
      "         [ 0.5196, -0.0334,  0.2115,  ..., -0.0842, -0.2604, -0.0911],\n",
      "         [ 0.3354,  0.0968, -0.9166,  ..., -1.2723, -0.4074, -0.3106],\n",
      "         ...,\n",
      "         [ 0.0248,  0.2458,  0.3847,  ..., -0.0260,  0.0015,  0.0205],\n",
      "         [ 0.7712, -0.1887, -0.7647,  ...,  0.5185,  0.4790,  0.1090],\n",
      "         [ 0.0190,  1.1057, -0.5583,  ...,  0.3578, -0.9643, -0.5661]]],\n",
      "       grad_fn=<SqueezeBackward1>)\n"
     ]
    },
    {
     "data": {
      "text/plain": [
       "torch.Size([3, 64, 64])"
      ]
     },
     "execution_count": 33,
     "metadata": {},
     "output_type": "execute_result"
    }
   ],
   "execution_count": 33
  },
  {
   "metadata": {},
   "cell_type": "markdown",
   "source": "### 7.2 Stepping through 'nn.MaxPool2d()'",
   "id": "5fea317cdda789db"
  },
  {
   "metadata": {
    "ExecuteTime": {
     "end_time": "2025-07-19T19:11:15.313576Z",
     "start_time": "2025-07-19T19:11:15.310289Z"
    }
   },
   "cell_type": "code",
   "source": "test_image.shape",
   "id": "e5466aab3bcbfa17",
   "outputs": [
    {
     "data": {
      "text/plain": [
       "torch.Size([3, 64, 64])"
      ]
     },
     "execution_count": 34,
     "metadata": {},
     "output_type": "execute_result"
    }
   ],
   "execution_count": 34
  },
  {
   "metadata": {
    "ExecuteTime": {
     "end_time": "2025-07-19T19:11:15.359550Z",
     "start_time": "2025-07-19T19:11:15.354018Z"
    }
   },
   "cell_type": "code",
   "source": [
    "# Print out the original image shape without unsqueezed dimensions\n",
    "print(f\"Test original image shape: {test_image.shape}\")\n",
    "print(f\"Test image with unsqueezed dimension: {test_image.unsqueeze(0).shape}\")\n",
    "\n",
    "# Create a sample 'nn.MaxPool2d'\n",
    "max_pool_layer= nn.MaxPool2d(kernel_size=2)\n",
    "\n",
    "# Pass data through just the conv_layer\n",
    "test_image_through_conv = conv_layer(test_image.unsqueeze(0))\n",
    "print(f\"Shape after going through conv_layer(): {test_image_through_conv.shape}\")\n",
    "\n",
    "# Pass data through the max pool layer\n",
    "test_image_through_pool = max_pool_layer(test_image_through_conv)\n",
    "print(f\"Shape after going through max_pool_layer(): {test_image_through_pool.shape}\")"
   ],
   "id": "dc8f77a875d7fb86",
   "outputs": [
    {
     "name": "stdout",
     "output_type": "stream",
     "text": [
      "Test original image shape: torch.Size([3, 64, 64])\n",
      "Test image with unsqueezed dimension: torch.Size([1, 3, 64, 64])\n",
      "Shape after going through conv_layer(): torch.Size([1, 64, 64, 64])\n",
      "Shape after going through max_pool_layer(): torch.Size([1, 64, 32, 32])\n"
     ]
    }
   ],
   "execution_count": 35
  },
  {
   "metadata": {
    "ExecuteTime": {
     "end_time": "2025-07-19T19:11:15.414699Z",
     "start_time": "2025-07-19T19:11:15.410305Z"
    }
   },
   "cell_type": "code",
   "source": [
    "torch.manual_seed(42)\n",
    "# Create random tensor with similar number of dimensions to our images\n",
    "random_tensor = torch.rand(size=(1,1,2,2))\n",
    "print(f\"Random tensor:\\n{random_tensor}\")\n",
    "print(f\"Random tensor shape:\\n{random_tensor.shape}\")\n",
    "\n",
    "# Create max pool layer\n",
    "max_pool_layer = nn.MaxPool2d(kernel_size=2)\n",
    "\n",
    "# Pass the random tensor through the max pool layer\n",
    "max_pool_tensor = max_pool_layer(random_tensor)\n",
    "print(f\"\\nMax pool tensor:\\n{max_pool_tensor}\")\n",
    "print(f\"Max pool tensor shape: {max_pool_tensor.shape}\")\n",
    "random_tensor"
   ],
   "id": "e1b8a6a8c9f281ac",
   "outputs": [
    {
     "name": "stdout",
     "output_type": "stream",
     "text": [
      "Random tensor:\n",
      "tensor([[[[0.8823, 0.9150],\n",
      "          [0.3829, 0.9593]]]])\n",
      "Random tensor shape:\n",
      "torch.Size([1, 1, 2, 2])\n",
      "\n",
      "Max pool tensor:\n",
      "tensor([[[[0.9593]]]])\n",
      "Max pool tensor shape: torch.Size([1, 1, 1, 1])\n"
     ]
    },
    {
     "data": {
      "text/plain": [
       "tensor([[[[0.8823, 0.9150],\n",
       "          [0.3829, 0.9593]]]])"
      ]
     },
     "execution_count": 36,
     "metadata": {},
     "output_type": "execute_result"
    }
   ],
   "execution_count": 36
  },
  {
   "metadata": {
    "ExecuteTime": {
     "end_time": "2025-07-19T19:11:15.469190Z",
     "start_time": "2025-07-19T19:11:15.465897Z"
    }
   },
   "cell_type": "code",
   "source": [
    "torch.manual_seed(42)\n",
    "model_2 = FashionMNISTModelV2(input_shape=1,\n",
    "                              hidden_units=10,\n",
    "                              output_shape=len(class_names))\n",
    "\n"
   ],
   "id": "ff3549e6ad398d46",
   "outputs": [],
   "execution_count": 37
  },
  {
   "metadata": {
    "ExecuteTime": {
     "end_time": "2025-07-19T19:11:15.562439Z",
     "start_time": "2025-07-19T19:11:15.514302Z"
    }
   },
   "cell_type": "code",
   "source": "plt.imshow(image.squeeze(), cmap='gray')",
   "id": "c054b98eaf2b9146",
   "outputs": [
    {
     "data": {
      "text/plain": [
       "<matplotlib.image.AxesImage at 0x135323410>"
      ]
     },
     "execution_count": 38,
     "metadata": {},
     "output_type": "execute_result"
    },
    {
     "data": {
      "text/plain": [
       "<Figure size 640x480 with 1 Axes>"
      ],
      "image/png": "[encoded data removed]"
     },
     "metadata": {},
     "output_type": "display_data"
    }
   ],
   "execution_count": 38
  },
  {
   "metadata": {
    "ExecuteTime": {
     "end_time": "2025-07-19T19:11:15.595104Z",
     "start_time": "2025-07-19T19:11:15.589513Z"
    }
   },
   "cell_type": "code",
   "source": [
    "rand_image_tensor =  torch.rand(size=(1,28,28))\n",
    "rand_image_tensor"
   ],
   "id": "454ba5a100f55bb",
   "outputs": [
    {
     "data": {
      "text/plain": [
       "tensor([[[0.1864, 0.7294, 0.5354, 0.4200, 0.1441, 0.4637, 0.7894, 0.2557,\n",
       "          0.7303, 0.0086, 0.3108, 0.3427, 0.0601, 0.6787, 0.1085, 0.7894,\n",
       "          0.6024, 0.5066, 0.2334, 0.3298, 0.6214, 0.9807, 0.2605, 0.1598,\n",
       "          0.2782, 0.1408, 0.4342, 0.1436],\n",
       "         [0.8625, 0.8549, 0.1819, 0.9410, 0.6037, 0.1819, 0.6661, 0.0462,\n",
       "          0.2341, 0.1391, 0.2219, 0.3918, 0.6139, 0.5954, 0.0113, 0.0214,\n",
       "          0.4241, 0.9267, 0.6852, 0.9463, 0.2631, 0.6394, 0.0647, 0.7602,\n",
       "          0.4877, 0.4621, 0.2300, 0.0631],\n",
       "         [0.3159, 0.4528, 0.2345, 0.7090, 0.4132, 0.5492, 0.0344, 0.6408,\n",
       "          0.2555, 0.1222, 0.2993, 0.0453, 0.1184, 0.8728, 0.9093, 0.1527,\n",
       "          0.6084, 0.2425, 0.9679, 0.8052, 0.6988, 0.0923, 0.2541, 0.3949,\n",
       "          0.0530, 0.2078, 0.6316, 0.0930],\n",
       "         [0.6330, 0.4886, 0.4588, 0.3539, 0.2313, 0.0325, 0.1598, 0.8776,\n",
       "          0.4629, 0.9869, 0.5264, 0.4411, 0.7998, 0.0293, 0.1901, 0.7868,\n",
       "          0.3696, 0.8956, 0.4543, 0.8566, 0.5243, 0.5519, 0.0777, 0.3272,\n",
       "          0.5251, 0.7285, 0.5970, 0.3914],\n",
       "         [0.5034, 0.9298, 0.8335, 0.6706, 0.1397, 0.3319, 0.8192, 0.9501,\n",
       "          0.2636, 0.7125, 0.3829, 0.8172, 0.4249, 0.1025, 0.0051, 0.4813,\n",
       "          0.6474, 0.2053, 0.8934, 0.7372, 0.8015, 0.7304, 0.0178, 0.4083,\n",
       "          0.7597, 0.7475, 0.0451, 0.2166],\n",
       "         [0.8644, 0.0860, 0.8789, 0.4035, 0.5367, 0.7439, 0.6346, 0.1795,\n",
       "          0.6629, 0.0707, 0.2477, 0.4122, 0.4000, 0.8640, 0.2271, 0.9196,\n",
       "          0.7329, 0.6627, 0.8561, 0.1585, 0.0692, 0.5187, 0.7465, 0.7524,\n",
       "          0.5208, 0.9782, 0.6776, 0.7160],\n",
       "         [0.2577, 0.6525, 0.3128, 0.0961, 0.1747, 0.1981, 0.4246, 0.2906,\n",
       "          0.9594, 0.7067, 0.0843, 0.5210, 0.9312, 0.4798, 0.5811, 0.6365,\n",
       "          0.3350, 0.1763, 0.3126, 0.3695, 0.8934, 0.0936, 0.5672, 0.3089,\n",
       "          0.4468, 0.4556, 0.3060, 0.6154],\n",
       "         [0.6182, 0.2129, 0.8072, 0.9510, 0.2929, 0.6019, 0.3149, 0.8427,\n",
       "          0.4612, 0.0542, 0.6163, 0.9143, 0.5020, 0.3720, 0.4863, 0.7831,\n",
       "          0.9288, 0.3749, 0.7664, 0.7786, 0.9467, 0.8582, 0.0870, 0.0869,\n",
       "          0.0851, 0.8142, 0.2461, 0.7762],\n",
       "         [0.4256, 0.2940, 0.8762, 0.4034, 0.2302, 0.4234, 0.1820, 0.0186,\n",
       "          0.4124, 0.4718, 0.2150, 0.9432, 0.3883, 0.3730, 0.8962, 0.5556,\n",
       "          0.3824, 0.6150, 0.0482, 0.9916, 0.6319, 0.6758, 0.1312, 0.8823,\n",
       "          0.0891, 0.3263, 0.1794, 0.2475],\n",
       "         [0.6067, 0.0041, 0.0105, 0.6142, 0.6648, 0.5072, 0.3100, 0.3601,\n",
       "          0.4309, 0.3986, 0.1907, 0.8764, 0.6012, 0.1655, 0.3984, 0.1382,\n",
       "          0.2079, 0.8798, 0.6526, 0.7190, 0.4351, 0.3752, 0.5646, 0.1448,\n",
       "          0.0025, 0.8515, 0.5102, 0.8033],\n",
       "         [0.8762, 0.7187, 0.3291, 0.4083, 0.4739, 0.5299, 0.5194, 0.1091,\n",
       "          0.2251, 0.8644, 0.5160, 0.2733, 0.8380, 0.3516, 0.2966, 0.8494,\n",
       "          0.1055, 0.2605, 0.8784, 0.4511, 0.2938, 0.9149, 0.5761, 0.0302,\n",
       "          0.1303, 0.3732, 0.4726, 0.1235],\n",
       "         [0.3116, 0.6690, 0.0337, 0.0314, 0.6300, 0.5954, 0.0171, 0.0348,\n",
       "          0.9154, 0.9990, 0.2815, 0.9981, 0.8453, 0.9444, 0.2848, 0.3776,\n",
       "          0.7948, 0.6855, 0.1009, 0.7992, 0.9876, 0.1825, 0.0358, 0.0237,\n",
       "          0.1837, 0.2798, 0.2174, 0.0621],\n",
       "         [0.8123, 0.9890, 0.9186, 0.8131, 0.7220, 0.3029, 0.0965, 0.2047,\n",
       "          0.7264, 0.6094, 0.5638, 0.1965, 0.2648, 0.2891, 0.4365, 0.4057,\n",
       "          0.5529, 0.3335, 0.4433, 0.1820, 0.7471, 0.0845, 0.5913, 0.0243,\n",
       "          0.2149, 0.9835, 0.4064, 0.4081],\n",
       "         [0.7579, 0.0687, 0.3848, 0.4839, 0.5563, 0.4172, 0.1473, 0.0417,\n",
       "          0.5054, 0.9175, 0.2755, 0.5632, 0.8178, 0.0115, 0.9425, 0.9223,\n",
       "          0.2813, 0.9358, 0.8416, 0.9154, 0.9330, 0.6147, 0.7747, 0.2323,\n",
       "          0.5840, 0.9795, 0.3277, 0.6178],\n",
       "         [0.2445, 0.6848, 0.6628, 0.8775, 0.5028, 0.7387, 0.8031, 0.5805,\n",
       "          0.0283, 0.8545, 0.1798, 0.7316, 0.1259, 0.6456, 0.4064, 0.0522,\n",
       "          0.7283, 0.3837, 0.2919, 0.3446, 0.8400, 0.7938, 0.6362, 0.7092,\n",
       "          0.7568, 0.7069, 0.9257, 0.8011],\n",
       "         [0.2427, 0.4238, 0.7332, 0.8978, 0.0845, 0.2520, 0.2520, 0.9723,\n",
       "          0.9908, 0.2765, 0.3455, 0.5089, 0.5293, 0.3575, 0.1352, 0.2339,\n",
       "          0.4583, 0.5541, 0.5192, 0.0408, 0.9427, 0.2088, 0.3776, 0.9638,\n",
       "          0.5033, 0.1003, 0.7880, 0.3119],\n",
       "         [0.9847, 0.3549, 0.1263, 0.1280, 0.5027, 0.4195, 0.8893, 0.5299,\n",
       "          0.1994, 0.5560, 0.1302, 0.5746, 0.6321, 0.0286, 0.1580, 0.2489,\n",
       "          0.3252, 0.4092, 0.7097, 0.1053, 0.7586, 0.1534, 0.9391, 0.2146,\n",
       "          0.1175, 0.8583, 0.9067, 0.3306],\n",
       "         [0.9384, 0.5563, 0.6816, 0.4707, 0.3634, 0.3191, 0.0713, 0.8649,\n",
       "          0.7649, 0.9543, 0.0085, 0.9940, 0.8335, 0.6363, 0.2854, 0.8528,\n",
       "          0.8206, 0.9303, 0.0872, 0.5760, 0.6801, 0.0081, 0.9680, 0.8121,\n",
       "          0.0985, 0.0707, 0.5204, 0.9010],\n",
       "         [0.6452, 0.5703, 0.4676, 0.0032, 0.8009, 0.8189, 0.1484, 0.4079,\n",
       "          0.9861, 0.3084, 0.1567, 0.7860, 0.7310, 0.9307, 0.2847, 0.6216,\n",
       "          0.6204, 0.9068, 0.7802, 0.6175, 0.4297, 0.4108, 0.2302, 0.7103,\n",
       "          0.9261, 0.2458, 0.1583, 0.8723],\n",
       "         [0.5672, 0.2643, 0.8238, 0.0926, 0.2543, 0.3393, 0.4841, 0.6066,\n",
       "          0.7391, 0.3254, 0.4515, 0.2392, 0.1712, 0.6091, 0.8687, 0.9315,\n",
       "          0.1098, 0.7366, 0.3457, 0.4751, 0.4791, 0.9319, 0.9190, 0.0951,\n",
       "          0.6084, 0.7924, 0.6341, 0.4884],\n",
       "         [0.2640, 0.1472, 0.0079, 0.4903, 0.3071, 0.6180, 0.2886, 0.9153,\n",
       "          0.1472, 0.9437, 0.3018, 0.5773, 0.3166, 0.7107, 0.8946, 0.9675,\n",
       "          0.1537, 0.8432, 0.8307, 0.0897, 0.7021, 0.5967, 0.7744, 0.9381,\n",
       "          0.5114, 0.3149, 0.2746, 0.5646],\n",
       "         [0.4266, 0.1419, 0.5139, 0.7863, 0.5166, 0.8143, 0.3111, 0.8921,\n",
       "          0.6191, 0.3320, 0.7411, 0.7459, 0.2856, 0.4091, 0.7581, 0.0594,\n",
       "          0.6905, 0.6096, 0.1592, 0.4384, 0.6463, 0.8478, 0.8656, 0.1775,\n",
       "          0.1749, 0.7364, 0.9933, 0.9270],\n",
       "         [0.6969, 0.9741, 0.2705, 0.4858, 0.0922, 0.1932, 0.1619, 0.0464,\n",
       "          0.6411, 0.6292, 0.7013, 0.8314, 0.1017, 0.3557, 0.8934, 0.0575,\n",
       "          0.8514, 0.6540, 0.0941, 0.6079, 0.5161, 0.5966, 0.3565, 0.7263,\n",
       "          0.8889, 0.8485, 0.4520, 0.0401],\n",
       "         [0.9895, 0.6391, 0.9438, 0.6801, 0.5082, 0.7691, 0.7798, 0.4676,\n",
       "          0.5765, 0.4797, 0.8426, 0.7276, 0.4166, 0.9659, 0.9791, 0.9062,\n",
       "          0.5896, 0.5306, 0.2389, 0.8645, 0.1407, 0.0690, 0.6509, 0.0323,\n",
       "          0.6594, 0.2592, 0.4937, 0.3074],\n",
       "         [0.9043, 0.1284, 0.5919, 0.5071, 0.0242, 0.8866, 0.5989, 0.0988,\n",
       "          0.0038, 0.7211, 0.9104, 0.3861, 0.3523, 0.0736, 0.8376, 0.3116,\n",
       "          0.2702, 0.6902, 0.9373, 0.7314, 0.6442, 0.9425, 0.5213, 0.5773,\n",
       "          0.4635, 0.1867, 0.5919, 0.2403],\n",
       "         [0.7894, 0.1551, 0.0913, 0.4034, 0.8714, 0.1201, 0.3407, 0.4617,\n",
       "          0.2813, 0.7362, 0.9368, 0.7706, 0.3946, 0.1074, 0.0872, 0.3803,\n",
       "          0.3425, 0.1208, 0.6237, 0.3105, 0.6450, 0.2345, 0.4549, 0.3495,\n",
       "          0.8071, 0.0437, 0.3028, 0.6068],\n",
       "         [0.3591, 0.4914, 0.8379, 0.5716, 0.5616, 0.6461, 0.2310, 0.3003,\n",
       "          0.7395, 0.5725, 0.8262, 0.4362, 0.9697, 0.7986, 0.3599, 0.2445,\n",
       "          0.6010, 0.0829, 0.2710, 0.6532, 0.5436, 0.7263, 0.2909, 0.9208,\n",
       "          0.2250, 0.2438, 0.8345, 0.4035],\n",
       "         [0.6430, 0.4112, 0.1464, 0.4800, 0.7268, 0.8370, 0.8814, 0.4824,\n",
       "          0.8621, 0.6410, 0.5185, 0.5094, 0.4523, 0.6428, 0.4742, 0.8216,\n",
       "          0.4238, 0.2223, 0.6453, 0.2198, 0.8105, 0.9084, 0.5803, 0.3997,\n",
       "          0.4774, 0.7342, 0.1180, 0.3662]]])"
      ]
     },
     "execution_count": 39,
     "metadata": {},
     "output_type": "execute_result"
    }
   ],
   "execution_count": 39
  },
  {
   "metadata": {
    "ExecuteTime": {
     "end_time": "2025-07-19T19:11:15.640778Z",
     "start_time": "2025-07-19T19:11:15.638691Z"
    }
   },
   "cell_type": "code",
   "source": [
    "# Pass image through model\n",
    "#model_2(rand_image_tensor.unsqueeze(0))"
   ],
   "id": "e333268106fb17c",
   "outputs": [],
   "execution_count": 40
  },
  {
   "metadata": {},
   "cell_type": "markdown",
   "source": "### 7.3 Setup loss function and optimizer\n",
   "id": "be5162ff63b2ffc2"
  },
  {
   "metadata": {
    "ExecuteTime": {
     "end_time": "2025-07-19T19:11:15.680775Z",
     "start_time": "2025-07-19T19:11:15.678477Z"
    }
   },
   "cell_type": "code",
   "source": [
    "# Setup loss func, eval metrics, and optimizer\n",
    "from helper_functions import accuracy_fn\n",
    "\n",
    "optimizer = torch.optim.SGD(params=model_2.parameters(), lr=0.1)\n",
    "loss_fn = nn.CrossEntropyLoss()\n"
   ],
   "id": "2d9a9581e99b7026",
   "outputs": [],
   "execution_count": 41
  },
  {
   "metadata": {
    "ExecuteTime": {
     "end_time": "2025-07-19T19:12:55.184858Z",
     "start_time": "2025-07-19T19:11:15.713429Z"
    }
   },
   "cell_type": "code",
   "source": [
    "# Import TQDM for progress bar\n",
    "from tqdm.auto import tqdm\n",
    "\n",
    "# Set Seed and start the timer\n",
    "torch.manual_seed(42)\n",
    "train_time_start = timer()\n",
    "\n",
    "# Set the number of epochs (we'll keep this small for faster training time)\n",
    "EPOCHS = 3\n",
    "\n",
    "# Create training and test loop\n",
    "for epoch in tqdm(range(EPOCHS)):\n",
    "    print(f\"Epoch: {epoch}\\n------\")\n",
    "\n",
    "    ### Training\n",
    "    train_loss = 0\n",
    "    # Add a loop to loop through the training batches\n",
    "    for batch, (X, y) in enumerate(train_dataloader):\n",
    "        model_2.train()\n",
    "        # 1. forward pass\n",
    "        y_pred = model_2(X)\n",
    "        # 2. Calculate loss (per batch)\n",
    "        loss = loss_fn(y_pred, y)\n",
    "        train_loss += loss # accumulate the train loss\n",
    "\n",
    "        # Optimize zero grade\n",
    "        optimizer.zero_grad()\n",
    "\n",
    "        # 4. loss backward\n",
    "        loss.backward()\n",
    "\n",
    "        # 5. Optimizer step\n",
    "        optimizer.step()\n",
    "\n",
    "        # Print out whats happening\n",
    "        if batch % 400 == 0:\n",
    "            print(f\"Looked at {batch * len(X)}/{len(train_dataloader.dataset)} samples.\")\n",
    "\n",
    "    # Divide total train loss by length of train dataloader\n",
    "    train_loss /= len(train_dataloader)\n",
    "\n",
    "    ### Testing\n",
    "    test_loss, test_acc = 0, 0\n",
    "    model_2.eval()\n",
    "    with torch.inference_mode():\n",
    "        for X_test, y_test in test_dataloader:\n",
    "            # 1. Forward pass\n",
    "            test_pred = model_2(X_test)\n",
    "\n",
    "            # 2. Calculate loss (accumulatively)\n",
    "            test_loss += loss_fn(test_pred, y_test)\n",
    "\n",
    "            # 3. Calculate accuracy\n",
    "            test_acc += accuracy_fn(y_true=y_test, y_pred=test_pred.argmax(dim=1))\n",
    "\n",
    "        # Calculate the test loss average per batch\n",
    "        test_loss /= len(test_dataloader)\n",
    "\n",
    "        # Calculate the test acc average per back\n",
    "        test_acc = test_acc / len(test_dataloader)\n",
    "\n",
    "    print(f\"\\nTrain loss {train_loss:.4f} | Test loss {test_loss:.4f} | Test accuracy {test_acc:.4f}\")\n",
    "\n",
    "# Calculate training time\n",
    "train_time_end = timer()\n",
    "total_time_model_2 = print_train_time(train_time_start, train_time_end, device=str(next(model_2.parameters()).device))\n"
   ],
   "id": "3b04dc9125c87bb5",
   "outputs": [
    {
     "data": {
      "text/plain": [
       "  0%|          | 0/3 [00:00<?, ?it/s]"
      ],
      "application/vnd.jupyter.widget-view+json": {
       "version_major": 2,
       "version_minor": 0,
       "model_id": "77b34e6edcc24bdbad2fe2a0350eb011"
      }
     },
     "metadata": {},
     "output_type": "display_data"
    },
    {
     "name": "stdout",
     "output_type": "stream",
     "text": [
      "Epoch: 0\n",
      "------\n",
      "Looked at 0/60000 samples.\n",
      "Looked at 12800/60000 samples.\n",
      "Looked at 25600/60000 samples.\n",
      "Looked at 38400/60000 samples.\n",
      "Looked at 51200/60000 samples.\n",
      "\n",
      "Train loss 0.5972 | Test loss 0.3927 | Test accuracy 86.0723\n",
      "Epoch: 1\n",
      "------\n",
      "Looked at 0/60000 samples.\n",
      "Looked at 12800/60000 samples.\n",
      "Looked at 25600/60000 samples.\n",
      "Looked at 38400/60000 samples.\n",
      "Looked at 51200/60000 samples.\n",
      "\n",
      "Train loss 0.3610 | Test loss 0.3549 | Test accuracy 86.8810\n",
      "Epoch: 2\n",
      "------\n",
      "Looked at 0/60000 samples.\n",
      "Looked at 12800/60000 samples.\n",
      "Looked at 25600/60000 samples.\n",
      "Looked at 38400/60000 samples.\n",
      "Looked at 51200/60000 samples.\n",
      "\n",
      "Train loss 0.3242 | Test loss 0.3257 | Test accuracy 88.1190\n",
      "Training took on cpu: 99.47 seconds\n"
     ]
    }
   ],
   "execution_count": 42
  },
  {
   "metadata": {
    "ExecuteTime": {
     "end_time": "2025-07-19T19:12:56.274074Z",
     "start_time": "2025-07-19T19:12:55.214031Z"
    }
   },
   "cell_type": "code",
   "source": [
    "model_2_results = eval_model(model=model_2,\n",
    "                             data_loader=test_dataloader,\n",
    "                             loss_fn=loss_fn, accuracy_fn=accuracy_fn)"
   ],
   "id": "d72ee1b564642704",
   "outputs": [
    {
     "data": {
      "text/plain": [
       "  0%|          | 0/313 [00:00<?, ?it/s]"
      ],
      "application/vnd.jupyter.widget-view+json": {
       "version_major": 2,
       "version_minor": 0,
       "model_id": "9043afdf13494c609a1ffdf59e6f69dd"
      }
     },
     "metadata": {},
     "output_type": "display_data"
    }
   ],
   "execution_count": 43
  },
  {
   "metadata": {},
   "cell_type": "markdown",
   "source": "## 8. Comparing model results aand training time",
   "id": "c3805ab2bca13f77"
  },
  {
   "metadata": {
    "ExecuteTime": {
     "end_time": "2025-07-19T19:12:56.311229Z",
     "start_time": "2025-07-19T19:12:56.300952Z"
    }
   },
   "cell_type": "code",
   "source": [
    "import pandas as pd\n",
    "compare_results = pd.DataFrame([model_0_results,\n",
    "                                model_1_results,\n",
    "                                model_2_results,\n",
    "])\n",
    "compare_results"
   ],
   "id": "a90ad1b20bb2f3e",
   "outputs": [
    {
     "data": {
      "text/plain": [
       "            model_name      loss   accuracy\n",
       "0  FashionMNISTModelV0  0.476639  83.426518\n",
       "1  FashionMNISTModelV1  0.674611  75.638978\n",
       "2  FashionMNISTModelV2  0.325742  88.119010"
      ],
      "text/html": [
       "<div>\n",
       "<style scoped>\n",
       "    .dataframe tbody tr th:only-of-type {\n",
       "        vertical-align: middle;\n",
       "    }\n",
       "\n",
       "    .dataframe tbody tr th {\n",
       "        vertical-align: top;\n",
       "    }\n",
       "\n",
       "    .dataframe thead th {\n",
       "        text-align: right;\n",
       "    }\n",
       "</style>\n",
       "<table border=\"1\" class=\"dataframe\">\n",
       "  <thead>\n",
       "    <tr style=\"text-align: right;\">\n",
       "      <th></th>\n",
       "      <th>model_name</th>\n",
       "      <th>loss</th>\n",
       "      <th>accuracy</th>\n",
       "    </tr>\n",
       "  </thead>\n",
       "  <tbody>\n",
       "    <tr>\n",
       "      <th>0</th>\n",
       "      <td>FashionMNISTModelV0</td>\n",
       "      <td>0.476639</td>\n",
       "      <td>83.426518</td>\n",
       "    </tr>\n",
       "    <tr>\n",
       "      <th>1</th>\n",
       "      <td>FashionMNISTModelV1</td>\n",
       "      <td>0.674611</td>\n",
       "      <td>75.638978</td>\n",
       "    </tr>\n",
       "    <tr>\n",
       "      <th>2</th>\n",
       "      <td>FashionMNISTModelV2</td>\n",
       "      <td>0.325742</td>\n",
       "      <td>88.119010</td>\n",
       "    </tr>\n",
       "  </tbody>\n",
       "</table>\n",
       "</div>"
      ]
     },
     "execution_count": 44,
     "metadata": {},
     "output_type": "execute_result"
    }
   ],
   "execution_count": 44
  },
  {
   "metadata": {
    "ExecuteTime": {
     "end_time": "2025-07-19T19:12:56.376844Z",
     "start_time": "2025-07-19T19:12:56.371802Z"
    }
   },
   "cell_type": "code",
   "source": [
    "# Add training time to results comparison\n",
    "compare_results[\"Training time\"] = [total_time_model_0,\n",
    "                                    total_time_model_1,\n",
    "                                    total_time_model_2]\n",
    "compare_results"
   ],
   "id": "988aec097a552527",
   "outputs": [
    {
     "data": {
      "text/plain": [
       "            model_name      loss   accuracy  Training time\n",
       "0  FashionMNISTModelV0  0.476639  83.426518       7.998640\n",
       "1  FashionMNISTModelV1  0.674611  75.638978       7.859933\n",
       "2  FashionMNISTModelV2  0.325742  88.119010      99.466239"
      ],
      "text/html": [
       "<div>\n",
       "<style scoped>\n",
       "    .dataframe tbody tr th:only-of-type {\n",
       "        vertical-align: middle;\n",
       "    }\n",
       "\n",
       "    .dataframe tbody tr th {\n",
       "        vertical-align: top;\n",
       "    }\n",
       "\n",
       "    .dataframe thead th {\n",
       "        text-align: right;\n",
       "    }\n",
       "</style>\n",
       "<table border=\"1\" class=\"dataframe\">\n",
       "  <thead>\n",
       "    <tr style=\"text-align: right;\">\n",
       "      <th></th>\n",
       "      <th>model_name</th>\n",
       "      <th>loss</th>\n",
       "      <th>accuracy</th>\n",
       "      <th>Training time</th>\n",
       "    </tr>\n",
       "  </thead>\n",
       "  <tbody>\n",
       "    <tr>\n",
       "      <th>0</th>\n",
       "      <td>FashionMNISTModelV0</td>\n",
       "      <td>0.476639</td>\n",
       "      <td>83.426518</td>\n",
       "      <td>7.998640</td>\n",
       "    </tr>\n",
       "    <tr>\n",
       "      <th>1</th>\n",
       "      <td>FashionMNISTModelV1</td>\n",
       "      <td>0.674611</td>\n",
       "      <td>75.638978</td>\n",
       "      <td>7.859933</td>\n",
       "    </tr>\n",
       "    <tr>\n",
       "      <th>2</th>\n",
       "      <td>FashionMNISTModelV2</td>\n",
       "      <td>0.325742</td>\n",
       "      <td>88.119010</td>\n",
       "      <td>99.466239</td>\n",
       "    </tr>\n",
       "  </tbody>\n",
       "</table>\n",
       "</div>"
      ]
     },
     "execution_count": 45,
     "metadata": {},
     "output_type": "execute_result"
    }
   ],
   "execution_count": 45
  },
  {
   "metadata": {
    "ExecuteTime": {
     "end_time": "2025-07-19T19:12:56.704887Z",
     "start_time": "2025-07-19T19:12:56.700469Z"
    }
   },
   "cell_type": "code",
   "source": [
    "def make_predictions(model: nn.Module,\n",
    "                     data: list,\n",
    "                     device: torch.device):\n",
    "    pred_probs = []\n",
    "    model.to('cpu')\n",
    "    model.eval()\n",
    "    with torch.inference_mode():\n",
    "        for sample in data:\n",
    "            # Preapre the sample and aadd batch dimension\n",
    "            sample = torch.unsqueeze(sample, dim=0)\n",
    "\n",
    "            # Forward pass (model output raw logits\n",
    "            pred_logit = model(sample)\n",
    "\n",
    "            # Get prediction probabilities (logit -> prediction probability)\n",
    "            pred_prob = torch.softmax(pred_logit.squeeze(), dim=0)\n",
    "\n",
    "            # Get pred_prob off the GPU for further calculations\n",
    "            pred_probs.append(pred_prob.cpu())\n",
    "\n",
    "    # Stack the pred_probs to turn list into a tensor\n",
    "    return torch.stack(pred_probs)\n",
    "\n"
   ],
   "id": "c2dad3a01193d10c",
   "outputs": [],
   "execution_count": 46
  },
  {
   "metadata": {
    "ExecuteTime": {
     "end_time": "2025-07-19T19:12:56.775847Z",
     "start_time": "2025-07-19T19:12:56.771172Z"
    }
   },
   "cell_type": "code",
   "source": [
    "img, label = test_data[0][:10]\n",
    "img.shape, label"
   ],
   "id": "58d0a7f0889c601",
   "outputs": [
    {
     "data": {
      "text/plain": [
       "(torch.Size([1, 28, 28]), 9)"
      ]
     },
     "execution_count": 47,
     "metadata": {},
     "output_type": "execute_result"
    }
   ],
   "execution_count": 47
  },
  {
   "metadata": {
    "ExecuteTime": {
     "end_time": "2025-07-19T19:12:57.228361Z",
     "start_time": "2025-07-19T19:12:56.821943Z"
    }
   },
   "cell_type": "code",
   "source": [
    "import random\n",
    "random.seed(42)\n",
    "test_samples = []\n",
    "test_labels = []\n",
    "for sample, label in random.sample(list(test_data), k=9):\n",
    "    test_samples.append(sample)\n",
    "    test_labels.append(label)\n",
    "\n",
    "# View the first sample shape\n",
    "plt.imshow(test_samples[0].squeeze(), cmap='gray')\n",
    "plt.title(class_names[test_labels[0]])\n",
    "\n"
   ],
   "id": "6d88d95bc70c2ef3",
   "outputs": [
    {
     "data": {
      "text/plain": [
       "Text(0.5, 1.0, 'Sandal')"
      ]
     },
     "execution_count": 48,
     "metadata": {},
     "output_type": "execute_result"
    },
    {
     "data": {
      "text/plain": [
       "<Figure size 640x480 with 1 Axes>"
      ],
      "image/png": "[encoded data removed]"
     },
     "metadata": {},
     "output_type": "display_data"
    }
   ],
   "execution_count": 48
  },
  {
   "metadata": {
    "ExecuteTime": {
     "end_time": "2025-07-19T19:14:08.405216Z",
     "start_time": "2025-07-19T19:14:08.391987Z"
    }
   },
   "cell_type": "code",
   "source": [
    "# Make predictions\n",
    "pred_probs = make_predictions(model=model_2,\n",
    "                              data=test_samples,\n",
    "                              device='cpu')\n",
    "pred_probs[:2]"
   ],
   "id": "376d37270a53dafb",
   "outputs": [
    {
     "data": {
      "text/plain": [
       "tensor([[2.6569e-08, 6.5058e-09, 8.9548e-09, 1.1617e-08, 2.5133e-09, 9.9997e-01,\n",
       "         9.8833e-09, 6.5410e-07, 9.2149e-06, 2.1993e-05],\n",
       "        [2.2976e-02, 7.7505e-01, 6.2118e-04, 5.4779e-02, 7.6720e-02, 1.2489e-04,\n",
       "         6.9608e-02, 2.5421e-05, 3.1599e-05, 6.7228e-05]])"
      ]
     },
     "execution_count": 53,
     "metadata": {},
     "output_type": "execute_result"
    }
   ],
   "execution_count": 53
  },
  {
   "metadata": {
    "ExecuteTime": {
     "end_time": "2025-07-19T19:14:11.491612Z",
     "start_time": "2025-07-19T19:14:11.487674Z"
    }
   },
   "cell_type": "code",
   "source": [
    "# Convert prediction probabilties to labels\n",
    "pred_classes = pred_probs.argmax(dim=1)\n",
    "pred_classes"
   ],
   "id": "c9957e433be68b72",
   "outputs": [
    {
     "data": {
      "text/plain": [
       "tensor([5, 1, 7, 4, 3, 0, 4, 7, 1])"
      ]
     },
     "execution_count": 54,
     "metadata": {},
     "output_type": "execute_result"
    }
   ],
   "execution_count": 54
  },
  {
   "metadata": {
    "ExecuteTime": {
     "end_time": "2025-07-19T19:25:31.575735Z",
     "start_time": "2025-07-19T19:25:31.263782Z"
    }
   },
   "cell_type": "code",
   "source": [
    "# Plot predictions\n",
    "plt.figure(figsize=(10, 10))\n",
    "nrows, ncols = 3, 3\n",
    "for i, sample in enumerate(test_samples):\n",
    "    # Create subplots\n",
    "    plt.subplot(nrows, ncols, i + 1)\n",
    "\n",
    "    # Plot the target image\n",
    "    plt.imshow(sample.squeeze(), cmap='gray')\n",
    "\n",
    "    # Find the prediction in text form\n",
    "    pred_label = class_names[pred_classes[i]]\n",
    "    # Get truth label in text form\n",
    "    truth_label = class_names[test_labels[i]]\n",
    "\n",
    "    # Create title\n",
    "    title_text = f\"Prediction: {pred_label} | Truth: ({truth_label})\"\n",
    "\n",
    "    # Check for equality between pred and truth and change color of text\n",
    "    if pred_label == truth_label:\n",
    "        plt.title(title_text, fontsize=10, c='g') # Green if right, red if wrong\n",
    "    else:\n",
    "        plt.title(title_text, fontsize=10, c='r')\n"
   ],
   "id": "f4fef98f1294146b",
   "outputs": [
    {
     "data": {
      "text/plain": [
       "<Figure size 1000x1000 with 9 Axes>"
      ],
      "image/png": "[encoded data removed]"
     },
     "metadata": {},
     "output_type": "display_data"
    }
   ],
   "execution_count": 58
  },
  {
   "metadata": {},
   "cell_type": "markdown",
   "source": [
    "## 10. Making a confusion matrix\n",
    "Good way of visualizing models\n",
    "1. Make prediction with our trained model on the test data sets"
   ],
   "id": "126b2912b8e5d093"
  },
  {
   "metadata": {
    "ExecuteTime": {
     "end_time": "2025-07-19T19:56:31.431260Z",
     "start_time": "2025-07-19T19:56:31.427685Z"
    }
   },
   "cell_type": "code",
   "source": "import mlxtend",
   "id": "15704b9aa7f65de3",
   "outputs": [],
   "execution_count": 61
  },
  {
   "metadata": {
    "ExecuteTime": {
     "end_time": "2025-07-19T19:56:43.576065Z",
     "start_time": "2025-07-19T19:56:43.572940Z"
    }
   },
   "cell_type": "code",
   "source": "mlxtend.__version__",
   "id": "c9d147c7fe3364aa",
   "outputs": [
    {
     "data": {
      "text/plain": [
       "'0.23.4'"
      ]
     },
     "execution_count": 62,
     "metadata": {},
     "output_type": "execute_result"
    }
   ],
   "execution_count": 62
  },
  {
   "metadata": {
    "ExecuteTime": {
     "end_time": "2025-07-19T20:01:31.664362Z",
     "start_time": "2025-07-19T20:01:30.259854Z"
    }
   },
   "cell_type": "code",
   "source": [
    "y_preds = []\n",
    "model_2.eval()\n",
    "with torch.inference_mode():\n",
    "    for X, y in tqdm(test_dataloader, desc=\"Making predictions...\"):\n",
    "        X, y = X.to(device='cpu'), y.to(device='cpu')\n",
    "        # Do forward pass\n",
    "        y_logits = model_2(X)\n",
    "        # Turn predictions from logits -> prediction probabilities -> prediction labels\n",
    "        y_pred = torch.softmax(y_logits.squeeze(), dim=0).argmax(dim=1)\n",
    "        # Put on CPU for evaluation\n",
    "        y_preds.append(y_pred.cpu())\n",
    "\n",
    "# Concatenate list of predictions into a tensor\n",
    "print(y_preds)\n",
    "y_pred_tensor = torch.cat(y_preds)\n",
    "y_pred_tensor[:10]\n",
    "\n"
   ],
   "id": "154c51cb58eac8b5",
   "outputs": [
    {
     "data": {
      "text/plain": [
       "Making predictions...:   0%|          | 0/313 [00:00<?, ?it/s]"
      ],
      "application/vnd.jupyter.widget-view+json": {
       "version_major": 2,
       "version_minor": 0,
       "model_id": "b3bb69a9a38b4fe8a5d45cac6ed136ac"
      }
     },
     "metadata": {},
     "output_type": "display_data"
    },
    {
     "name": "stdout",
     "output_type": "stream",
     "text": [
      "[tensor([9, 2, 1, 1, 6, 1, 4, 6, 5, 7, 4, 5, 8, 3, 4, 3, 2, 2, 8, 0, 2, 7, 7, 5,\n",
      "        1, 6, 6, 3, 9, 4, 8, 8]), tensor([3, 3, 8, 0, 7, 5, 7, 9, 6, 1, 3, 9, 6, 7, 2, 1, 4, 6, 4, 2, 5, 8, 2, 2,\n",
      "        8, 4, 8, 0, 7, 7, 8, 5]), tensor([1, 1, 3, 4, 7, 8, 7, 6, 2, 6, 2, 3, 1, 2, 8, 4, 4, 8, 5, 9, 5, 0, 3, 2,\n",
      "        0, 2, 5, 3, 6, 7, 1, 8]), tensor([6, 1, 4, 2, 3, 6, 7, 6, 7, 8, 5, 9, 9, 4, 2, 5, 7, 6, 5, 2, 8, 6, 7, 8,\n",
      "        0, 0, 9, 9, 3, 0, 8, 4]), tensor([1, 5, 4, 1, 9, 1, 8, 6, 6, 1, 2, 5, 1, 6, 0, 0, 1, 6, 1, 3, 2, 2, 4, 4,\n",
      "        1, 4, 5, 6, 4, 7, 9, 3]), tensor([5, 2, 3, 8, 0, 9, 4, 8, 4, 2, 6, 5, 6, 1, 2, 1, 3, 0, 8, 1, 0, 9, 3, 6,\n",
      "        7, 8, 9, 4, 4, 7, 1, 2]), tensor([3, 6, 3, 2, 8, 3, 6, 1, 1, 6, 2, 9, 2, 4, 0, 7, 9, 8, 4, 1, 8, 4, 1, 3,\n",
      "        1, 6, 7, 2, 8, 5, 6, 0]), tensor([7, 7, 6, 3, 7, 0, 7, 8, 9, 2, 9, 0, 5, 1, 4, 2, 5, 4, 9, 2, 2, 8, 6, 4,\n",
      "        2, 4, 9, 7, 3, 5, 5, 4]), tensor([8, 5, 2, 3, 0, 4, 8, 6, 0, 6, 3, 8, 9, 6, 1, 3, 6, 2, 3, 0, 8, 3, 7, 4,\n",
      "        0, 3, 2, 3, 6, 6, 6, 7]), tensor([8, 4, 7, 9, 5, 6, 5, 5, 1, 9, 8, 3, 3, 3, 6, 8, 0, 0, 2, 9, 7, 7, 1, 3,\n",
      "        6, 6, 2, 4, 7, 1, 6, 4]), tensor([8, 2, 6, 5, 6, 2, 8, 7, 7, 3, 3, 7, 0, 7, 1, 3, 7, 8, 2, 8, 4, 0, 8, 1,\n",
      "        0, 1, 9, 4, 9, 9, 1, 7]), tensor([8, 3, 6, 0, 2, 4, 8, 6, 1, 2, 2, 4, 4, 7, 3, 2, 2, 5, 0, 7, 9, 4, 6, 9,\n",
      "        3, 9, 8, 2, 5, 6, 2, 3]), tensor([5, 8, 1, 3, 2, 2, 6, 4, 9, 5, 2, 0, 6, 6, 3, 2, 0, 9, 7, 0, 3, 4, 3, 6,\n",
      "        2, 3, 3, 6, 7, 3, 9, 4]), tensor([2, 1, 5, 4, 5, 3, 8, 5, 8, 4, 4, 8, 9, 8, 6, 2, 4, 4, 2, 4, 1, 6, 1, 3,\n",
      "        0, 7, 8, 8, 4, 5, 3, 1]), tensor([9, 5, 3, 3, 6, 1, 2, 2, 9, 4, 6, 6, 6, 4, 2, 6, 0, 3, 3, 8, 2, 8, 9, 4,\n",
      "        0, 7, 6, 4, 6, 9, 2, 9]), tensor([5, 9, 3, 7, 5, 7, 8, 1, 6, 0, 6, 6, 8, 9, 7, 9, 1, 2, 7, 3, 2, 0, 5, 7,\n",
      "        1, 8, 2, 2, 2, 2, 4, 6]), tensor([6, 0, 9, 6, 7, 1, 9, 1, 2, 8, 3, 6, 7, 2, 6, 2, 8, 0, 2, 0, 5, 0, 7, 5,\n",
      "        0, 9, 4, 3, 4, 2, 7, 1]), tensor([3, 1, 2, 6, 2, 9, 6, 3, 5, 1, 3, 1, 9, 3, 4, 5, 3, 6, 2, 6, 4, 6, 0, 5,\n",
      "        8, 2, 3, 4, 6, 7, 7, 8]), tensor([9, 0, 2, 8, 7, 6, 7, 9, 3, 2, 6, 3, 5, 0, 1, 1, 5, 9, 4, 2, 5, 7, 8, 1,\n",
      "        2, 9, 7, 7, 1, 0, 9, 3]), tensor([4, 9, 6, 5, 1, 8, 2, 7, 1, 2, 3, 8, 2, 4, 6, 9, 3, 0, 7, 8, 0, 2, 9, 1,\n",
      "        1, 6, 4, 1, 0, 1, 4, 1]), tensor([7, 5, 8, 4, 9, 1, 0, 5, 4, 4, 4, 6, 0, 4, 5, 6, 0, 6, 5, 2, 1, 3, 1, 6,\n",
      "        6, 2, 3, 8, 2, 8, 6, 7]), tensor([0, 4, 1, 8, 5, 0, 8, 2, 7, 2, 8, 7, 6, 4, 4, 9, 6, 4, 5, 0, 9, 5, 3, 6,\n",
      "        6, 2, 3, 3, 8, 1, 4, 0]), tensor([9, 7, 9, 4, 8, 9, 1, 3, 7, 3, 0, 2, 6, 7, 1, 0, 6, 8, 7, 2, 6, 6, 4, 4,\n",
      "        1, 5, 9, 3, 6, 3, 6, 5]), tensor([0, 6, 4, 3, 3, 8, 1, 1, 8, 5, 7, 9, 8, 7, 2, 0, 7, 2, 8, 0, 9, 7, 6, 1,\n",
      "        6, 6, 4, 8, 2, 6, 3, 6]), tensor([8, 6, 0, 8, 9, 2, 4, 5, 9, 1, 6, 4, 9, 2, 3, 7, 9, 7, 8, 3, 7, 7, 3, 1,\n",
      "        1, 6, 9, 5, 3, 8, 4, 2]), tensor([9, 0, 8, 3, 2, 2, 4, 7, 1, 4, 9, 0, 5, 8, 5, 4, 7, 2, 8, 5, 9, 0, 3, 6,\n",
      "        7, 1, 7, 0, 7, 4, 6, 5]), tensor([8, 3, 7, 1, 2, 6, 1, 9, 8, 2, 7, 1, 3, 7, 5, 9, 9, 1, 8, 4, 5, 7, 1, 9,\n",
      "        8, 1, 0, 0, 2, 1, 7, 1]), tensor([1, 8, 7, 1, 5, 2, 2, 3, 3, 1, 1, 4, 9, 4, 3, 7, 7, 0, 8, 9, 9, 6, 1, 3,\n",
      "        4, 0, 3, 5, 9, 2, 0, 5]), tensor([5, 1, 5, 7, 8, 7, 9, 3, 6, 4, 0, 4, 0, 2, 0, 2, 5, 5, 1, 2, 0, 9, 3, 7,\n",
      "        8, 4, 8, 3, 4, 7, 0, 7]), tensor([4, 8, 8, 3, 4, 4, 3, 6, 9, 6, 2, 4, 9, 1, 8, 1, 7, 5, 5, 6, 6, 2, 1, 6,\n",
      "        5, 4, 0, 0, 2, 7, 8, 6]), tensor([2, 5, 9, 4, 8, 2, 3, 4, 6, 2, 9, 3, 7, 7, 1, 4, 4, 0, 5, 0, 9, 9, 8, 8,\n",
      "        2, 0, 2, 4, 6, 6, 3, 2]), tensor([3, 7, 2, 9, 3, 4, 7, 7, 0, 3, 9, 5, 6, 4, 5, 9, 6, 3, 7, 5, 1, 9, 8, 8,\n",
      "        9, 9, 2, 9, 2, 2, 3, 8]), tensor([7, 4, 4, 5, 4, 8, 6, 1, 4, 9, 3, 1, 6, 8, 0, 5, 7, 8, 2, 3, 3, 9, 6, 3,\n",
      "        6, 0, 4, 8, 0, 2, 8, 6]), tensor([6, 3, 4, 7, 0, 2, 1, 3, 4, 4, 6, 5, 9, 0, 1, 6, 5, 1, 4, 4, 8, 4, 7, 7,\n",
      "        3, 8, 1, 1, 9, 8, 1, 3]), tensor([3, 7, 5, 0, 0, 7, 8, 9, 2, 0, 5, 8, 4, 6, 3, 8, 6, 0, 5, 2, 7, 1, 0, 3,\n",
      "        5, 4, 8, 6, 2, 1, 1, 7]), tensor([9, 1, 1, 7, 1, 1, 8, 2, 1, 3, 1, 4, 4, 9, 6, 8, 4, 5, 9, 0, 3, 9, 1, 9,\n",
      "        8, 7, 4, 2, 2, 5, 1, 5]), tensor([0, 7, 2, 9, 3, 7, 0, 9, 3, 8, 4, 4, 7, 2, 4, 6, 2, 0, 7, 8, 4, 2, 4, 5,\n",
      "        5, 6, 3, 5, 5, 8, 1, 1]), tensor([7, 4, 3, 9, 6, 8, 7, 2, 2, 1, 2, 7, 7, 4, 9, 8, 5, 1, 3, 3, 2, 2, 9, 3,\n",
      "        1, 9, 3, 5, 5, 2, 0, 7]), tensor([0, 2, 3, 1, 3, 3, 3, 6, 7, 2, 4, 9, 5, 2, 7, 6, 3, 4, 4, 6, 6, 5, 2, 2,\n",
      "        8, 6, 3, 4, 2, 5, 4, 4]), tensor([8, 6, 2, 4, 0, 6, 4, 6, 8, 3, 8, 2, 0, 4, 4, 8, 8, 4, 5, 2, 2, 3, 0, 1,\n",
      "        7, 0, 9, 1, 7, 6, 5, 2]), tensor([2, 7, 3, 8, 9, 6, 8, 0, 7, 5, 5, 9, 5, 0, 6, 0, 3, 2, 4, 4, 2, 7, 1, 3,\n",
      "        4, 6, 6, 5, 1, 6, 7, 3]), tensor([6, 8, 0, 4, 8, 7, 4, 1, 6, 5, 2, 7, 0, 5, 6, 8, 5, 2, 2, 8, 9, 8, 3, 3,\n",
      "        0, 0, 8, 3, 0, 7, 4, 4]), tensor([8, 1, 3, 6, 1, 9, 2, 1, 6, 2, 7, 9, 2, 6, 0, 4, 4, 2, 4, 5, 0, 2, 8, 3,\n",
      "        7, 4, 4, 0, 0, 5, 4, 8]), tensor([2, 2, 2, 0, 2, 1, 7, 9, 5, 4, 7, 2, 2, 7, 3, 3, 1, 3, 2, 6, 6, 1, 9, 2,\n",
      "        4, 7, 1, 0, 6, 5, 8, 4]), tensor([2, 7, 9, 8, 0, 7, 9, 5, 1, 2, 9, 8, 8, 3, 9, 9, 1, 2, 7, 8, 0, 1, 7, 2,\n",
      "        7, 1, 1, 8, 5, 6, 4, 8]), tensor([9, 5, 5, 2, 3, 9, 3, 8, 5, 4, 6, 6, 6, 5, 7, 6, 8, 2, 6, 4, 6, 7, 6, 0,\n",
      "        5, 1, 7, 2, 3, 6, 8, 9]), tensor([8, 7, 1, 2, 3, 2, 9, 7, 5, 6, 0, 0, 7, 3, 2, 4, 9, 3, 6, 4, 4, 3, 0, 0,\n",
      "        6, 3, 6, 1, 3, 5, 2, 5]), tensor([3, 9, 3, 1, 8, 2, 9, 5, 0, 5, 4, 6, 7, 1, 1, 5, 3, 8, 7, 8, 3, 8, 9, 2,\n",
      "        2, 3, 1, 3, 5, 6, 7, 3]), tensor([9, 9, 2, 4, 7, 0, 1, 3, 9, 6, 3, 7, 2, 8, 1, 8, 0, 7, 9, 8, 5, 3, 2, 6,\n",
      "        4, 6, 6, 5, 8, 3, 8, 5]), tensor([8, 7, 3, 7, 6, 7, 0, 2, 2, 5, 3, 5, 1, 1, 7, 7, 6, 6, 6, 4, 2, 8, 6, 3,\n",
      "        1, 4, 9, 9, 4, 8, 2, 2]), tensor([7, 8, 6, 7, 9, 1, 2, 9, 4, 5, 3, 6, 3, 3, 1, 8, 8, 5, 3, 8, 6, 6, 6, 0,\n",
      "        2, 0, 2, 5, 3, 2, 8, 3]), tensor([9, 7, 3, 1, 7, 5, 8, 8, 2, 3, 0, 4, 4, 6, 5, 7, 0, 6, 2, 7, 7, 3, 9, 4,\n",
      "        5, 9, 7, 3, 7, 2, 4, 5]), tensor([1, 4, 5, 4, 5, 0, 2, 2, 1, 4, 4, 8, 4, 7, 9, 4, 3, 1, 7, 2, 3, 8, 6, 3,\n",
      "        9, 7, 8, 3, 8, 8, 8, 7]), tensor([1, 1, 6, 3, 1, 6, 3, 4, 9, 5, 6, 0, 6, 9, 4, 9, 6, 6, 3, 8, 9, 2, 5, 4,\n",
      "        8, 6, 7, 2, 3, 6, 2, 5]), tensor([6, 1, 9, 6, 2, 2, 5, 9, 0, 8, 3, 2, 6, 6, 0, 4, 2, 2, 6, 5, 0, 2, 7, 8,\n",
      "        7, 4, 6, 6, 0, 5, 2, 4]), tensor([2, 9, 5, 2, 6, 7, 0, 1, 9, 5, 5, 0, 7, 7, 5, 0, 5, 6, 3, 4, 7, 9, 8, 2,\n",
      "        4, 7, 3, 3, 7, 7, 7, 8]), tensor([4, 9, 8, 7, 6, 8, 7, 5, 1, 3, 0, 2, 9, 9, 8, 3, 7, 0, 2, 4, 9, 3, 3, 1,\n",
      "        8, 8, 1, 8, 7, 2, 8, 6]), tensor([5, 7, 6, 7, 5, 5, 4, 0, 7, 3, 3, 2, 6, 2, 9, 9, 0, 6, 6, 8, 3, 8, 0, 4,\n",
      "        4, 1, 8, 2, 6, 5, 0, 4]), tensor([4, 3, 0, 0, 1, 6, 8, 4, 9, 0, 7, 6, 7, 7, 1, 5, 8, 7, 2, 9, 9, 4, 2, 6,\n",
      "        1, 1, 1, 8, 8, 1, 3, 7]), tensor([5, 2, 0, 8, 4, 8, 9, 4, 1, 3, 1, 9, 8, 1, 3, 3, 8, 6, 9, 9, 7, 6, 0, 4,\n",
      "        4, 3, 1, 7, 9, 4, 2, 0]), tensor([3, 4, 4, 8, 3, 9, 2, 4, 2, 2, 3, 8, 7, 1, 8, 9, 5, 9, 9, 6, 6, 4, 9, 0,\n",
      "        4, 3, 5, 5, 3, 6, 1, 0]), tensor([3, 7, 7, 3, 7, 4, 5, 7, 9, 8, 9, 1, 4, 8, 3, 2, 6, 6, 0, 8, 3, 8, 6, 8,\n",
      "        6, 0, 8, 8, 4, 2, 9, 3]), tensor([2, 0, 8, 5, 9, 6, 3, 1, 1, 9, 5, 1, 3, 3, 6, 0, 8, 4, 1, 3, 8, 8, 6, 7,\n",
      "        5, 6, 6, 7, 3, 3, 2, 4]), tensor([6, 5, 5, 6, 2, 3, 9, 1, 1, 7, 3, 8, 7, 2, 2, 9, 3, 9, 9, 0, 1, 7, 1, 4,\n",
      "        8, 1, 2, 9, 3, 4, 0, 0]), tensor([7, 6, 9, 9, 5, 5, 7, 0, 9, 3, 3, 6, 9, 8, 4, 2, 6, 3, 9, 2, 3, 6, 7, 4,\n",
      "        0, 3, 8, 1, 8, 7, 4, 4]), tensor([5, 2, 2, 9, 1, 9, 4, 9, 3, 3, 2, 8, 8, 7, 7, 7, 7, 2, 6, 0, 7, 5, 8, 5,\n",
      "        3, 0, 4, 4, 9, 2, 3, 3]), tensor([3, 9, 3, 8, 2, 2, 2, 3, 8, 8, 7, 6, 4, 4, 1, 2, 8, 5, 4, 8, 8, 1, 5, 9,\n",
      "        3, 6, 6, 4, 0, 1, 8, 7]), tensor([4, 6, 7, 7, 6, 6, 4, 3, 4, 7, 8, 7, 2, 8, 0, 8, 7, 4, 4, 6, 7, 0, 9, 9,\n",
      "        3, 1, 5, 9, 3, 1, 0, 3]), tensor([3, 5, 9, 7, 9, 8, 3, 8, 9, 3, 7, 9, 3, 6, 0, 0, 5, 7, 7, 2, 6, 8, 3, 1,\n",
      "        1, 9, 4, 3, 9, 5, 8, 7]), tensor([2, 4, 9, 0, 2, 1, 9, 7, 1, 5, 0, 5, 5, 0, 3, 0, 6, 3, 3, 7, 4, 2, 6, 8,\n",
      "        5, 9, 2, 1, 3, 5, 5, 8]), tensor([5, 3, 7, 4, 4, 6, 9, 6, 0, 6, 9, 1, 4, 3, 1, 5, 3, 8, 5, 1, 1, 2, 9, 4,\n",
      "        0, 5, 6, 8, 6, 2, 9, 8]), tensor([2, 4, 8, 3, 8, 0, 4, 2, 6, 4, 8, 5, 4, 9, 6, 9, 5, 8, 0, 9, 1, 2, 7, 2,\n",
      "        1, 2, 6, 6, 2, 5, 2, 4]), tensor([8, 7, 5, 2, 6, 6, 8, 3, 6, 1, 9, 6, 7, 7, 2, 6, 2, 8, 3, 4, 8, 5, 6, 8,\n",
      "        3, 3, 1, 4, 4, 0, 4, 9]), tensor([6, 4, 1, 9, 9, 8, 1, 4, 8, 3, 3, 3, 8, 5, 9, 2, 2, 8, 7, 6, 3, 6, 6, 4,\n",
      "        5, 7, 5, 0, 7, 9, 1, 2]), tensor([4, 8, 9, 3, 5, 2, 0, 2, 6, 7, 8, 9, 1, 8, 2, 5, 5, 3, 1, 1, 8, 8, 3, 6,\n",
      "        7, 0, 1, 8, 2, 6, 2, 9]), tensor([8, 9, 8, 8, 6, 9, 1, 8, 2, 2, 7, 7, 6, 5, 1, 1, 0, 6, 2, 3, 0, 2, 3, 5,\n",
      "        1, 2, 3, 3, 4, 2, 5, 6]), tensor([9, 8, 3, 3, 1, 0, 2, 1, 2, 4, 6, 2, 4, 7, 2, 6, 7, 5, 2, 6, 6, 7, 0, 3,\n",
      "        9, 7, 3, 6, 1, 9, 2, 1]), tensor([3, 4, 5, 4, 1, 4, 8, 5, 9, 4, 5, 3, 3, 8, 3, 6, 6, 8, 9, 0, 7, 3, 2, 6,\n",
      "        7, 3, 2, 2, 8, 7, 7, 2]), tensor([3, 1, 6, 3, 6, 2, 7, 4, 1, 2, 6, 4, 4, 2, 8, 5, 6, 8, 5, 6, 7, 8, 1, 5,\n",
      "        9, 8, 6, 9, 0, 9, 3, 7]), tensor([5, 7, 9, 6, 0, 7, 1, 5, 5, 9, 5, 4, 4, 2, 4, 5, 9, 7, 4, 2, 6, 9, 9, 3,\n",
      "        2, 3, 3, 7, 1, 8, 7, 7]), tensor([1, 8, 9, 3, 7, 7, 7, 1, 7, 4, 6, 2, 2, 4, 5, 2, 8, 9, 6, 8, 6, 0, 7, 7,\n",
      "        5, 0, 1, 9, 3, 6, 4, 9]), tensor([2, 2, 6, 9, 1, 0, 5, 8, 9, 2, 8, 2, 3, 6, 0, 7, 4, 8, 7, 4, 1, 7, 8, 0,\n",
      "        4, 0, 4, 4, 1, 8, 6, 9]), tensor([2, 9, 4, 5, 2, 3, 3, 8, 8, 2, 0, 7, 2, 4, 0, 3, 1, 3, 8, 1, 7, 7, 2, 6,\n",
      "        3, 1, 2, 7, 2, 6, 0, 3]), tensor([4, 7, 2, 6, 3, 2, 3, 0, 9, 7, 3, 5, 4, 9, 2, 4, 5, 0, 6, 8, 4, 0, 4, 4,\n",
      "        6, 6, 1, 6, 4, 2, 7, 1]), tensor([0, 6, 4, 1, 1, 5, 6, 3, 8, 3, 4, 1, 7, 4, 9, 8, 8, 4, 5, 5, 6, 7, 2, 9,\n",
      "        1, 0, 5, 3, 7, 2, 1, 1]), tensor([8, 6, 2, 0, 5, 9, 6, 3, 8, 1, 6, 4, 6, 6, 2, 8, 3, 4, 2, 1, 9, 2, 7, 9,\n",
      "        5, 7, 6, 1, 5, 8, 8, 2]), tensor([2, 4, 6, 3, 1, 2, 4, 0, 3, 9, 8, 4, 0, 3, 4, 3, 9, 7, 1, 1, 7, 5, 1, 9,\n",
      "        2, 4, 2, 3, 8, 6, 7, 1]), tensor([3, 0, 7, 3, 5, 8, 1, 4, 2, 3, 4, 6, 8, 8, 4, 6, 1, 8, 9, 3, 0, 6, 6, 2,\n",
      "        9, 7, 3, 7, 0, 1, 4, 5]), tensor([9, 4, 0, 5, 0, 5, 8, 7, 4, 6, 2, 8, 6, 4, 9, 4, 0, 5, 8, 1, 1, 2, 6, 6,\n",
      "        4, 7, 6, 2, 3, 3, 9, 7]), tensor([4, 3, 3, 1, 8, 1, 5, 4, 0, 6, 7, 9, 3, 2, 7, 1, 7, 4, 1, 6, 2, 8, 6, 7,\n",
      "        6, 4, 9, 3, 2, 5, 0, 8]), tensor([6, 2, 6, 7, 4, 2, 1, 1, 0, 3, 5, 5, 2, 6, 4, 1, 8, 8, 4, 4, 3, 4, 2, 9,\n",
      "        6, 3, 9, 6, 2, 6, 8, 4]), tensor([5, 4, 9, 8, 1, 6, 3, 2, 2, 9, 4, 3, 5, 1, 4, 6, 0, 1, 1, 0, 2, 6, 9, 7,\n",
      "        0, 3, 2, 4, 3, 7, 2, 1]), tensor([1, 7, 7, 8, 7, 6, 5, 3, 7, 2, 0, 9, 6, 1, 6, 2, 2, 5, 8, 5, 2, 7, 8, 4,\n",
      "        6, 9, 0, 8, 1, 3, 8, 2]), tensor([8, 2, 0, 2, 3, 8, 7, 8, 2, 2, 6, 6, 0, 4, 5, 3, 4, 3, 1, 9, 7, 3, 6, 6,\n",
      "        1, 4, 2, 7, 7, 1, 8, 3]), tensor([0, 7, 9, 8, 7, 2, 7, 9, 7, 2, 2, 6, 6, 3, 3, 9, 1, 1, 4, 8, 0, 9, 7, 5,\n",
      "        4, 8, 8, 3, 6, 3, 2, 8]), tensor([2, 2, 9, 9, 2, 4, 8, 4, 2, 8, 3, 0, 2, 1, 3, 6, 1, 8, 4, 1, 5, 4, 1, 5,\n",
      "        8, 0, 7, 7, 7, 5, 6, 9]), tensor([5, 3, 6, 9, 8, 4, 5, 1, 6, 2, 2, 4, 3, 7, 7, 9, 9, 2, 5, 8, 5, 8, 5, 3,\n",
      "        0, 9, 7, 2, 0, 6, 8, 2]), tensor([0, 7, 3, 7, 6, 8, 4, 7, 0, 0, 4, 0, 2, 7, 8, 1, 3, 8, 1, 5, 3, 6, 1, 1,\n",
      "        6, 6, 9, 8, 2, 8, 2, 7]), tensor([7, 1, 3, 6, 3, 0, 7, 8, 7, 6, 5, 2, 6, 7, 5, 5, 8, 9, 7, 3, 2, 4, 8, 3,\n",
      "        9, 5, 7, 6, 2, 2, 7, 3]), tensor([8, 5, 1, 8, 9, 2, 2, 1, 2, 2, 7, 4, 0, 4, 4, 2, 9, 7, 9, 2, 2, 8, 2, 6,\n",
      "        0, 6, 3, 3, 1, 5, 2, 7]), tensor([5, 3, 7, 6, 2, 3, 5, 1, 1, 2, 7, 3, 8, 8, 7, 5, 6, 9, 5, 5, 4, 0, 7, 1,\n",
      "        6, 6, 0, 9, 7, 6, 6, 8]), tensor([6, 5, 7, 8, 2, 2, 9, 6, 6, 6, 8, 1, 2, 4, 8, 0, 7, 5, 9, 9, 9, 7, 5, 2,\n",
      "        7, 6, 2, 2, 6, 3, 4, 2]), tensor([0, 8, 9, 4, 5, 4, 3, 1, 2, 8, 9, 0, 5, 3, 2, 8, 6, 3, 8, 6, 8, 7, 2, 7,\n",
      "        2, 3, 2, 5, 1, 2, 3, 4]), tensor([2, 4, 3, 9, 9, 2, 8, 0, 4, 0, 6, 1, 9, 3, 9, 6, 8, 6, 9, 4, 7, 9, 1, 5,\n",
      "        8, 1, 2, 6, 2, 6, 8, 3]), tensor([3, 3, 0, 0, 4, 3, 3, 1, 4, 8, 4, 9, 3, 0, 2, 5, 2, 8, 8, 6, 1, 2, 8, 9,\n",
      "        8, 5, 8, 9, 0, 7, 2, 7]), tensor([3, 8, 5, 8, 3, 2, 8, 5, 9, 9, 2, 0, 6, 7, 1, 8, 8, 8, 7, 2, 0, 9, 7, 9,\n",
      "        6, 9, 4, 1, 4, 7, 2, 5]), tensor([2, 6, 2, 9, 0, 7, 1, 9, 7, 2, 5, 3, 8, 4, 9, 3, 9, 5, 7, 5, 1, 3, 3, 6,\n",
      "        0, 7, 5, 3, 5, 5, 8, 7]), tensor([9, 4, 6, 5, 5, 3, 4, 8, 3, 0, 9, 2, 3, 2, 2, 9, 6, 6, 9, 1, 3, 8, 1, 4,\n",
      "        9, 8, 2, 6, 7, 2, 0, 2]), tensor([2, 3, 2, 3, 0, 5, 2, 3, 2, 2, 6, 0, 7, 4, 6, 2, 8, 3, 5, 1, 3, 9, 1, 2,\n",
      "        9, 3, 7, 4, 6, 0, 2, 9]), tensor([6, 3, 6, 6, 5, 1, 7, 9, 4, 6, 7, 3, 0, 2, 8, 3, 0, 9, 9, 7, 6, 4, 6, 9,\n",
      "        7, 7, 5, 6, 6, 7, 5, 3]), tensor([5, 5, 3, 8, 9, 7, 2, 1, 4, 7, 1, 3, 6, 3, 2, 2, 9, 4, 7, 7, 6, 5, 0, 8,\n",
      "        8, 2, 2, 5, 6, 0, 7, 3]), tensor([6, 6, 4, 5, 2, 0, 7, 7, 7, 1, 8, 2, 4, 8, 5, 4, 4, 8, 7, 7, 6, 7, 1, 6,\n",
      "        9, 5, 3, 9, 3, 5, 0, 7]), tensor([4, 2, 6, 1, 2, 5, 9, 3, 2, 8, 5, 7, 3, 1, 4, 6, 8, 1, 8, 5, 6, 9, 3, 3,\n",
      "        6, 6, 4, 2, 0, 6, 4, 2]), tensor([3, 2, 5, 9, 1, 1, 9, 4, 7, 0, 3, 1, 6, 0, 7, 7, 0, 7, 8, 0, 5, 6, 4, 3,\n",
      "        2, 9, 7, 2, 9, 5, 3, 7]), tensor([2, 4, 1, 9, 7, 8, 1, 0, 9, 3, 6, 7, 8, 6, 5, 6, 7, 9, 9, 7, 0, 4, 2, 3,\n",
      "        4, 0, 7, 5, 3, 9, 2, 8]), tensor([8, 6, 0, 4, 1, 9, 3, 3, 5, 3, 7, 5, 9, 2, 8, 5, 5, 9, 8, 6, 0, 7, 3, 5,\n",
      "        6, 2, 0, 7, 6, 8, 1, 9]), tensor([2, 6, 2, 4, 6, 8, 7, 7, 3, 9, 3, 9, 6, 6, 2, 6, 9, 0, 3, 2, 5, 5, 6, 2,\n",
      "        6, 4, 1, 3, 1, 2, 7, 8]), tensor([8, 9, 7, 6, 5, 7, 3, 6, 0, 4, 2, 3, 6, 8, 8, 8, 0, 2, 3, 4, 8, 2, 1, 4,\n",
      "        1, 1, 6, 3, 2, 2, 8, 0]), tensor([0, 4, 1, 3, 2, 5, 0, 6, 7, 9, 9, 2, 5, 2, 9, 9, 8, 4, 8, 3, 2, 0, 9, 6,\n",
      "        2, 4, 3, 8, 2, 3, 6, 7]), tensor([6, 6, 7, 3, 7, 8, 8, 2, 4, 8, 8, 6, 1, 5, 8, 9, 8, 7, 6, 0, 3, 0, 3, 0,\n",
      "        7, 3, 9, 9, 1, 5, 9, 4]), tensor([1, 7, 6, 1, 0, 5, 3, 8, 2, 4, 1, 7, 0, 5, 0, 4, 1, 7, 1, 7, 9, 6, 3, 9,\n",
      "        2, 2, 9, 3, 5, 8, 8, 4]), tensor([4, 7, 7, 4, 6, 0, 5, 5, 3, 6, 2, 7, 6, 8, 5, 6, 9, 1, 3, 1, 4, 5, 9, 3,\n",
      "        7, 0, 3, 5, 6, 1, 5, 8]), tensor([5, 4, 6, 9, 1, 9, 1, 7, 3, 2, 0, 3, 4, 0, 2, 0, 3, 3, 2, 8, 0, 3, 4, 8,\n",
      "        1, 1, 3, 3, 2, 2, 1, 8]), tensor([0, 2, 6, 2, 4, 2, 3, 9, 2, 3, 0, 4, 5, 7, 1, 6, 1, 2, 0, 2, 8, 5, 1, 6,\n",
      "        5, 2, 8, 1, 7, 1, 6, 4]), tensor([7, 4, 6, 1, 5, 6, 3, 5, 8, 7, 7, 7, 2, 7, 5, 6, 4, 2, 6, 6, 6, 9, 9, 5,\n",
      "        8, 0, 4, 4, 1, 3, 7, 3]), tensor([6, 0, 9, 8, 5, 3, 6, 7, 1, 9, 7, 8, 2, 6, 9, 9, 1, 2, 2, 6, 2, 4, 5, 1,\n",
      "        6, 4, 8, 3, 4, 8, 3, 4]), tensor([0, 0, 3, 6, 7, 4, 4, 1, 7, 3, 6, 7, 9, 9, 1, 8, 8, 9, 1, 4, 6, 1, 2, 8,\n",
      "        2, 5, 9, 8, 0, 6, 2, 7]), tensor([2, 9, 1, 6, 8, 7, 8, 1, 4, 9, 2, 5, 5, 9, 9, 4, 4, 2, 1, 0, 3, 8, 7, 6,\n",
      "        1, 7, 5, 2, 7, 0, 3, 4]), tensor([4, 8, 4, 6, 2, 7, 3, 7, 3, 6, 3, 8, 3, 3, 2, 3, 2, 5, 5, 8, 0, 7, 0, 8,\n",
      "        9, 0, 2, 1, 2, 5, 1, 3]), tensor([4, 7, 6, 4, 9, 9, 1, 4, 3, 1, 6, 8, 0, 3, 3, 6, 2, 0, 4, 3, 0, 7, 2, 3,\n",
      "        4, 0, 8, 5, 4, 0, 1, 0]), tensor([2, 2, 6, 7, 9, 6, 2, 4, 3, 6, 8, 5, 4, 4, 0, 3, 3, 5, 2, 5, 1, 5, 5, 1,\n",
      "        7, 5, 2, 1, 8, 8, 0, 9]), tensor([0, 6, 0, 3, 2, 1, 8, 3, 4, 2, 1, 2, 0, 3, 0, 8, 5, 1, 5, 0, 2, 6, 3, 9,\n",
      "        8, 2, 8, 1, 0, 2, 6, 2]), tensor([2, 3, 7, 5, 0, 6, 2, 0, 8, 4, 4, 1, 3, 4, 8, 2, 9, 2, 6, 8, 5, 2, 7, 3,\n",
      "        2, 4, 6, 6, 4, 8, 5, 4]), tensor([1, 5, 2, 8, 2, 9, 3, 6, 3, 6, 4, 2, 7, 7, 9, 6, 2, 9, 8, 3, 5, 8, 7, 7,\n",
      "        0, 7, 7, 0, 7, 7, 4, 9]), tensor([5, 4, 2, 2, 4, 8, 0, 1, 9, 8, 6, 2, 6, 2, 3, 8, 0, 7, 6, 4, 3, 8, 1, 3,\n",
      "        8, 7, 3, 0, 3, 4, 8, 8]), tensor([9, 1, 3, 2, 1, 4, 8, 3, 4, 6, 7, 3, 9, 4, 9, 0, 6, 6, 5, 7, 0, 8, 3, 7,\n",
      "        5, 4, 9, 5, 7, 3, 2, 0]), tensor([9, 8, 7, 3, 7, 7, 4, 7, 8, 8, 8, 2, 4, 6, 2, 3, 8, 9, 7, 1, 3, 4, 2, 9,\n",
      "        7, 1, 2, 2, 6, 0, 5, 5]), tensor([4, 5, 2, 0, 9, 4, 9, 9, 0, 4, 0, 1, 5, 7, 0, 6, 8, 1, 5, 7, 7, 7, 9, 0,\n",
      "        0, 1, 1, 4, 6, 0, 9, 3]), tensor([6, 4, 4, 8, 2, 5, 4, 9, 0, 2, 8, 4, 8, 6, 3, 6, 1, 4, 3, 3, 8, 2, 9, 9,\n",
      "        0, 7, 9, 5, 3, 1, 7, 2]), tensor([8, 4, 7, 2, 1, 6, 0, 7, 2, 1, 7, 3, 2, 8, 3, 8, 4, 2, 5, 6, 7, 6, 1, 2,\n",
      "        0, 7, 9, 0, 1, 3, 7, 5]), tensor([1, 2, 1, 1, 3, 8, 3, 9, 5, 4, 6, 3, 7, 7, 7, 2, 3, 9, 3, 9, 2, 6, 0, 5,\n",
      "        6, 2, 7, 5, 0, 3, 2, 9]), tensor([6, 4, 0, 2, 7, 9, 6, 1, 3, 2, 0, 8, 8, 7, 3, 2, 7, 5, 7, 6, 1, 8, 1, 4,\n",
      "        9, 8, 9, 3, 3, 0, 3, 3]), tensor([3, 0, 6, 4, 1, 9, 7, 1, 2, 2, 5, 3, 4, 1, 7, 6, 7, 0, 2, 8, 8, 1, 4, 9,\n",
      "        7, 6, 3, 4, 9, 3, 9, 8]), tensor([5, 3, 8, 4, 7, 1, 4, 1, 9, 6, 8, 3, 2, 4, 8, 1, 1, 5, 8, 6, 1, 6, 2, 9,\n",
      "        0, 9, 5, 3, 9, 6, 6, 5]), tensor([6, 8, 3, 8, 0, 6, 9, 9, 1, 5, 3, 2, 6, 5, 3, 6, 3, 6, 7, 4, 0, 4, 1, 9,\n",
      "        5, 1, 7, 5, 5, 5, 9, 6]), tensor([8, 2, 2, 6, 4, 6, 2, 1, 1, 4, 2, 8, 4, 9, 0, 5, 2, 1, 3, 2, 3, 2, 4, 8,\n",
      "        3, 2, 9, 3, 2, 9, 7, 2]), tensor([2, 2, 6, 8, 9, 6, 6, 4, 7, 7, 9, 7, 3, 6, 7, 2, 7, 3, 0, 2, 0, 9, 4, 3,\n",
      "        3, 1, 9, 5, 8, 2, 3, 5]), tensor([0, 6, 2, 5, 2, 3, 5, 2, 7, 7, 6, 0, 9, 5, 1, 4, 4, 5, 3, 0, 2, 1, 2, 0,\n",
      "        5, 4, 8, 5, 7, 3, 0, 8]), tensor([3, 5, 2, 2, 9, 8, 9, 9, 8, 1, 7, 5, 0, 1, 5, 3, 3, 3, 3, 4, 2, 3, 6, 7,\n",
      "        8, 0, 9, 3, 3, 0, 4, 2]), tensor([7, 3, 5, 7, 3, 7, 8, 6, 6, 2, 2, 3, 1, 0, 7, 5, 6, 6, 4, 1, 1, 2, 7, 2,\n",
      "        3, 5, 9, 0, 4, 4, 3, 8]), tensor([9, 9, 2, 6, 9, 6, 3, 5, 3, 1, 4, 5, 0, 1, 8, 5, 8, 4, 6, 7, 8, 9, 2, 4,\n",
      "        6, 4, 2, 2, 4, 7, 9, 1]), tensor([9, 7, 4, 5, 6, 3, 2, 2, 5, 6, 1, 5, 8, 6, 4, 2, 9, 4, 7, 8, 3, 0, 2, 7,\n",
      "        7, 5, 9, 5, 7, 3, 8, 7]), tensor([5, 9, 7, 8, 2, 1, 0, 8, 6, 2, 6, 7, 9, 2, 4, 5, 2, 3, 4, 1, 1, 7, 0, 5,\n",
      "        5, 4, 7, 8, 9, 6, 5, 4]), tensor([6, 6, 5, 5, 8, 4, 8, 2, 7, 4, 9, 4, 9, 6, 9, 7, 3, 9, 7, 3, 2, 4, 2, 2,\n",
      "        7, 9, 2, 6, 1, 4, 1, 0]), tensor([3, 8, 6, 8, 6, 4, 2, 3, 5, 7, 7, 8, 5, 6, 3, 2, 1, 8, 3, 2, 7, 4, 2, 3,\n",
      "        0, 8, 3, 3, 4, 9, 0, 9]), tensor([7, 0, 1, 6, 3, 6, 3, 8, 6, 4, 5, 1, 3, 4, 1, 9, 3, 6, 0, 4, 2, 3, 1, 5,\n",
      "        3, 2, 8, 5, 7, 6, 6, 1]), tensor([1, 0, 6, 2, 5, 9, 6, 7, 2, 3, 6, 4, 6, 3, 3, 9, 4, 7, 0, 8, 6, 5, 6, 2,\n",
      "        0, 1, 3, 9, 4, 2, 5, 6]), tensor([8, 3, 2, 5, 6, 0, 6, 0, 6, 9, 1, 3, 3, 2, 5, 8, 6, 6, 1, 4, 9, 7, 2, 4,\n",
      "        7, 8, 7, 1, 2, 8, 7, 9]), tensor([7, 7, 0, 2, 9, 2, 1, 6, 7, 6, 1, 5, 2, 7, 4, 1, 4, 5, 9, 6, 5, 7, 7, 3,\n",
      "        8, 1, 9, 6, 5, 3, 0, 7]), tensor([6, 9, 5, 1, 3, 6, 9, 3, 4, 4, 5, 3, 4, 9, 9, 1, 2, 2, 2, 4, 6, 8, 7, 9,\n",
      "        9, 4, 8, 8, 9, 0, 7, 6]), tensor([4, 3, 8, 6, 4, 2, 0, 1, 4, 0, 2, 1, 5, 4, 6, 6, 0, 3, 4, 5, 6, 8, 7, 6,\n",
      "        0, 3, 1, 8, 6, 8, 9, 9]), tensor([5, 5, 8, 2, 5, 4, 4, 2, 5, 6, 9, 2, 7, 1, 0, 2, 4, 6, 7, 8, 3, 2, 9, 1,\n",
      "        9, 4, 7, 3, 5, 4, 3, 4]), tensor([2, 1, 0, 2, 4, 3, 7, 8, 4, 9, 5, 9, 0, 2, 3, 4, 5, 5, 5, 7, 6, 1, 3, 3,\n",
      "        7, 0, 9, 7, 6, 8, 3, 5]), tensor([5, 8, 1, 9, 4, 2, 2, 2, 3, 6, 3, 1, 2, 5, 3, 6, 1, 1, 7, 5, 2, 5, 9, 0,\n",
      "        8, 3, 6, 4, 2, 7, 0, 7]), tensor([3, 3, 2, 3, 7, 1, 2, 2, 3, 3, 0, 6, 6, 4, 8, 5, 0, 3, 0, 4, 7, 3, 3, 6,\n",
      "        0, 2, 4, 4, 1, 8, 1, 9]), tensor([3, 2, 6, 4, 6, 2, 3, 3, 5, 3, 5, 8, 3, 9, 7, 3, 0, 6, 1, 6, 1, 6, 7, 7,\n",
      "        2, 8, 9, 6, 1, 5, 6, 9]), tensor([4, 7, 9, 9, 9, 0, 1, 0, 9, 9, 5, 1, 7, 2, 9, 3, 0, 6, 8, 1, 7, 4, 3, 8,\n",
      "        4, 7, 0, 8, 9, 6, 4, 4]), tensor([5, 6, 4, 5, 9, 6, 0, 5, 3, 1, 7, 4, 6, 7, 1, 1, 8, 3, 7, 2, 7, 1, 8, 8,\n",
      "        8, 7, 8, 6, 0, 5, 7, 9]), tensor([8, 5, 6, 0, 6, 2, 2, 2, 3, 9, 9, 1, 9, 5, 8, 4, 4, 2, 4, 2, 7, 2, 8, 3,\n",
      "        0, 7, 8, 8, 3, 9, 9, 5]), tensor([9, 2, 6, 9, 7, 0, 7, 4, 7, 9, 2, 3, 9, 8, 3, 7, 3, 1, 4, 9, 1, 2, 8, 5,\n",
      "        1, 7, 9, 0, 3, 3, 0, 9]), tensor([3, 4, 3, 0, 0, 6, 9, 7, 3, 9, 8, 5, 6, 8, 5, 8, 5, 6, 4, 6, 5, 4, 2, 5,\n",
      "        4, 2, 7, 1, 6, 6, 4, 6]), tensor([5, 6, 4, 6, 7, 5, 5, 1, 5, 2, 3, 4, 2, 4, 1, 9, 0, 7, 2, 7, 3, 2, 9, 7,\n",
      "        4, 6, 6, 3, 7, 1, 4, 7]), tensor([6, 1, 7, 3, 0, 3, 8, 6, 8, 0, 4, 1, 7, 9, 6, 2, 9, 2, 6, 7, 1, 7, 5, 2,\n",
      "        9, 8, 6, 4, 0, 3, 3, 2]), tensor([2, 8, 3, 6, 8, 1, 8, 1, 0, 1, 4, 7, 3, 7, 7, 3, 3, 9, 9, 6, 6, 2, 5, 8,\n",
      "        9, 3, 3, 5, 4, 1, 6, 9]), tensor([4, 3, 2, 6, 1, 8, 1, 3, 4, 0, 2, 1, 9, 0, 5, 3, 5, 3, 6, 4, 1, 2, 0, 7,\n",
      "        3, 6, 2, 3, 4, 4, 5, 2]), tensor([9, 6, 8, 0, 6, 6, 6, 1, 7, 8, 2, 3, 3, 2, 0, 3, 8, 2, 6, 2, 5, 1, 4, 2,\n",
      "        2, 1, 7, 3, 4, 6, 9, 7]), tensor([8, 0, 6, 3, 4, 0, 8, 1, 2, 3, 3, 1, 9, 5, 3, 2, 6, 9, 1, 9, 2, 9, 0, 4,\n",
      "        2, 4, 8, 6, 9, 4, 7, 0]), tensor([3, 1, 3, 8, 3, 4, 1, 2, 6, 3, 2, 7, 7, 8, 3, 2, 9, 5, 6, 6, 9, 5, 2, 3,\n",
      "        8, 5, 3, 8, 3, 7, 9, 0]), tensor([2, 5, 1, 0, 5, 6, 3, 5, 7, 9, 6, 6, 7, 1, 2, 0, 8, 6, 4, 2, 7, 8, 3, 6,\n",
      "        4, 6, 9, 7, 3, 4, 5, 4]), tensor([5, 1, 9, 5, 0, 5, 8, 4, 1, 7, 9, 3, 3, 3, 4, 9, 1, 3, 3, 9, 5, 6, 8, 2,\n",
      "        4, 1, 4, 0, 6, 7, 8, 6]), tensor([6, 0, 2, 0, 0, 9, 8, 1, 3, 7, 3, 9, 9, 5, 4, 2, 3, 6, 8, 8, 5, 5, 1, 8,\n",
      "        8, 5, 7, 9, 9, 3, 4, 2]), tensor([2, 7, 9, 4, 6, 7, 5, 4, 7, 6, 1, 4, 2, 2, 0, 9, 6, 6, 5, 1, 1, 7, 8, 3,\n",
      "        2, 6, 2, 0, 6, 4, 5, 5]), tensor([2, 4, 6, 4, 6, 1, 5, 4, 7, 8, 6, 7, 7, 0, 8, 2, 6, 6, 9, 1, 2, 1, 7, 4,\n",
      "        3, 4, 9, 9, 2, 4, 4, 3]), tensor([3, 5, 7, 5, 2, 7, 8, 9, 9, 2, 7, 6, 7, 7, 5, 8, 7, 4, 6, 9, 0, 1, 8, 7,\n",
      "        5, 4, 5, 3, 7, 4, 6, 5]), tensor([5, 6, 7, 9, 0, 9, 5, 9, 4, 4, 1, 7, 8, 3, 5, 1, 0, 6, 5, 0, 2, 3, 7, 1,\n",
      "        1, 1, 0, 7, 7, 6, 0, 4]), tensor([7, 0, 0, 5, 1, 4, 8, 1, 5, 2, 7, 3, 2, 3, 4, 7, 8, 0, 7, 6, 9, 5, 8, 6,\n",
      "        7, 3, 5, 0, 9, 7, 1, 0]), tensor([6, 5, 7, 8, 4, 3, 1, 9, 0, 2, 9, 1, 3, 4, 2, 3, 3, 6, 2, 4, 8, 6, 2, 9,\n",
      "        5, 6, 1, 8, 2, 4, 3, 6]), tensor([2, 9, 4, 3, 7, 9, 6, 3, 5, 4, 5, 9, 8, 5, 3, 0, 1, 2, 4, 4, 1, 9, 6, 4,\n",
      "        6, 5, 5, 4, 6, 2, 6, 1]), tensor([4, 9, 9, 7, 6, 1, 2, 6, 0, 2, 6, 2, 5, 9, 4, 8, 4, 6, 1, 5, 6, 4, 1, 8,\n",
      "        9, 3, 1, 7, 1, 3, 3, 9]), tensor([1, 4, 8, 9, 9, 1, 9, 6, 0, 7, 8, 5, 5, 5, 3, 8, 9, 4, 7, 6, 4, 9, 2, 6,\n",
      "        1, 5, 0, 7, 3, 4, 0, 7]), tensor([1, 1, 8, 2, 8, 7, 2, 0, 7, 2, 0, 6, 5, 1, 6, 8, 2, 3, 7, 2, 3, 9, 7, 6,\n",
      "        1, 3, 9, 2, 4, 0, 3, 7]), tensor([8, 1, 1, 9, 5, 3, 8, 4, 6, 6, 1, 8, 2, 3, 6, 2, 8, 9, 9, 4, 3, 4, 1, 7,\n",
      "        9, 0, 8, 7, 3, 3, 8, 4]), tensor([1, 8, 2, 7, 6, 4, 8, 9, 2, 5, 3, 2, 6, 1, 1, 0, 4, 1, 6, 7, 6, 5, 9, 1,\n",
      "        5, 0, 9, 4, 2, 1, 7, 2]), tensor([9, 8, 8, 9, 5, 5, 3, 8, 2, 0, 3, 6, 1, 1, 9, 6, 9, 7, 5, 3, 2, 9, 5, 5,\n",
      "        4, 2, 9, 9, 3, 0, 6, 4]), tensor([1, 7, 4, 7, 2, 8, 5, 8, 6, 0, 1, 3, 2, 2, 3, 6, 6, 0, 2, 8, 3, 2, 8, 6,\n",
      "        1, 8, 4, 5, 4, 2, 3, 9]), tensor([6, 4, 3, 4, 5, 4, 2, 7, 3, 7, 3, 3, 6, 9, 4, 8, 5, 6, 0, 3, 6, 7, 2, 0,\n",
      "        3, 3, 1, 9, 7, 5, 4, 2]), tensor([1, 6, 4, 8, 9, 2, 5, 8, 8, 3, 0, 9, 2, 4, 6, 3, 8, 4, 7, 2, 8, 6, 4, 2,\n",
      "        8, 4, 1, 3, 7, 2, 4, 2]), tensor([2, 3, 2, 3, 0, 8, 4, 5, 4, 4, 3, 8, 4, 4, 4, 1, 4, 9, 6, 7, 9, 6, 8, 0,\n",
      "        3, 4, 3, 4, 4, 7, 5, 4]), tensor([1, 1, 2, 6, 7, 8, 0, 1, 0, 5, 2, 8, 9, 7, 9, 1, 1, 3, 3, 8, 2, 7, 2, 9,\n",
      "        4, 9, 3, 6, 6, 2, 8, 7]), tensor([2, 5, 9, 8, 3, 8, 1, 3, 3, 4, 5, 2, 5, 2, 4, 9, 2, 7, 1, 4, 2, 3, 7, 7,\n",
      "        6, 7, 9, 4, 7, 7, 0, 1]), tensor([2, 1, 2, 8, 2, 2, 7, 2, 7, 1, 8, 7, 5, 1, 3, 1, 0, 3, 6, 5, 3, 8, 6, 3,\n",
      "        4, 9, 6, 1, 5, 3, 0, 7]), tensor([0, 6, 4, 5, 1, 6, 6, 2, 8, 3, 9, 8, 6, 7, 2, 4, 2, 5, 1, 9, 6, 3, 8, 7,\n",
      "        1, 8, 1, 2, 0, 9, 2, 4]), tensor([3, 4, 6, 1, 3, 5, 2, 9, 7, 5, 3, 9, 5, 5, 6, 4, 8, 0, 7, 0, 8, 6, 2, 1,\n",
      "        9, 7, 7, 3, 8, 0, 3, 0]), tensor([9, 8, 5, 6, 4, 8, 1, 5, 7, 7, 0, 1, 6, 1, 3, 4, 4, 2, 6, 1, 7, 6, 2, 2,\n",
      "        6, 3, 8, 2, 4, 6, 3, 0]), tensor([8, 8, 4, 6, 2, 0, 7, 0, 8, 9, 1, 4, 6, 7, 6, 8, 1, 8, 2, 6, 6, 7, 5, 7,\n",
      "        9, 9, 3, 9, 4, 4, 2, 6]), tensor([1, 3, 2, 4, 4, 5, 2, 2, 2, 9, 1, 8, 0, 6, 2, 2, 0, 3, 6, 6, 1, 3, 6, 3,\n",
      "        4, 1, 7, 5, 1, 0, 7, 2]), tensor([5, 0, 3, 2, 8, 5, 8, 7, 8, 4, 5, 9, 5, 5, 1, 2, 4, 7, 2, 9, 7, 8, 3, 7,\n",
      "        4, 6, 3, 8, 8, 4, 5, 1]), tensor([8, 2, 4, 2, 2, 7, 8, 9, 0, 2, 7, 9, 1, 5, 7, 8, 4, 3, 9, 5, 7, 3, 0, 8,\n",
      "        6, 1, 6, 3, 5, 8, 0, 0]), tensor([1, 8, 6, 9, 0, 0, 7, 6, 6, 2, 7, 4, 8, 8, 2, 6, 3, 6, 7, 1, 4, 7, 4, 2,\n",
      "        7, 1, 6, 5, 2, 4, 7, 9]), tensor([6, 0, 8, 2, 1, 1, 8, 8, 3, 5, 7, 5, 6, 7, 4, 3, 7, 3, 8, 9, 6, 2, 2, 4,\n",
      "        5, 7, 0, 2, 2, 9, 5, 7]), tensor([2, 2, 5, 8, 3, 1, 3, 7, 4, 9, 4, 3, 9, 7, 2, 0, 8, 6, 9, 1, 9, 9, 6, 7,\n",
      "        1, 4, 7, 0, 3, 8, 7, 2]), tensor([8, 5, 8, 4, 4, 0, 6, 9, 6, 5, 6, 4, 3, 8, 9, 1, 8, 8, 4, 0, 8, 7, 4, 9,\n",
      "        2, 1, 2, 7, 5, 4, 6, 8]), tensor([4, 4, 7, 2, 4, 6, 8, 5, 7, 9, 5, 7, 2, 2, 3, 7, 3, 2, 1, 5, 6, 9, 7, 4,\n",
      "        2, 2, 5, 8, 0, 7, 7, 2]), tensor([2, 0, 4, 3, 4, 0, 6, 7, 8, 7, 6, 5, 0, 6, 0, 2, 6, 3, 3, 8, 7, 4, 3, 9,\n",
      "        1, 2, 6, 5, 2, 3, 2, 0]), tensor([2, 6, 0, 7, 2, 1, 8, 2, 8, 7, 9, 4, 1, 6, 5, 7, 7, 3, 2, 5, 7, 3, 6, 7,\n",
      "        3, 2, 0, 9, 6, 7, 3, 9]), tensor([1, 2, 1, 9, 7, 2, 3, 4, 8, 1, 8, 3, 5, 0, 5, 3, 8, 2, 7, 6, 9, 0, 6, 8,\n",
      "        4, 2, 4, 4, 4, 3, 7, 8]), tensor([7, 1, 3, 7, 8, 9, 5, 5, 2, 4, 4, 5, 0, 8, 6, 3, 4, 6, 8, 8, 9, 6, 9, 1,\n",
      "        5, 1, 2, 1, 3, 2, 2, 2]), tensor([4, 8, 7, 9, 9, 2, 0, 5, 7, 0, 8, 6, 8, 3, 3, 4, 2, 7, 3, 8, 2, 9, 8, 1,\n",
      "        7, 3, 2, 6, 3, 7, 1, 8]), tensor([5, 7, 8, 0, 5, 1, 8, 3, 7, 7, 7, 6, 5, 2, 4, 1, 2, 3, 4, 1, 0, 3, 9, 3,\n",
      "        8, 2, 3, 7, 4, 9, 5, 7]), tensor([4, 3, 9, 5, 6, 4, 2, 7, 3, 9, 3, 0, 8, 9, 0, 9, 4, 6, 4, 5, 7, 1, 6, 8,\n",
      "        2, 0, 2, 3, 1, 1, 1, 7]), tensor([6, 2, 2, 5, 9, 8, 9, 5, 3, 4, 7, 9, 2, 0, 1, 1, 1, 4, 8, 6, 8, 0, 5, 5,\n",
      "        6, 7, 6, 8, 2, 3, 6, 2]), tensor([6, 2, 5, 7, 4, 9, 7, 2, 2, 2, 0, 7, 4, 5, 2, 3, 3, 1, 9, 8, 1, 8, 6, 6,\n",
      "        3, 9, 1, 9, 7, 6, 9, 6]), tensor([9, 3, 0, 4, 2, 3, 4, 6, 6, 9, 2, 1, 1, 0, 5, 6, 7, 0, 4, 1, 1, 7, 0, 0,\n",
      "        1, 9, 8, 7, 3, 5, 2, 1]), tensor([6, 6, 4, 0, 4, 6, 2, 3, 5, 9, 5, 8, 9, 3, 3, 7, 8, 9, 4, 1, 1, 9, 3, 7,\n",
      "        0, 0, 9, 6, 0, 2, 9, 2]), tensor([8, 5, 5, 9, 3, 3, 5, 7, 1, 2, 3, 3, 5, 6, 6, 4, 1, 1, 9, 1, 4, 0, 6, 2,\n",
      "        2, 6, 6, 0, 6, 5, 0, 3]), tensor([0, 5, 1, 1, 8, 2, 5, 3, 5, 1, 6, 6, 3, 1, 6, 7, 9, 6, 3, 8, 7, 6, 4, 9,\n",
      "        1, 9, 7, 7, 6, 2, 2, 7]), tensor([5, 6, 1, 5, 7, 7, 8, 2, 8, 3, 7, 4, 6, 2, 9, 9, 0, 2, 7, 3, 1, 0, 8, 2,\n",
      "        4, 4, 4, 7, 1, 8, 4, 6]), tensor([3, 4, 4, 2, 9, 8, 0, 6, 8, 3, 9, 6, 1, 5, 6, 5, 6, 8, 4, 2, 5, 9, 3, 6,\n",
      "        4, 7, 8, 5, 9, 5, 6, 0]), tensor([6, 8, 7, 2, 9, 2, 2, 2, 4, 8, 1, 6, 3, 8, 4, 0, 3, 8, 2, 6, 8, 2, 7, 2,\n",
      "        5, 6, 3, 6, 8, 7, 6, 2]), tensor([1, 1, 8, 7, 3, 2, 0, 5, 4, 3, 8, 8, 8, 9, 3, 0, 9, 4, 3, 3, 6, 4, 2, 8,\n",
      "        8, 5, 9, 2, 7, 1, 9, 0]), tensor([3, 3, 0, 2, 3, 9, 7, 7, 3, 0, 4, 2, 6, 6, 4, 5, 3, 4, 9, 8, 5, 8, 3, 4,\n",
      "        1, 4, 8, 7, 2, 6, 2, 3]), tensor([5, 6, 3, 5, 2, 5, 3, 7, 1, 2, 9, 8, 7, 4, 8, 8, 5, 5, 8, 4, 4, 6, 8, 3,\n",
      "        6, 4, 9, 6, 1, 0, 5, 1]), tensor([4, 0, 9, 2, 6, 3, 6, 7, 4, 4, 4, 3, 8, 5, 1, 8, 3, 4, 4, 5, 0, 0, 9, 8,\n",
      "        7, 4, 2, 2, 2, 9, 3, 5]), tensor([0, 9, 9, 0, 1, 3, 7, 1, 9, 4, 5, 2, 6, 9, 5, 7, 9, 4, 2, 8, 3, 1, 7, 8,\n",
      "        4, 6, 8, 0, 5, 5, 7, 1]), tensor([7, 6, 2, 1, 7, 1, 9, 0, 2, 0, 3, 2, 7, 3, 9, 3, 5, 4, 0, 6, 9, 7, 4, 2,\n",
      "        3, 8, 5, 8, 3, 0, 4, 1]), tensor([2, 9, 0, 8, 9, 0, 3, 2, 0, 5, 9, 3, 1, 0, 0, 4, 1, 4, 6, 9, 9, 8, 9, 7,\n",
      "        4, 0, 1, 9, 9, 3, 9, 3]), tensor([2, 3, 7, 3, 1, 4, 6, 8, 3, 4, 3, 3, 8, 4, 7, 1, 0, 3, 8, 4, 7, 9, 8, 6,\n",
      "        3, 0, 4, 5, 7, 2, 7, 2]), tensor([9, 0, 2, 6, 3, 3, 0, 0, 4, 4, 4, 6, 6, 9, 9, 6, 7, 4, 3, 2, 6, 1, 9, 5,\n",
      "        9, 9, 0, 5, 8, 6, 7, 3]), tensor([9, 5, 2, 8, 9, 5, 8, 0, 0, 3, 0, 6, 3, 7, 8, 0, 3, 2, 2, 6, 1, 1, 2, 2,\n",
      "        2, 5, 4, 3, 9, 3, 4, 2]), tensor([3, 7, 2, 9, 2, 1, 4, 7, 5, 5, 9, 4, 6, 9, 7, 7, 7, 4, 1, 8, 3, 3, 8, 0,\n",
      "        8, 7, 6, 7, 7, 9, 6, 4]), tensor([2, 3, 9, 2, 1, 5, 2, 0, 5, 8, 6, 7, 0, 1, 6, 5, 6, 2, 1, 4, 1, 8, 7, 9,\n",
      "        9, 7, 3, 2, 2, 4, 7, 2]), tensor([3, 9, 6, 3, 9, 5, 1, 0, 9, 0, 7, 4, 3, 5, 7, 2, 7, 2, 8, 7, 5, 4, 5, 9,\n",
      "        4, 3, 5, 0, 2, 7, 5, 3]), tensor([1, 9, 3, 7, 3, 6, 3, 4, 4, 2, 5, 9, 2, 3, 1, 9, 7, 9, 0, 1, 6, 8, 5, 2,\n",
      "        5, 3, 7, 8, 7, 7, 0, 8]), tensor([5, 6, 6, 3, 5, 2, 7, 7, 9, 7, 1, 0, 0, 8, 6, 2, 0, 2, 4, 5, 5, 6, 3, 3,\n",
      "        2, 4, 5, 6, 7, 1, 8, 7]), tensor([1, 6, 2, 0, 4, 7, 3, 7, 4, 6, 6, 3, 9, 4, 6, 0, 0, 8, 7, 3, 3, 0, 5, 6,\n",
      "        1, 5, 0, 9, 9, 3, 3, 0]), tensor([6, 1, 6, 6, 5, 7, 2, 2, 0, 9, 2, 6, 8, 2, 8, 3, 7, 7, 3, 3, 9, 5, 7, 2,\n",
      "        6, 9, 4, 5, 6, 7, 2, 9]), tensor([5, 5, 8, 7, 4, 9, 6, 2, 3, 6, 3, 0, 4, 7, 2, 4, 2, 2, 4, 1, 5, 7, 9, 7,\n",
      "        3, 9, 8, 2, 5, 1, 9, 6]), tensor([1, 0, 4, 8, 0, 5, 6, 9, 6, 8, 4, 4, 4, 1, 7, 5, 1, 1, 6, 7, 0, 3, 2, 8,\n",
      "        7, 8, 5, 9, 1, 1, 3, 8]), tensor([9, 9, 9, 1, 0, 6, 3, 6, 4, 4, 7, 1, 2, 0, 1, 5, 3, 4, 9, 2, 4, 2, 2, 6,\n",
      "        7, 9, 4, 7, 1, 4, 0, 8]), tensor([3, 3, 5, 6, 0, 8, 3, 3, 2, 0, 1, 8, 2, 3, 2, 9, 5, 4, 6, 5, 6, 1, 6, 4,\n",
      "        4, 5, 8, 6, 7, 3, 6, 6]), tensor([7, 6, 2, 3, 6, 8, 4, 6, 3, 4, 8, 1, 7, 8, 4, 8, 7, 9, 9, 9, 9, 2, 6, 9,\n",
      "        4, 0, 8, 8, 8, 0, 5, 6]), tensor([6, 6, 6, 2, 9, 9, 2, 3, 5, 2, 0, 1, 0, 8, 9, 2, 7, 3, 3, 2, 4, 1, 2, 8,\n",
      "        1, 8, 2, 2, 6, 9, 8, 5]), tensor([1, 2, 4, 0, 9, 2, 5, 8, 0, 7, 3, 6, 5, 8, 9, 9, 4, 9, 6, 3, 3, 2, 5, 0,\n",
      "        8, 0, 4, 2, 3, 6, 0, 0]), tensor([3, 3, 5, 9, 4, 7, 1, 5, 0, 0, 6, 1, 7, 9, 4, 0, 4, 5, 2, 9, 4, 9, 8, 8,\n",
      "        7, 6, 2, 3, 9, 3, 6, 7]), tensor([3, 2, 7, 0, 4, 1, 0, 5, 7, 3, 5, 9, 2, 3, 4, 8, 5, 8, 1, 9, 6, 7, 6, 7,\n",
      "        3, 6, 2, 5, 6, 8, 2, 6]), tensor([7, 4, 0, 5, 1, 5, 9, 6, 0, 9, 5, 8, 5, 7, 2, 9, 8, 3, 2, 6, 5, 7, 5, 1,\n",
      "        1, 5, 4, 1, 8, 5, 8, 2]), tensor([9, 6, 3, 3, 4, 6, 2, 4, 1, 1, 4, 7, 2, 7, 0, 2, 6, 8, 8, 8, 7, 7, 1, 2,\n",
      "        6, 6, 1, 4, 0, 2, 5, 8]), tensor([2, 4, 8, 3, 1, 8, 8, 4, 4, 0, 8, 6, 8, 0, 3, 4, 8, 8, 7, 5, 7, 0, 1, 1,\n",
      "        9, 7, 8, 6, 1, 9, 6, 3]), tensor([6, 9, 4, 0, 4, 9, 7, 2, 2, 2, 0, 5, 6, 6, 3, 7, 8, 6, 2, 6, 1, 1, 9, 9,\n",
      "        4, 5, 3, 6, 8, 5, 0, 6]), tensor([6, 1, 2, 3, 7, 6, 9, 0, 4, 8, 2, 3, 6, 9, 5, 5, 9, 6, 0, 4, 1, 1, 8, 9,\n",
      "        6, 4, 2, 3, 3, 0, 7, 1]), tensor([8, 8, 5, 3, 3, 7, 7, 1, 2, 3, 4, 1, 9, 0, 2, 1, 1, 0, 7, 3, 7, 3, 9, 0,\n",
      "        1, 8, 9, 2, 6, 6, 0, 9]), tensor([1, 6, 1, 2, 7, 8, 0, 5, 6, 8, 2, 4, 5, 3, 5, 9, 1, 8, 5, 3, 1, 2, 6, 3,\n",
      "        7, 3, 5, 4, 8, 6, 7, 1]), tensor([6, 3, 9, 8, 3, 8, 7, 7, 9, 7, 0, 9, 6, 0, 9, 6, 1, 9, 8, 6, 3, 7, 2, 9,\n",
      "        5, 4, 7, 1, 2, 1, 2, 6]), tensor([9, 6, 0, 5, 6, 0, 5, 6, 4, 6, 9, 9, 1, 6, 7, 7, 7, 2, 5, 1, 4, 0, 6, 3,\n",
      "        8, 9, 8, 2, 1, 0, 6, 3]), tensor([9, 8, 8, 7, 8, 3, 0, 0, 7, 4, 8, 6, 9, 9, 4, 7, 7, 2, 2, 1, 5, 4, 4, 3,\n",
      "        5, 5, 0, 8, 2, 7, 8, 9]), tensor([4, 2, 1, 7, 4, 6, 4, 9, 4, 3, 6, 0, 7, 7, 8, 0, 9, 1, 2, 6, 2, 9, 7, 1,\n",
      "        9, 9, 3, 3, 1, 4, 3, 5]), tensor([3, 3, 9, 4, 1, 4, 4, 2, 7, 5, 4, 6, 9, 9, 8, 3, 8, 1, 2, 2, 7, 5, 3, 3,\n",
      "        2, 6, 0, 3, 2, 0, 7, 6]), tensor([8, 8, 2, 8, 4, 5, 0, 0, 1, 7, 9, 7, 3, 9, 4, 6, 4, 8, 7, 1, 0, 8, 7, 6,\n",
      "        2, 6, 8, 2, 8, 0, 1, 5]), tensor([3, 8, 1, 7, 2, 9, 3, 7, 9, 3, 1, 8, 3, 0, 9, 3, 6, 2, 4, 2, 7, 6, 0, 9,\n",
      "        8, 8, 1, 5, 7, 7, 1, 7]), tensor([5, 4, 4, 0, 9, 8, 7, 3, 7, 3, 6, 5, 5, 1, 6, 9, 2, 6, 3, 2, 0, 4, 7, 2,\n",
      "        6, 4, 0, 1, 9, 3, 8, 3]), tensor([9, 7, 1, 7, 1, 2, 4, 6, 5, 6, 0, 6, 4, 1, 1, 2, 9, 0, 3, 2, 1, 3, 2, 7,\n",
      "        0, 1, 8, 5, 7, 0, 0, 5]), tensor([0, 4, 6, 2, 2, 5, 2, 1, 8, 2, 1, 7, 3, 8, 8, 9, 2, 0, 1, 2, 1, 2, 9, 0,\n",
      "        3, 1, 1, 4, 7, 8, 3, 6]), tensor([9, 3, 2, 8, 3, 8, 6, 9, 4, 7, 7, 6, 3, 2, 4, 5, 7, 3, 7, 6, 6, 6, 9, 3,\n",
      "        0, 5, 4, 1, 2, 1, 8, 1]), tensor([9, 4, 8, 7, 9, 3, 3, 7, 0, 0, 6, 1, 6, 4, 6, 4, 2, 2, 7, 3, 6, 3, 4, 0,\n",
      "        0, 1, 3, 8, 3, 5, 7, 9]), tensor([6, 6, 3, 7, 5, 1, 2, 7, 7, 5, 8, 0, 9, 1, 6, 1, 4, 9, 1, 6, 5, 2, 3, 0,\n",
      "        7, 1, 2, 7, 9, 3, 7, 4]), tensor([4, 2, 6, 7, 2, 7, 3, 3, 7, 8, 8, 7, 0, 1, 6, 0, 9, 7, 9, 9, 1, 2, 0, 4,\n",
      "        7, 4, 3, 3, 1, 7, 5, 7]), tensor([2, 5, 2, 0, 3, 1, 4, 7, 5, 3, 2, 5, 8, 4, 7, 4, 0, 8, 3, 2, 1, 7, 9, 2,\n",
      "        9, 1, 6, 6, 5, 1, 0, 6]), tensor([3, 7, 3, 1, 8, 2, 8, 9, 5, 8, 1, 0, 9, 6, 6, 6, 4, 1, 4, 7, 3, 0, 7, 9,\n",
      "        8, 9, 5, 4, 6, 4, 7, 2]), tensor([3, 8, 3, 8, 4, 1, 2, 4, 8, 1, 0, 8, 1, 8, 5, 3, 2, 7, 0, 2, 4, 9, 6, 2,\n",
      "        4, 9, 9, 6, 9, 9, 6, 7]), tensor([3, 4, 3, 3, 9, 6, 7, 7, 8, 1, 1, 2, 6, 5, 7, 6, 4, 7, 4, 7, 0, 2, 2, 9,\n",
      "        9, 7, 7, 5, 0, 1, 2, 3]), tensor([4, 6, 2, 0, 9, 2, 7, 8, 4, 2, 8, 9, 7, 1, 6, 7, 9, 9, 2, 1, 5, 1, 1, 3,\n",
      "        6, 7, 9, 8, 3, 3, 8, 5]), tensor([2, 4, 3, 6, 8, 0, 9, 6, 6, 9, 0, 1, 2, 8, 1, 8, 2, 1, 8, 1, 7, 1, 9, 1,\n",
      "        8, 3, 5, 4, 1, 0, 2, 4]), tensor([6, 6, 8, 2, 2, 5, 5, 0, 2, 3, 9, 8, 6, 1, 0, 0, 4, 8, 3, 4, 7, 7, 5, 9,\n",
      "        2, 5, 3, 6, 9, 9, 4, 8]), tensor([5, 2, 9, 3, 4, 0, 2, 8, 3, 1, 9, 2, 3, 6, 7, 3, 8, 5, 0, 4, 6, 4, 1, 1,\n",
      "        9, 8, 8, 9, 3, 2, 6, 0]), tensor([5, 4, 5, 6, 8, 3, 2, 4, 8, 4, 1, 5, 0, 4, 3, 1, 9, 2, 8, 7, 8, 2, 3, 6,\n",
      "        2, 5, 4, 9, 0, 7, 1, 1]), tensor([7, 9, 6, 1, 4, 7, 5, 4, 6, 3, 3, 6, 1, 0, 0, 9, 9, 8, 2, 9, 6, 4, 5, 4,\n",
      "        7, 2, 6, 5, 2, 6, 9, 3]), tensor([7, 0, 6, 3, 5, 3, 4, 3, 4, 6, 9, 8, 8, 6, 2, 0, 6, 3, 9, 4, 2, 8, 1, 7,\n",
      "        2, 4, 9, 3, 6, 2, 0, 6]), tensor([7, 0, 5, 0, 6, 3, 1, 3, 0, 9, 5, 4, 3, 9, 6, 2, 2, 9, 0, 7, 2, 5, 6, 8,\n",
      "        2, 1, 2, 2, 6, 5, 9, 4]), tensor([5, 0, 2, 0, 7, 4, 6, 2, 3, 3, 8, 6, 3, 8, 9, 4, 2, 2, 8, 4, 8, 2, 5, 7,\n",
      "        0, 3, 6, 8, 1, 5, 9, 2]), tensor([2, 8, 9, 2, 1, 0, 5, 5, 2, 2, 8, 2, 2, 6, 7, 4, 5, 3, 7, 4, 5, 8, 8, 3,\n",
      "        8, 8, 0, 6, 2, 6, 3, 6]), tensor([4, 9, 2, 5, 6, 5, 6, 3, 1, 7, 8, 0, 4, 7, 3, 3, 8, 0, 0, 9, 2, 8, 5, 4,\n",
      "        9, 6, 3, 2, 2, 0, 3, 1]), tensor([9, 3, 8, 2, 1, 9, 5, 8, 4, 8, 2, 3, 7, 3, 6, 4, 9, 2, 6, 2, 9, 8, 0, 5,\n",
      "        7, 2, 6, 5, 2, 3, 0, 7]), tensor([2, 4, 2, 7, 3, 6, 3, 3, 1, 5, 4, 0, 1, 9, 7, 5, 6, 5, 2, 7, 2, 6, 3, 5,\n",
      "        4, 8, 9, 0, 9, 7, 5, 7]), tensor([7, 9, 3, 3, 8, 4, 3, 9, 3, 1, 0, 2, 5, 2, 8, 7, 9, 7, 7, 7, 9, 2, 6, 0,\n",
      "        6, 7, 2, 1, 8, 0, 3, 8]), tensor([5, 0, 5, 6, 9, 1, 1, 2, 2, 8, 9, 7, 7, 5, 8, 6, 3, 4, 0, 1, 8, 4, 3, 4,\n",
      "        7, 9, 3, 7, 5, 5, 3, 9]), tensor([1, 4, 1, 2, 7, 4, 6, 9, 3, 4, 4, 1, 7, 8, 1, 6, 5, 9, 0, 0, 9, 5, 3, 8,\n",
      "        8, 2, 8, 5, 7, 0, 7, 0]), tensor([9, 6, 3, 2, 9, 4, 8, 5, 4, 0, 3, 2, 6, 4, 7, 4, 1, 7, 7, 8, 5, 7, 0, 6,\n",
      "        4, 2, 1, 3, 8, 3, 3, 2]), tensor([7, 5, 9, 1, 0, 4, 3, 7, 6, 6, 3, 1, 8, 4, 7, 2, 5, 7, 3, 1, 7, 1, 9, 2,\n",
      "        9, 6, 2, 6, 1, 8, 6, 9]), tensor([8, 2, 0, 3, 8, 4, 5, 1, 2, 4, 6, 4, 4, 8, 5, 7, 7, 7, 6, 5, 5, 7, 9, 7,\n",
      "        6, 2, 8, 2, 1, 3, 3, 4]), tensor([8, 9, 4, 0, 7, 3, 6, 8, 3, 2, 6, 1, 6, 5, 2, 9, 7, 2, 8, 7, 3, 7, 2, 3,\n",
      "        2, 1, 7, 2, 2, 5, 5, 0]), tensor([2, 3, 0, 1, 6, 6, 5, 0, 1, 5, 5, 2, 5, 1, 7, 8, 7, 1, 2, 7, 0, 9, 3, 1,\n",
      "        9, 0, 4, 6, 6, 5, 9, 9]), tensor([2, 2, 7, 3, 8, 1, 4, 2, 3, 7, 8, 4, 0, 4, 8, 4, 2, 9, 3, 5, 8, 0, 1, 9,\n",
      "        6, 7, 3, 7, 4, 4, 6, 6]), tensor([2, 1, 3, 3, 6, 7, 0, 5, 9, 8, 9, 3, 7, 9, 9, 6, 8, 8, 3, 1, 4, 4, 0, 2,\n",
      "        8, 3, 2, 1, 3, 3, 2, 7]), tensor([8, 7, 0, 4, 3, 4, 4, 5, 7, 9, 2, 8, 2, 4, 5, 6, 1, 7, 6, 7, 6, 6, 0, 3,\n",
      "        5, 1, 1, 2, 4, 6, 9, 8]), tensor([1, 0, 1, 6, 8, 5, 4, 0, 4, 0, 4, 9, 3, 8, 5, 2, 8, 6, 2, 8, 6, 4, 4, 6,\n",
      "        8, 7, 5, 2, 8, 7, 2, 9]), tensor([5, 9, 2, 1, 6, 4, 1, 9, 7, 1, 7, 3, 5, 8, 7, 2, 5, 1, 5, 2, 0, 6, 0, 1,\n",
      "        2, 4, 4, 8, 0, 3, 2, 2]), tensor([3, 5, 1, 2, 3, 6, 5, 1, 8, 3, 1, 6, 7, 6, 4, 2, 0, 6, 7, 8, 1, 3, 9, 0,\n",
      "        2, 8, 1, 4, 6, 8, 3, 6]), tensor([8, 7, 7, 5, 4, 7, 7, 6, 1, 8, 1, 7, 7, 0, 3, 1, 6, 2, 5, 3, 8, 9, 4, 0,\n",
      "        9, 5, 1, 7, 2, 1, 5, 2]), tensor([2, 3, 2, 0, 7, 1, 3, 4, 4, 5, 7, 0, 6, 7, 3, 3, 7, 8, 8, 2, 5, 6, 9, 7,\n",
      "        1, 2, 9, 3, 0, 5, 5, 0]), tensor([9, 1, 2, 2, 5, 2, 4, 1, 4, 6, 3, 3, 6, 3, 0, 8, 4, 7, 5, 5, 7, 0, 7, 9,\n",
      "        4, 4, 2, 9, 4, 7, 1, 8]), tensor([8, 8, 5, 8, 3, 8, 9, 3, 2, 0, 2, 1, 8, 4, 4, 6, 6, 9, 5, 3, 1, 5, 1, 3,\n",
      "        5, 6, 6, 2, 1, 7, 3, 6]), tensor([8, 2, 9, 3, 9, 6, 0, 4, 1, 2, 6, 2, 9, 3, 3, 9, 7, 3, 2, 6, 2, 9, 7, 8,\n",
      "        5, 6, 9, 6, 0, 3, 8, 1]), tensor([3, 2, 7, 5, 8, 4, 5, 6, 8, 9, 1, 9, 0, 8, 1, 8])]\n"
     ]
    },
    {
     "data": {
      "text/plain": [
       "tensor([9, 2, 1, 1, 6, 1, 4, 6, 5, 7])"
      ]
     },
     "execution_count": 65,
     "metadata": {},
     "output_type": "execute_result"
    }
   ],
   "execution_count": 65
  },
  {
   "metadata": {
    "ExecuteTime": {
     "end_time": "2025-07-19T20:03:16.427256Z",
     "start_time": "2025-07-19T20:03:16.424796Z"
    }
   },
   "cell_type": "code",
   "source": "len(y_pred_tensor)",
   "id": "388c314e785346ff",
   "outputs": [
    {
     "data": {
      "text/plain": [
       "10000"
      ]
     },
     "execution_count": 66,
     "metadata": {},
     "output_type": "execute_result"
    }
   ],
   "execution_count": 66
  },
  {
   "metadata": {
    "ExecuteTime": {
     "end_time": "2025-07-19T20:04:22.674192Z",
     "start_time": "2025-07-19T20:04:22.671867Z"
    }
   },
   "cell_type": "code",
   "source": [
    "import torchmetrics\n",
    "torchmetrics.__version__"
   ],
   "id": "c1a442ccdf00d64",
   "outputs": [
    {
     "data": {
      "text/plain": [
       "'1.7.4'"
      ]
     },
     "execution_count": 69,
     "metadata": {},
     "output_type": "execute_result"
    }
   ],
   "execution_count": 69
  },
  {
   "metadata": {
    "ExecuteTime": {
     "end_time": "2025-07-19T20:35:08.571881Z",
     "start_time": "2025-07-19T20:35:08.448652Z"
    }
   },
   "cell_type": "code",
   "source": [
    "from torchmetrics import ConfusionMatrix\n",
    "from mlxtend.plotting import plot_confusion_matrix\n",
    "\n",
    "# 2. Setup confusion instance and compare predictions to targets\n",
    "confmat = ConfusionMatrix(task='multiclass', num_classes=len(class_names))\n",
    "confmat_tensor = confmat(y_pred_tensor, test_data.targets)\n",
    "\n",
    "# 3. Plot the confusion matrix\n",
    "fig, ax = plot_confusion_matrix(\n",
    "    conf_mat=confmat_tensor.numpy(),\n",
    "    class_names=class_names,\n",
    "    figsize=(10, 7),\n",
    ")"
   ],
   "id": "5164e42e880ca079",
   "outputs": [
    {
     "data": {
      "text/plain": [
       "<Figure size 1000x700 with 1 Axes>"
      ],
      "image/png": "[encoded data removed]"
     },
     "metadata": {},
     "output_type": "display_data"
    }
   ],
   "execution_count": 75
  },
  {
   "metadata": {},
   "cell_type": "markdown",
   "source": "## 11. Save and load best performing model",
   "id": "20955df7786d8dd5"
  },
  {
   "metadata": {
    "ExecuteTime": {
     "end_time": "2025-07-19T20:47:25.951600Z",
     "start_time": "2025-07-19T20:47:25.947176Z"
    }
   },
   "cell_type": "code",
   "source": [
    "from pathlib import Path\n",
    "MODEL_PATH = Path('models')\n",
    "MODEL_PATH.mkdir(parents=True, exist_ok=True)\n",
    "\n",
    "# Create model save path\n",
    "MODEL_NAME = '03_pytorch_computer_vision_model_2.pth'\n",
    "MODEL_SAVE_PATH = MODEL_PATH / MODEL_NAME\n",
    "print(f\"Saving file to: {MODEL_SAVE_PATH}\")\n",
    "torch.save(obj=model_2.state_dict(),\n",
    "           f=MODEL_SAVE_PATH)\n"
   ],
   "id": "99025f3788639959",
   "outputs": [
    {
     "name": "stdout",
     "output_type": "stream",
     "text": [
      "Saving file to: models/03_pytorch_computer_vision_model_2.pth\n"
     ]
    }
   ],
   "execution_count": 79
  },
  {
   "metadata": {
    "ExecuteTime": {
     "end_time": "2025-07-19T20:51:32.594958Z",
     "start_time": "2025-07-19T20:51:32.586721Z"
    }
   },
   "cell_type": "code",
   "source": [
    "# Create new instance\n",
    "loaded_model_2 = FashionMNISTModelV2(input_shape=1,\n",
    "                    hidden_units=10,\n",
    "                    output_shape=len(class_names))\n",
    "\n",
    "# Load in the save state_dict()\n",
    "loaded_model_2.load_state_dict(torch.load(MODEL_SAVE_PATH))"
   ],
   "id": "bdfc2d9730f3b893",
   "outputs": [
    {
     "data": {
      "text/plain": [
       "<All keys matched successfully>"
      ]
     },
     "execution_count": 80,
     "metadata": {},
     "output_type": "execute_result"
    }
   ],
   "execution_count": 80
  },
  {
   "metadata": {
    "ExecuteTime": {
     "end_time": "2025-07-19T20:53:09.222912Z",
     "start_time": "2025-07-19T20:53:09.220127Z"
    }
   },
   "cell_type": "code",
   "source": "model_2_results",
   "id": "ed9cfd962c9f7b81",
   "outputs": [
    {
     "data": {
      "text/plain": [
       "{'model_name': 'FashionMNISTModelV2',\n",
       " 'loss': 0.32574188709259033,\n",
       " 'accuracy': 88.11900958466454}"
      ]
     },
     "execution_count": 81,
     "metadata": {},
     "output_type": "execute_result"
    }
   ],
   "execution_count": 81
  },
  {
   "metadata": {
    "ExecuteTime": {
     "end_time": "2025-07-19T20:54:13.595664Z",
     "start_time": "2025-07-19T20:54:11.977265Z"
    }
   },
   "cell_type": "code",
   "source": [
    "# Evaluate loaded model\n",
    "torch.manual_seed(42)\n",
    "\n",
    "loaded_model_2_results = eval_model(\n",
    "                                    model=loaded_model_2,\n",
    "                                    data_loader=test_dataloader,\n",
    "                                    loss_fn=loss_fn,\n",
    "                                    accuracy_fn=accuracy_fn)\n",
    "\n",
    "loaded_model_2_results"
   ],
   "id": "c127d4b9214bfce4",
   "outputs": [
    {
     "data": {
      "text/plain": [
       "  0%|          | 0/313 [00:00<?, ?it/s]"
      ],
      "application/vnd.jupyter.widget-view+json": {
       "version_major": 2,
       "version_minor": 0,
       "model_id": "f689ff65ebb340cea0eb8bfa7ed98c42"
      }
     },
     "metadata": {},
     "output_type": "display_data"
    },
    {
     "data": {
      "text/plain": [
       "{'model_name': 'FashionMNISTModelV2',\n",
       " 'loss': 0.32574188709259033,\n",
       " 'accuracy': 88.11900958466454}"
      ]
     },
     "execution_count": 82,
     "metadata": {},
     "output_type": "execute_result"
    }
   ],
   "execution_count": 82
  },
  {
   "metadata": {
    "ExecuteTime": {
     "end_time": "2025-07-19T20:58:52.051502Z",
     "start_time": "2025-07-19T20:58:52.035681Z"
    }
   },
   "cell_type": "code",
   "source": [
    "torch.isclose(torch.tensor(model_2_results[\"model_loss\"]),\n",
    "              torch.tensor(loaded_model_2_results[\"model_loss\"]),\n",
    "              atol=1e-02)\n"
   ],
   "id": "5129f73e1e62a70c",
   "outputs": [
    {
     "ename": "KeyError",
     "evalue": "'model_loss'",
     "output_type": "error",
     "traceback": [
      "\u001B[31m---------------------------------------------------------------------------\u001B[39m",
      "\u001B[31mKeyError\u001B[39m                                  Traceback (most recent call last)",
      "\u001B[36mCell\u001B[39m\u001B[36m \u001B[39m\u001B[32mIn[84]\u001B[39m\u001B[32m, line 1\u001B[39m\n\u001B[32m----> \u001B[39m\u001B[32m1\u001B[39m torch.isclose(torch.tensor(\u001B[43mmodel_2_results\u001B[49m\u001B[43m[\u001B[49m\u001B[33;43m\"\u001B[39;49m\u001B[33;43mmodel_loss\u001B[39;49m\u001B[33;43m\"\u001B[39;49m\u001B[43m]\u001B[49m),\n\u001B[32m      2\u001B[39m               torch.tensor(loaded_model_2_results[\u001B[33m\"\u001B[39m\u001B[33mmodel_loss\u001B[39m\u001B[33m\"\u001B[39m]),\n\u001B[32m      3\u001B[39m               atol=\u001B[32m1e-02\u001B[39m)\n",
      "\u001B[31mKeyError\u001B[39m: 'model_loss'"
     ]
    }
   ],
   "execution_count": 84
  },
  {
   "metadata": {},
   "cell_type": "code",
   "outputs": [],
   "execution_count": null,
   "source": "",
   "id": "b233b0b7d44a1ac7"
  }
 ],
 "metadata": {
  "kernelspec": {
   "display_name": "Python 3",
   "language": "python",
   "name": "python3"
  },
  "language_info": {
   "codemirror_mode": {
    "name": "ipython",
    "version": 2
   },
   "file_extension": ".py",
   "mimetype": "text/x-python",
   "name": "python",
   "nbconvert_exporter": "python",
   "pygments_lexer": "ipython2",
   "version": "2.7.6"
  }
 },
 "nbformat": 4,
 "nbformat_minor": 5
}
