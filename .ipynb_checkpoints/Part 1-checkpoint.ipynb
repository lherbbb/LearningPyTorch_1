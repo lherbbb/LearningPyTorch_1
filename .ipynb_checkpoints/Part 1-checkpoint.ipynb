{
 "cells": [
  {
   "cell_type": "code",
   "id": "initial_id",
   "metadata": {
    "collapsed": true,
    "ExecuteTime": {
     "end_time": "2025-07-03T20:23:46.776580Z",
     "start_time": "2025-07-03T20:23:46.774126Z"
    }
   },
   "source": [
    "import torch\n",
    "import pandas as pd\n",
    "import numpy as np\n",
    "import matplotlib.pyplot as plt\n",
    "print(torch.__version__)"
   ],
   "outputs": [
    {
     "name": "stdout",
     "output_type": "stream",
     "text": [
      "2.7.1\n"
     ]
    }
   ],
   "execution_count": 130
  },
  {
   "metadata": {
    "ExecuteTime": {
     "end_time": "2025-07-03T20:23:46.849111Z",
     "start_time": "2025-07-03T20:23:46.844927Z"
    }
   },
   "cell_type": "code",
   "source": [
    "# scalar\n",
    "scalar = torch.tensor(7)\n",
    "scalar"
   ],
   "id": "f5237370e801f3d1",
   "outputs": [
    {
     "data": {
      "text/plain": [
       "tensor(7)"
      ]
     },
     "execution_count": 131,
     "metadata": {},
     "output_type": "execute_result"
    }
   ],
   "execution_count": 131
  },
  {
   "metadata": {
    "ExecuteTime": {
     "end_time": "2025-07-03T20:23:46.870283Z",
     "start_time": "2025-07-03T20:23:46.867739Z"
    }
   },
   "cell_type": "code",
   "source": [
    "# Returns n dimensions of tensor\n",
    "scalar.ndim"
   ],
   "id": "98f7e3d71767ce0b",
   "outputs": [
    {
     "data": {
      "text/plain": [
       "0"
      ]
     },
     "execution_count": 132,
     "metadata": {},
     "output_type": "execute_result"
    }
   ],
   "execution_count": 132
  },
  {
   "metadata": {
    "ExecuteTime": {
     "end_time": "2025-07-03T20:23:46.890843Z",
     "start_time": "2025-07-03T20:23:46.887411Z"
    }
   },
   "cell_type": "code",
   "source": [
    "# Get tensor back as Python int\n",
    "scalar.item()"
   ],
   "id": "efe30604cae74cc5",
   "outputs": [
    {
     "data": {
      "text/plain": [
       "7"
      ]
     },
     "execution_count": 133,
     "metadata": {},
     "output_type": "execute_result"
    }
   ],
   "execution_count": 133
  },
  {
   "metadata": {
    "ExecuteTime": {
     "end_time": "2025-07-03T20:23:46.915140Z",
     "start_time": "2025-07-03T20:23:46.911844Z"
    }
   },
   "cell_type": "code",
   "source": [
    "# Vector\n",
    "vector = torch.tensor([7, 7])\n",
    "vector"
   ],
   "id": "c2125ba58dda7fb2",
   "outputs": [
    {
     "data": {
      "text/plain": [
       "tensor([7, 7])"
      ]
     },
     "execution_count": 134,
     "metadata": {},
     "output_type": "execute_result"
    }
   ],
   "execution_count": 134
  },
  {
   "metadata": {
    "ExecuteTime": {
     "end_time": "2025-07-03T20:23:46.933154Z",
     "start_time": "2025-07-03T20:23:46.930331Z"
    }
   },
   "cell_type": "code",
   "source": "vector.ndim",
   "id": "c0f61dc23c82885d",
   "outputs": [
    {
     "data": {
      "text/plain": [
       "1"
      ]
     },
     "execution_count": 135,
     "metadata": {},
     "output_type": "execute_result"
    }
   ],
   "execution_count": 135
  },
  {
   "metadata": {
    "ExecuteTime": {
     "end_time": "2025-07-03T20:23:46.952575Z",
     "start_time": "2025-07-03T20:23:46.949509Z"
    }
   },
   "cell_type": "code",
   "source": [
    "# MATRIX\n",
    "MATRIX = torch.tensor([[1, 2, 3], [4, 5, 6], [7, 8, 9]])\n",
    "MATRIX"
   ],
   "id": "2439e11ddafc96f5",
   "outputs": [
    {
     "data": {
      "text/plain": [
       "tensor([[1, 2, 3],\n",
       "        [4, 5, 6],\n",
       "        [7, 8, 9]])"
      ]
     },
     "execution_count": 136,
     "metadata": {},
     "output_type": "execute_result"
    }
   ],
   "execution_count": 136
  },
  {
   "metadata": {
    "ExecuteTime": {
     "end_time": "2025-07-03T20:23:47.091093Z",
     "start_time": "2025-07-03T20:23:47.087681Z"
    }
   },
   "cell_type": "code",
   "source": [
    "# TENSOR\n",
    "TENSOR = torch.tensor([[[1, 2, 3], [4, 5, 6], [7, 8, 9]],\n",
    "                     [[10, 11, 12], [13, 14, 15], [16, 17, 18]]])\n",
    "TENSOR"
   ],
   "id": "58f3b033863e7a2e",
   "outputs": [
    {
     "data": {
      "text/plain": [
       "tensor([[[ 1,  2,  3],\n",
       "         [ 4,  5,  6],\n",
       "         [ 7,  8,  9]],\n",
       "\n",
       "        [[10, 11, 12],\n",
       "         [13, 14, 15],\n",
       "         [16, 17, 18]]])"
      ]
     },
     "execution_count": 137,
     "metadata": {},
     "output_type": "execute_result"
    }
   ],
   "execution_count": 137
  },
  {
   "metadata": {
    "ExecuteTime": {
     "end_time": "2025-07-03T20:23:47.149894Z",
     "start_time": "2025-07-03T20:23:47.146864Z"
    }
   },
   "cell_type": "code",
   "source": "TENSOR.ndim",
   "id": "389b1b6dfa6a2347",
   "outputs": [
    {
     "data": {
      "text/plain": [
       "3"
      ]
     },
     "execution_count": 138,
     "metadata": {},
     "output_type": "execute_result"
    }
   ],
   "execution_count": 138
  },
  {
   "metadata": {
    "ExecuteTime": {
     "end_time": "2025-07-03T20:23:47.178882Z",
     "start_time": "2025-07-03T20:23:47.177215Z"
    }
   },
   "cell_type": "code",
   "source": "# Random Tensors\n",
   "id": "dd8cddf595ec70f3",
   "outputs": [],
   "execution_count": 139
  },
  {
   "metadata": {},
   "cell_type": "markdown",
   "source": [
    "### Header test\n",
    "3 # makes a header (###)\n",
    "\n",
    "\n",
    "Random tensors are important because the way many neural networks learn is that they start with tensors full of random numbers and then adjust those random numbers to better represent the data.\n",
    "\n",
    "Start with random data -> look at data -> update randdom numbers -> look at data -> update random numbers.\n"
   ],
   "id": "96ca55d8d96a60b8"
  },
  {
   "metadata": {
    "ExecuteTime": {
     "end_time": "2025-07-03T20:23:47.202850Z",
     "start_time": "2025-07-03T20:23:47.199144Z"
    }
   },
   "cell_type": "code",
   "source": [
    "# Create a random tensor of size (3, 4)\n",
    "random_tensor = torch.randn(3, 4)\n",
    "random_tensor"
   ],
   "id": "f864137fe86a81ea",
   "outputs": [
    {
     "data": {
      "text/plain": [
       "tensor([[-1.2134, -0.5757, -0.7549, -0.6735],\n",
       "        [ 0.4630,  0.8173, -0.0069,  0.3517],\n",
       "        [ 1.3531,  0.5207,  0.8431,  1.3731]])"
      ]
     },
     "execution_count": 140,
     "metadata": {},
     "output_type": "execute_result"
    }
   ],
   "execution_count": 140
  },
  {
   "metadata": {
    "ExecuteTime": {
     "end_time": "2025-07-03T20:23:47.247255Z",
     "start_time": "2025-07-03T20:23:47.243954Z"
    }
   },
   "cell_type": "code",
   "source": [
    "# Create a random tensor with a similar shape to an image tensor\n",
    "random_image_size_tensor = torch.rand(size=(224,224,3)) # height, width, color, channels\n",
    "random_image_size_tensor.shape, random_image_size_tensor.ndim"
   ],
   "id": "f5a5049efd2f2676",
   "outputs": [
    {
     "data": {
      "text/plain": [
       "(torch.Size([224, 224, 3]), 3)"
      ]
     },
     "execution_count": 141,
     "metadata": {},
     "output_type": "execute_result"
    }
   ],
   "execution_count": 141
  },
  {
   "metadata": {
    "ExecuteTime": {
     "end_time": "2025-07-03T20:23:47.329597Z",
     "start_time": "2025-07-03T20:23:47.326649Z"
    }
   },
   "cell_type": "code",
   "source": [
    "### Zeros and ones\n",
    "zeros = torch.zeros(size=(3,4))\n",
    "zeros"
   ],
   "id": "e799d29632e5f37b",
   "outputs": [
    {
     "data": {
      "text/plain": [
       "tensor([[0., 0., 0., 0.],\n",
       "        [0., 0., 0., 0.],\n",
       "        [0., 0., 0., 0.]])"
      ]
     },
     "execution_count": 142,
     "metadata": {},
     "output_type": "execute_result"
    }
   ],
   "execution_count": 142
  },
  {
   "metadata": {
    "ExecuteTime": {
     "end_time": "2025-07-03T20:23:47.381092Z",
     "start_time": "2025-07-03T20:23:47.377668Z"
    }
   },
   "cell_type": "code",
   "source": [
    "ones = torch.ones(size=(3,4))\n",
    "ones"
   ],
   "id": "3a7417af7b3a56de",
   "outputs": [
    {
     "data": {
      "text/plain": [
       "tensor([[1., 1., 1., 1.],\n",
       "        [1., 1., 1., 1.],\n",
       "        [1., 1., 1., 1.]])"
      ]
     },
     "execution_count": 143,
     "metadata": {},
     "output_type": "execute_result"
    }
   ],
   "execution_count": 143
  },
  {
   "metadata": {
    "ExecuteTime": {
     "end_time": "2025-07-03T20:23:47.450893Z",
     "start_time": "2025-07-03T20:23:47.448200Z"
    }
   },
   "cell_type": "code",
   "source": "ones.dtype",
   "id": "d3ad131492f9918e",
   "outputs": [
    {
     "data": {
      "text/plain": [
       "torch.float32"
      ]
     },
     "execution_count": 144,
     "metadata": {},
     "output_type": "execute_result"
    }
   ],
   "execution_count": 144
  },
  {
   "metadata": {},
   "cell_type": "markdown",
   "source": "### Creating a range of tensors and tensors-like",
   "id": "5017bbba76832ae"
  },
  {
   "metadata": {
    "ExecuteTime": {
     "end_time": "2025-07-03T20:23:47.532100Z",
     "start_time": "2025-07-03T20:23:47.529255Z"
    }
   },
   "cell_type": "code",
   "source": [
    "# use torch.arange() , do not use torch.range()\n",
    "torch.arange(0, 10)"
   ],
   "id": "4e20d2cd0ee163b3",
   "outputs": [
    {
     "data": {
      "text/plain": [
       "tensor([0, 1, 2, 3, 4, 5, 6, 7, 8, 9])"
      ]
     },
     "execution_count": 145,
     "metadata": {},
     "output_type": "execute_result"
    }
   ],
   "execution_count": 145
  },
  {
   "metadata": {
    "ExecuteTime": {
     "end_time": "2025-07-03T20:23:47.583846Z",
     "start_time": "2025-07-03T20:23:47.579157Z"
    }
   },
   "cell_type": "code",
   "source": [
    "one_to_ten = torch.arange(start=5,end=21, step = 2)\n",
    "one_to_ten"
   ],
   "id": "50220706440cf676",
   "outputs": [
    {
     "data": {
      "text/plain": [
       "tensor([ 5,  7,  9, 11, 13, 15, 17, 19])"
      ]
     },
     "execution_count": 146,
     "metadata": {},
     "output_type": "execute_result"
    }
   ],
   "execution_count": 146
  },
  {
   "metadata": {
    "ExecuteTime": {
     "end_time": "2025-07-03T20:23:47.617883Z",
     "start_time": "2025-07-03T20:23:47.615143Z"
    }
   },
   "cell_type": "code",
   "source": [
    "# Creating tensors like\n",
    "ten_zeros = torch.zeros_like(input = one_to_ten)\n",
    "ten_zeros"
   ],
   "id": "e01579e7968315f6",
   "outputs": [
    {
     "data": {
      "text/plain": [
       "tensor([0, 0, 0, 0, 0, 0, 0, 0])"
      ]
     },
     "execution_count": 147,
     "metadata": {},
     "output_type": "execute_result"
    }
   ],
   "execution_count": 147
  },
  {
   "metadata": {},
   "cell_type": "markdown",
   "source": [
    "### Tensor datatypes\n",
    "\n",
    "**Notes:** Tensor datatypes is one of the 3 big errors you'll run into with PyTorch & deep learning:\n",
    "    1. Tensors not right datatype\n",
    "    2. Tensors not right shape\n",
    "    3. Tensors not on the right device"
   ],
   "id": "a64266f7127599b0"
  },
  {
   "metadata": {
    "ExecuteTime": {
     "end_time": "2025-07-03T20:23:47.646048Z",
     "start_time": "2025-07-03T20:23:47.642666Z"
    }
   },
   "cell_type": "code",
   "source": [
    "# Float 32 Tensor\n",
    "float_32_tensor = torch.tensor([3.0, 6.0 ,9.0],\n",
    "                               dtype=None)\n",
    "float_32_tensor\n"
   ],
   "id": "d19f5aededc8751d",
   "outputs": [
    {
     "data": {
      "text/plain": [
       "tensor([3., 6., 9.])"
      ]
     },
     "execution_count": 148,
     "metadata": {},
     "output_type": "execute_result"
    }
   ],
   "execution_count": 148
  },
  {
   "metadata": {
    "ExecuteTime": {
     "end_time": "2025-07-03T20:23:47.662892Z",
     "start_time": "2025-07-03T20:23:47.660215Z"
    }
   },
   "cell_type": "code",
   "source": "float_32_tensor.dtype",
   "id": "c5de9d1d1b067b4",
   "outputs": [
    {
     "data": {
      "text/plain": [
       "torch.float32"
      ]
     },
     "execution_count": 149,
     "metadata": {},
     "output_type": "execute_result"
    }
   ],
   "execution_count": 149
  },
  {
   "metadata": {
    "ExecuteTime": {
     "end_time": "2025-07-03T20:23:47.680946Z",
     "start_time": "2025-07-03T20:23:47.677935Z"
    }
   },
   "cell_type": "code",
   "source": [
    "# Float 32 Tensor\n",
    "float_16_tensor = torch.tensor([3.0, 6.0 ,9.0],\n",
    "                               dtype=torch.float16, # What datatype is the tensor\n",
    "                               device=None, # Can put \"cpu\", \"cuda\". What device do you want your tensor on?\n",
    "                               requires_grad=False) # Whether you can to track gradients\n",
    "float_16_tensor.dtype"
   ],
   "id": "359a7ae363464e12",
   "outputs": [
    {
     "data": {
      "text/plain": [
       "torch.float16"
      ]
     },
     "execution_count": 150,
     "metadata": {},
     "output_type": "execute_result"
    }
   ],
   "execution_count": 150
  },
  {
   "metadata": {},
   "cell_type": "markdown",
   "source": [
    "### Getting information from tensors (Tensor attributes)\n",
    "\n",
    "1. Tensors not right datatype - to do get datatype from a tensor, can use 'tensor.dtype'\n",
    "2. Tensors not right shape - to get shape from a tensor, can use 'tensor.shape'\n",
    "3. Tensors not on the right device - to get device from a tensor, can use 'tensor.device'"
   ],
   "id": "5504dba05243ccef"
  },
  {
   "metadata": {
    "ExecuteTime": {
     "end_time": "2025-07-03T20:23:47.706864Z",
     "start_time": "2025-07-03T20:23:47.703563Z"
    }
   },
   "cell_type": "code",
   "source": [
    "# Create a tensor\n",
    "some_tensor = torch.randn(3, 4)\n",
    "some_tensor"
   ],
   "id": "a4e42fd713df4fd1",
   "outputs": [
    {
     "data": {
      "text/plain": [
       "tensor([[ 0.0840, -0.4836, -1.9516, -1.5015],\n",
       "        [-1.6588,  1.8670,  0.0127,  0.5034],\n",
       "        [ 0.1519, -0.5040,  0.9600,  0.5099]])"
      ]
     },
     "execution_count": 151,
     "metadata": {},
     "output_type": "execute_result"
    }
   ],
   "execution_count": 151
  },
  {
   "metadata": {
    "ExecuteTime": {
     "end_time": "2025-07-03T20:23:47.745865Z",
     "start_time": "2025-07-03T20:23:47.742787Z"
    }
   },
   "cell_type": "code",
   "source": [
    "# Find out details about some tensor\n",
    "print(some_tensor)\n",
    "print(f\"Datatype of tensor: {some_tensor.dtype}\")\n",
    "print(f\"Shape of tensor: {some_tensor.shape}\")\n",
    "print(f\"Device tensor is on: {some_tensor.device}\")\n",
    "\n"
   ],
   "id": "e1b2b9d6e8f06a33",
   "outputs": [
    {
     "name": "stdout",
     "output_type": "stream",
     "text": [
      "tensor([[ 0.0840, -0.4836, -1.9516, -1.5015],\n",
      "        [-1.6588,  1.8670,  0.0127,  0.5034],\n",
      "        [ 0.1519, -0.5040,  0.9600,  0.5099]])\n",
      "Datatype of tensor: torch.float32\n",
      "Shape of tensor: torch.Size([3, 4])\n",
      "Device tensor is on: cpu\n"
     ]
    }
   ],
   "execution_count": 152
  },
  {
   "metadata": {},
   "cell_type": "markdown",
   "source": [
    "### Manipulating Tensors (Tensor operations)\n",
    "\n",
    "Tensor operations include:\n",
    "* Addition\n",
    "* Subtraction\n",
    "* Multiplication (element-wise)\n",
    "* Division\n",
    "* Matrix Multiplication"
   ],
   "id": "94239c60306631cf"
  },
  {
   "metadata": {
    "ExecuteTime": {
     "end_time": "2025-07-03T20:23:47.777674Z",
     "start_time": "2025-07-03T20:23:47.774551Z"
    }
   },
   "cell_type": "code",
   "source": [
    "# Create a tensor and add 10\n",
    "tensor = torch.tensor([1, 2, 3])\n",
    "tensor + 10"
   ],
   "id": "4748a30057e5276b",
   "outputs": [
    {
     "data": {
      "text/plain": [
       "tensor([11, 12, 13])"
      ]
     },
     "execution_count": 153,
     "metadata": {},
     "output_type": "execute_result"
    }
   ],
   "execution_count": 153
  },
  {
   "metadata": {
    "ExecuteTime": {
     "end_time": "2025-07-03T20:23:47.817635Z",
     "start_time": "2025-07-03T20:23:47.814409Z"
    }
   },
   "cell_type": "code",
   "source": [
    "# Create a tensor and multiply by 10\n",
    "tensor = torch.tensor([1, 2, 3])\n",
    "tensor * 10"
   ],
   "id": "8d42de70de70a7ea",
   "outputs": [
    {
     "data": {
      "text/plain": [
       "tensor([10, 20, 30])"
      ]
     },
     "execution_count": 154,
     "metadata": {},
     "output_type": "execute_result"
    }
   ],
   "execution_count": 154
  },
  {
   "metadata": {
    "ExecuteTime": {
     "end_time": "2025-07-03T20:23:47.837449Z",
     "start_time": "2025-07-03T20:23:47.834516Z"
    }
   },
   "cell_type": "code",
   "source": [
    "# Create a tensor and subtract 10\n",
    "tensor = torch.tensor([1, 2, 3])\n",
    "tensor - 10\n"
   ],
   "id": "29b35d5fea12e220",
   "outputs": [
    {
     "data": {
      "text/plain": [
       "tensor([-9, -8, -7])"
      ]
     },
     "execution_count": 155,
     "metadata": {},
     "output_type": "execute_result"
    }
   ],
   "execution_count": 155
  },
  {
   "metadata": {
    "ExecuteTime": {
     "end_time": "2025-07-03T20:23:47.863754Z",
     "start_time": "2025-07-03T20:23:47.860343Z"
    }
   },
   "cell_type": "code",
   "source": [
    "# Try out PyTorch built-in functions (use standard above listed ways when possible)\n",
    "torch.mul(tensor, 10)"
   ],
   "id": "281faec54468e9bd",
   "outputs": [
    {
     "data": {
      "text/plain": [
       "tensor([10, 20, 30])"
      ]
     },
     "execution_count": 156,
     "metadata": {},
     "output_type": "execute_result"
    }
   ],
   "execution_count": 156
  },
  {
   "metadata": {},
   "cell_type": "markdown",
   "source": [
    "### Matrix Multiplication\n",
    "Two main ways of performing multiplication in neural networks and deep learning\n",
    "    <br>1. Element-wise multiplication\n",
    "    <br>2. Matrix multiplication\n",
    "    <br> Two main rules: 1. The inner dimensions must match 2. The resulting matrix, has the dimension of the outer dimensions\n",
    "\n"
   ],
   "id": "77aa6a910e70f68b"
  },
  {
   "metadata": {
    "ExecuteTime": {
     "end_time": "2025-07-03T20:23:47.880824Z",
     "start_time": "2025-07-03T20:23:47.877571Z"
    }
   },
   "cell_type": "code",
   "source": [
    "# Element wise multiplication\n",
    "print(tensor, \" * \", tensor)\n",
    "print(f\"Equals: {tensor * tensor}\")"
   ],
   "id": "f2a8071496c60e02",
   "outputs": [
    {
     "name": "stdout",
     "output_type": "stream",
     "text": [
      "tensor([1, 2, 3])  *  tensor([1, 2, 3])\n",
      "Equals: tensor([1, 4, 9])\n"
     ]
    }
   ],
   "execution_count": 157
  },
  {
   "metadata": {
    "ExecuteTime": {
     "end_time": "2025-07-03T20:23:47.899919Z",
     "start_time": "2025-07-03T20:23:47.897171Z"
    }
   },
   "cell_type": "code",
   "source": [
    "# Matrix multiplication by hand\n",
    "1*1 + 2*2 + 3*3"
   ],
   "id": "a72c3e6745244b5b",
   "outputs": [
    {
     "data": {
      "text/plain": [
       "14"
      ]
     },
     "execution_count": 158,
     "metadata": {},
     "output_type": "execute_result"
    }
   ],
   "execution_count": 158
  },
  {
   "metadata": {
    "ExecuteTime": {
     "end_time": "2025-07-03T20:23:47.918167Z",
     "start_time": "2025-07-03T20:23:47.914490Z"
    }
   },
   "cell_type": "code",
   "source": [
    "%%time\n",
    "value = 0\n",
    "for i in range(len(tensor)):\n",
    "        value += tensor[i] * tensor[i]\n",
    "value"
   ],
   "id": "9c32b2ec54db2ee3",
   "outputs": [
    {
     "name": "stdout",
     "output_type": "stream",
     "text": [
      "CPU times: user 470 μs, sys: 304 μs, total: 774 μs\n",
      "Wall time: 621 μs\n"
     ]
    },
    {
     "data": {
      "text/plain": [
       "tensor(14)"
      ]
     },
     "execution_count": 159,
     "metadata": {},
     "output_type": "execute_result"
    }
   ],
   "execution_count": 159
  },
  {
   "metadata": {
    "ExecuteTime": {
     "end_time": "2025-07-03T20:23:47.940876Z",
     "start_time": "2025-07-03T20:23:47.937478Z"
    }
   },
   "cell_type": "code",
   "source": [
    "%%time\n",
    "torch.matmul(tensor, tensor)"
   ],
   "id": "e5c69e19c694ea",
   "outputs": [
    {
     "name": "stdout",
     "output_type": "stream",
     "text": [
      "CPU times: user 28 μs, sys: 4 μs, total: 32 μs\n",
      "Wall time: 33.1 μs\n"
     ]
    },
    {
     "data": {
      "text/plain": [
       "tensor(14)"
      ]
     },
     "execution_count": 160,
     "metadata": {},
     "output_type": "execute_result"
    }
   ],
   "execution_count": 160
  },
  {
   "metadata": {
    "ExecuteTime": {
     "end_time": "2025-07-03T20:23:47.967968Z",
     "start_time": "2025-07-03T20:23:47.964449Z"
    }
   },
   "cell_type": "code",
   "source": [
    "%%time\n",
    "tensor @ tensor"
   ],
   "id": "acf535d2df635740",
   "outputs": [
    {
     "name": "stdout",
     "output_type": "stream",
     "text": [
      "CPU times: user 285 μs, sys: 237 μs, total: 522 μs\n",
      "Wall time: 440 μs\n"
     ]
    },
    {
     "data": {
      "text/plain": [
       "tensor(14)"
      ]
     },
     "execution_count": 161,
     "metadata": {},
     "output_type": "execute_result"
    }
   ],
   "execution_count": 161
  },
  {
   "metadata": {},
   "cell_type": "markdown",
   "source": [
    "When tensors have shape issues, we can manipulate the shape of one of our tensors using a **transpose**<br>\n",
    "A transpose switches the axes or dimensions of a given tensor\n"
   ],
   "id": "4881001032f76b9e"
  },
  {
   "metadata": {
    "ExecuteTime": {
     "end_time": "2025-07-03T20:23:48.000737Z",
     "start_time": "2025-07-03T20:23:47.996008Z"
    }
   },
   "cell_type": "code",
   "source": [
    "tensor_a = torch.tensor([[1, 2],\n",
    "                        [3, 4],\n",
    "                        [5, 6]])\n",
    "tensor_b = torch.tensor([[7, 8],\n",
    "                        [9, 10],\n",
    "                        [11, 12]])\n",
    "tensor_a @ tensor_b.T\n"
   ],
   "id": "779b6a456671b88e",
   "outputs": [
    {
     "data": {
      "text/plain": [
       "tensor([[ 23,  29,  35],\n",
       "        [ 53,  67,  81],\n",
       "        [ 83, 105, 127]])"
      ]
     },
     "execution_count": 162,
     "metadata": {},
     "output_type": "execute_result"
    }
   ],
   "execution_count": 162
  },
  {
   "metadata": {},
   "cell_type": "markdown",
   "source": "### Finding the min, max, mean, sum, etc (tensor aggregation)",
   "id": "9fcebaa17e5fd290"
  },
  {
   "metadata": {
    "ExecuteTime": {
     "end_time": "2025-07-03T20:23:48.065725Z",
     "start_time": "2025-07-03T20:23:48.062601Z"
    }
   },
   "cell_type": "code",
   "source": [
    "# Create a tensor\n",
    "x = torch.arange(0, 100, 10)\n",
    "x"
   ],
   "id": "e637a4c9a9bc0614",
   "outputs": [
    {
     "data": {
      "text/plain": [
       "tensor([ 0, 10, 20, 30, 40, 50, 60, 70, 80, 90])"
      ]
     },
     "execution_count": 163,
     "metadata": {},
     "output_type": "execute_result"
    }
   ],
   "execution_count": 163
  },
  {
   "metadata": {
    "ExecuteTime": {
     "end_time": "2025-07-03T20:23:48.139448Z",
     "start_time": "2025-07-03T20:23:48.134820Z"
    }
   },
   "cell_type": "code",
   "source": [
    "print(f\"tensor x min is: {x.min()}\")\n",
    "print(f\"tensor x max is: {x.max()}\")\n",
    "print(f\"tensor x data type is: {x.dtype}\")\n",
    "print(f\"tensor x shape is: {x.shape}\")\n",
    "# Must change datatype to float32 instead of long for mean\n",
    "# Wrong data type is another major issue you'll run into with PyTorch\n",
    "print(f\"tensor x mean is: {torch.mean(x.type(torch.float32))}\")\n",
    "\n",
    "\n",
    "\n"
   ],
   "id": "ba4260bddf37fcbf",
   "outputs": [
    {
     "name": "stdout",
     "output_type": "stream",
     "text": [
      "tensor x min is: 0\n",
      "tensor x max is: 90\n",
      "tensor x data type is: torch.int64\n",
      "tensor x shape is: torch.Size([10])\n",
      "tensor x mean is: 45.0\n"
     ]
    }
   ],
   "execution_count": 164
  },
  {
   "metadata": {
    "ExecuteTime": {
     "end_time": "2025-07-03T20:23:48.176842Z",
     "start_time": "2025-07-03T20:23:48.172589Z"
    }
   },
   "cell_type": "code",
   "source": [
    "# Find the position in the tensor that has the minimum value with arginmin() -> returns index position\n",
    "x.argmin()"
   ],
   "id": "47fb298d6d15d792",
   "outputs": [
    {
     "data": {
      "text/plain": [
       "tensor(0)"
      ]
     },
     "execution_count": 165,
     "metadata": {},
     "output_type": "execute_result"
    }
   ],
   "execution_count": 165
  },
  {
   "metadata": {
    "ExecuteTime": {
     "end_time": "2025-07-03T20:23:48.202596Z",
     "start_time": "2025-07-03T20:23:48.199613Z"
    }
   },
   "cell_type": "code",
   "source": "x[9]",
   "id": "7fa21b957d4d07d4",
   "outputs": [
    {
     "data": {
      "text/plain": [
       "tensor(90)"
      ]
     },
     "execution_count": 166,
     "metadata": {},
     "output_type": "execute_result"
    }
   ],
   "execution_count": 166
  },
  {
   "metadata": {
    "ExecuteTime": {
     "end_time": "2025-07-03T20:36:37.831168Z",
     "start_time": "2025-07-03T20:36:37.818100Z"
    }
   },
   "cell_type": "code",
   "source": "x",
   "id": "eb9d6f383e019b37",
   "outputs": [
    {
     "data": {
      "text/plain": [
       "tensor([ 0, 10, 20, 30, 40, 50, 60, 70, 80, 90])"
      ]
     },
     "execution_count": 167,
     "metadata": {},
     "output_type": "execute_result"
    }
   ],
   "execution_count": 167
  },
  {
   "metadata": {},
   "cell_type": "markdown",
   "source": [
    "### Reshaping, stacking, squeezing and unsqueezing tensors\n",
    "<br> * Reshaping - reshapes an input tensor to a defined shape\n",
    "<br> * View Return a view of an input tensor of certain shape but keep the same memory\n",
    "<br> * Stacking - combine multiple tensors on top of eachother (vstack) or side by side (hstack)\n",
    "<br> * Squeeze - Removes all 1 dimensions from a tensor\n",
    "<br> * Unsqueeze - add a 1 dimension to a traget tensor\n",
    "<br> * Return a view of the input with dimensions permuted (swapped) in a certain way"
   ],
   "id": "2361557f0fc5cbdf"
  },
  {
   "metadata": {
    "ExecuteTime": {
     "end_time": "2025-07-03T21:15:35.159532Z",
     "start_time": "2025-07-03T21:15:35.155863Z"
    }
   },
   "cell_type": "code",
   "source": [
    "x = torch.arange(1., 10.)\n",
    "x, x.shape"
   ],
   "id": "996e546b7e664c1",
   "outputs": [
    {
     "data": {
      "text/plain": [
       "(tensor([1., 2., 3., 4., 5., 6., 7., 8., 9.]), torch.Size([9]))"
      ]
     },
     "execution_count": 177,
     "metadata": {},
     "output_type": "execute_result"
    }
   ],
   "execution_count": 177
  },
  {
   "metadata": {
    "ExecuteTime": {
     "end_time": "2025-07-03T21:15:35.876027Z",
     "start_time": "2025-07-03T21:15:35.872619Z"
    }
   },
   "cell_type": "code",
   "source": [
    "# Add an extra dimension\n",
    "x_reshape = x.reshape(1, 9)\n",
    "x_reshape"
   ],
   "id": "8e1083ba7f4be862",
   "outputs": [
    {
     "data": {
      "text/plain": [
       "tensor([[1., 2., 3., 4., 5., 6., 7., 8., 9.]])"
      ]
     },
     "execution_count": 178,
     "metadata": {},
     "output_type": "execute_result"
    }
   ],
   "execution_count": 178
  },
  {
   "metadata": {
    "ExecuteTime": {
     "end_time": "2025-07-03T21:17:28.103751Z",
     "start_time": "2025-07-03T21:17:28.096281Z"
    }
   },
   "cell_type": "code",
   "source": [
    "# Change the view\n",
    "z = x.view(1, 9)\n",
    "z, z.shape"
   ],
   "id": "90cee06340f60faf",
   "outputs": [
    {
     "data": {
      "text/plain": [
       "(tensor([[1., 2., 3., 4., 5., 6., 7., 8., 9.]]), torch.Size([1, 9]))"
      ]
     },
     "execution_count": 180,
     "metadata": {},
     "output_type": "execute_result"
    }
   ],
   "execution_count": 180
  },
  {
   "metadata": {
    "ExecuteTime": {
     "end_time": "2025-07-03T21:18:32.791815Z",
     "start_time": "2025-07-03T21:18:32.778923Z"
    }
   },
   "cell_type": "code",
   "source": [
    "# Changing z changes x (because view of a tensor shares the same memory aas the original)\n",
    "z[:, 0] = 5\n",
    "z, x\n"
   ],
   "id": "ade22b0454dbee67",
   "outputs": [
    {
     "data": {
      "text/plain": [
       "(tensor([[5., 2., 3., 4., 5., 6., 7., 8., 9.]]),\n",
       " tensor([5., 2., 3., 4., 5., 6., 7., 8., 9.]))"
      ]
     },
     "execution_count": 181,
     "metadata": {},
     "output_type": "execute_result"
    }
   ],
   "execution_count": 181
  },
  {
   "metadata": {
    "ExecuteTime": {
     "end_time": "2025-07-03T21:20:30.991957Z",
     "start_time": "2025-07-03T21:20:30.986443Z"
    }
   },
   "cell_type": "code",
   "source": [
    "# Stack tensors on top of eachother\n",
    "x_stacked = torch.stack([x, x, x, x], dim=1)\n",
    "x_stacked"
   ],
   "id": "348e533f0dd9ece6",
   "outputs": [
    {
     "data": {
      "text/plain": [
       "tensor([[5., 5., 5., 5.],\n",
       "        [2., 2., 2., 2.],\n",
       "        [3., 3., 3., 3.],\n",
       "        [4., 4., 4., 4.],\n",
       "        [5., 5., 5., 5.],\n",
       "        [6., 6., 6., 6.],\n",
       "        [7., 7., 7., 7.],\n",
       "        [8., 8., 8., 8.],\n",
       "        [9., 9., 9., 9.]])"
      ]
     },
     "execution_count": 184,
     "metadata": {},
     "output_type": "execute_result"
    }
   ],
   "execution_count": 184
  },
  {
   "metadata": {
    "ExecuteTime": {
     "end_time": "2025-07-04T01:16:49.481210Z",
     "start_time": "2025-07-04T01:16:49.462353Z"
    }
   },
   "cell_type": "code",
   "source": [
    "x = torch.zeros(1, 2, 1, 3, 1)\n",
    "print(\"Original shape:\", x.shape)\n",
    "y = torch.squeeze(x)\n",
    "print(\"Squeezed shape:\", y.shape)\n",
    "# Expected output:\n",
    "# Original shape: torch.Size()\n",
    "# Squeezed shape: torch.Size()"
   ],
   "id": "48acb940cdf6662a",
   "outputs": [
    {
     "name": "stdout",
     "output_type": "stream",
     "text": [
      "Original shape: torch.Size([1, 2, 1, 3, 1])\n",
      "Squeezed shape: torch.Size([2, 3])\n"
     ]
    }
   ],
   "execution_count": 198
  },
  {
   "metadata": {
    "ExecuteTime": {
     "end_time": "2025-07-04T01:16:50.574094Z",
     "start_time": "2025-07-04T01:16:50.566752Z"
    }
   },
   "cell_type": "code",
   "source": [
    "# torch.squeeze() - removes all single dimensions from a target tensor\n",
    "x = torch.tensor([[1, 2, 3, 4, 5, 6, 7, 8, 9]])\n",
    "x"
   ],
   "id": "54f334dd4c4fe160",
   "outputs": [
    {
     "data": {
      "text/plain": [
       "tensor([[1, 2, 3, 4, 5, 6, 7, 8, 9]])"
      ]
     },
     "execution_count": 199,
     "metadata": {},
     "output_type": "execute_result"
    }
   ],
   "execution_count": 199
  },
  {
   "metadata": {
    "ExecuteTime": {
     "end_time": "2025-07-04T01:28:10.011890Z",
     "start_time": "2025-07-04T01:28:10.008017Z"
    }
   },
   "cell_type": "code",
   "source": "x.squeeze().shape",
   "id": "5db85bbcc69fdf04",
   "outputs": [
    {
     "data": {
      "text/plain": [
       "torch.Size([9])"
      ]
     },
     "execution_count": 210,
     "metadata": {},
     "output_type": "execute_result"
    }
   ],
   "execution_count": 210
  },
  {
   "metadata": {
    "ExecuteTime": {
     "end_time": "2025-07-04T01:28:11.513474Z",
     "start_time": "2025-07-04T01:28:11.510422Z"
    }
   },
   "cell_type": "code",
   "source": [
    "# torch.unsqueeze() - adds a single dimension to a target tensor at a specific dim\n",
    "x.shape, x.unsqueeze(dim=0).shape"
   ],
   "id": "15f77bb37370414d",
   "outputs": [
    {
     "data": {
      "text/plain": [
       "(torch.Size([1, 9]), torch.Size([1, 1, 9]))"
      ]
     },
     "execution_count": 211,
     "metadata": {},
     "output_type": "execute_result"
    }
   ],
   "execution_count": 211
  },
  {
   "metadata": {
    "ExecuteTime": {
     "end_time": "2025-07-04T01:33:46.108035Z",
     "start_time": "2025-07-04T01:33:46.103036Z"
    }
   },
   "cell_type": "code",
   "source": [
    "# torch.permute - rearranges the dimensions of a target tensor in a specified order\n",
    "x_original = torch.rand(size=(224,224,3)) # [Height, width, color_channels]\n",
    "\n",
    "# Permute the original tensor to rearrange the axis (or dim) order\n",
    "x_permuted = x_original.permute(2, 0, 1) # Shifts axis 0->1, 1->2, 2->0\n",
    "print(f\"Previous shape: {x_original.shape}\")\n",
    "print(f\"New shape: {x_permuted.shape}\") #[color_channels, height, width]"
   ],
   "id": "97d1f0b6d349c166",
   "outputs": [
    {
     "name": "stdout",
     "output_type": "stream",
     "text": [
      "Previous shape: torch.Size([224, 224, 3])\n",
      "New shape: torch.Size([3, 224, 224])\n"
     ]
    }
   ],
   "execution_count": 219
  },
  {
   "metadata": {},
   "cell_type": "markdown",
   "source": [
    "### Indexing (selecting data from tensors\n",
    "Indexing with PyTorch is similiar to indexing with NumPy"
   ],
   "id": "74f47dc2ec114259"
  },
  {
   "metadata": {
    "ExecuteTime": {
     "end_time": "2025-07-04T01:47:48.417654Z",
     "start_time": "2025-07-04T01:47:48.400479Z"
    }
   },
   "cell_type": "code",
   "source": [
    "# Create Tensor\n",
    "x = torch.arange(start=1, end=10).reshape(1, 3, 3)\n",
    "x, x.shape"
   ],
   "id": "e7be924264a8fc93",
   "outputs": [
    {
     "data": {
      "text/plain": [
       "(tensor([[[1, 2, 3],\n",
       "          [4, 5, 6],\n",
       "          [7, 8, 9]]]),\n",
       " torch.Size([1, 3, 3]))"
      ]
     },
     "execution_count": 224,
     "metadata": {},
     "output_type": "execute_result"
    }
   ],
   "execution_count": 224
  },
  {
   "metadata": {
    "ExecuteTime": {
     "end_time": "2025-07-04T01:48:50.509607Z",
     "start_time": "2025-07-04T01:48:50.506156Z"
    }
   },
   "cell_type": "code",
   "source": [
    "# Let's index on our new tensor\n",
    "x[0]"
   ],
   "id": "dab346887a595ef5",
   "outputs": [
    {
     "data": {
      "text/plain": [
       "tensor([[1, 2, 3],\n",
       "        [4, 5, 6],\n",
       "        [7, 8, 9]])"
      ]
     },
     "execution_count": 229,
     "metadata": {},
     "output_type": "execute_result"
    }
   ],
   "execution_count": 229
  },
  {
   "metadata": {
    "ExecuteTime": {
     "end_time": "2025-07-04T01:51:01.416863Z",
     "start_time": "2025-07-04T01:51:01.412855Z"
    }
   },
   "cell_type": "code",
   "source": [
    "# Lets index on the middle bracket (dim=1)\n",
    "x[0][0]"
   ],
   "id": "cf2303215504b98c",
   "outputs": [
    {
     "data": {
      "text/plain": [
       "tensor([1, 2, 3])"
      ]
     },
     "execution_count": 235,
     "metadata": {},
     "output_type": "execute_result"
    }
   ],
   "execution_count": 235
  },
  {
   "metadata": {
    "ExecuteTime": {
     "end_time": "2025-07-04T01:54:20.075229Z",
     "start_time": "2025-07-04T01:54:20.071185Z"
    }
   },
   "cell_type": "code",
   "source": [
    "# Lets index on the most bracket (last dim)\n",
    "x[0][0][0] # x[0, 0, 0] also works"
   ],
   "id": "df07d2e49e1c03f3",
   "outputs": [
    {
     "data": {
      "text/plain": [
       "tensor(5)"
      ]
     },
     "execution_count": 239,
     "metadata": {},
     "output_type": "execute_result"
    }
   ],
   "execution_count": 239
  },
  {
   "metadata": {
    "ExecuteTime": {
     "end_time": "2025-07-04T02:02:01.930828Z",
     "start_time": "2025-07-04T02:02:01.918586Z"
    }
   },
   "cell_type": "code",
   "source": [
    "# Get all values of the 0th and 1st dimension but only index 1 of 2nd dimension\n",
    "x[:, :, 1]"
   ],
   "id": "9c1b73ca662ab37",
   "outputs": [
    {
     "data": {
      "text/plain": [
       "tensor([[2, 5, 8]])"
      ]
     },
     "execution_count": 240,
     "metadata": {},
     "output_type": "execute_result"
    }
   ],
   "execution_count": 240
  },
  {
   "metadata": {
    "ExecuteTime": {
     "end_time": "2025-07-04T02:02:38.523974Z",
     "start_time": "2025-07-04T02:02:38.520332Z"
    }
   },
   "cell_type": "code",
   "source": [
    "# Get all values of the 0th but only the 1 index value of 1st and 2nd dimension\n",
    "x[:, 1, 1]"
   ],
   "id": "60fb656a40674be7",
   "outputs": [
    {
     "data": {
      "text/plain": [
       "tensor([5])"
      ]
     },
     "execution_count": 241,
     "metadata": {},
     "output_type": "execute_result"
    }
   ],
   "execution_count": 241
  },
  {
   "metadata": {
    "ExecuteTime": {
     "end_time": "2025-07-04T02:04:03.816276Z",
     "start_time": "2025-07-04T02:04:03.811868Z"
    }
   },
   "cell_type": "code",
   "source": "x[:, 2, 2]\n",
   "id": "d7b29ed24275bc78",
   "outputs": [
    {
     "data": {
      "text/plain": [
       "tensor([9])"
      ]
     },
     "execution_count": 247,
     "metadata": {},
     "output_type": "execute_result"
    }
   ],
   "execution_count": 247
  },
  {
   "metadata": {},
   "cell_type": "markdown",
   "source": [
    "### PyTorch tensors & NumPy\n",
    "\n",
    "* Data in NumPy, want in Pytorch tensor -> 'torch.from_numpy(ndarray)'\n",
    "* Pytorch tensor -> NumPy -> 'torch.tensor.numpy()'\n"
   ],
   "id": "eb0b73685e0e7d78"
  },
  {
   "metadata": {
    "ExecuteTime": {
     "end_time": "2025-07-04T02:10:29.685045Z",
     "start_time": "2025-07-04T02:10:29.681130Z"
    }
   },
   "cell_type": "code",
   "source": [
    "array = np.arange(1.0, 8.0)\n",
    "tensor = torch.from_numpy(array)\n",
    "tensor, array\n",
    "# Be aware NumPy to pytorch default is float64, while PyTorch is normally float32"
   ],
   "id": "dc1f61ad7f12d534",
   "outputs": [
    {
     "data": {
      "text/plain": [
       "(tensor([1., 2., 3., 4., 5., 6., 7.], dtype=torch.float64),\n",
       " array([1., 2., 3., 4., 5., 6., 7.]))"
      ]
     },
     "execution_count": 250,
     "metadata": {},
     "output_type": "execute_result"
    }
   ],
   "execution_count": 250
  }
 ],
 "metadata": {
  "kernelspec": {
   "display_name": "Python 3",
   "language": "python",
   "name": "python3"
  },
  "language_info": {
   "codemirror_mode": {
    "name": "ipython",
    "version": 2
   },
   "file_extension": ".py",
   "mimetype": "text/x-python",
   "name": "python",
   "nbconvert_exporter": "python",
   "pygments_lexer": "ipython2",
   "version": "2.7.6"
  }
 },
 "nbformat": 4,
 "nbformat_minor": 5
}
